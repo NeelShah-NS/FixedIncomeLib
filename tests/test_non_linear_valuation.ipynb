{
 "cells": [
  {
   "cell_type": "markdown",
   "id": "78821aeb",
   "metadata": {},
   "source": [
    "# Testing Non-Linear Products Valuation\n",
    "\n",
    "This notebook walks through:\n",
    "\n",
    "1. Loading historical index fixings  \n",
    "2. Building a simple two-index yield curve  \n",
    "3. Building **classic** SABR surfaces (no product split)  \n",
    "4. Pricing IBOR caplets/floors and swaptions using classic Hagan SABR  \n",
    "5. Building **top-down** SABR surfaces for SOFR (CAPLET vs SWAPTION)  \n",
    "6. Pricing RFR caplets/swaptions using top-down SABR  \n"
   ]
  },
  {
   "cell_type": "markdown",
   "id": "c1f4325d",
   "metadata": {},
   "source": [
    "# 1. Imports & Setup"
   ]
  },
  {
   "cell_type": "code",
   "execution_count": 1,
   "id": "e8777c27",
   "metadata": {},
   "outputs": [
    {
     "name": "stdout",
     "output_type": "stream",
     "text": [
      "Setup complete.\n"
     ]
    }
   ],
   "source": [
    "import pandas as pd\n",
    "from fixedincomelib.yield_curve import YieldCurve\n",
    "from fixedincomelib.sabr import SabrModel\n",
    "from fixedincomelib.valuation import IndexManager, ValuationEngineRegistry\n",
    "from fixedincomelib.product import (\n",
    "    ProductIborCapFloorlet, ProductOvernightCapFloorlet,\n",
    "    ProductIborCapFloor,   ProductOvernightCapFloor,\n",
    "    ProductIborSwaption,   ProductOvernightSwaption\n",
    ")\n",
    "from fixedincomelib.analytics import SABRCalculator\n",
    "from fixedincomelib.data import DataCollection, Data1D, Data2D\n",
    "\n",
    "print(\"Setup complete.\")"
   ]
  },
  {
   "cell_type": "markdown",
   "id": "c300b3a8",
   "metadata": {},
   "source": [
    "## 2) Load Index Fixings\n",
    "\n",
    "On first call, `IndexManager.instance()` will read **`fixing/fixings.csv`** and populate its in-memory registry."
   ]
  },
  {
   "cell_type": "code",
   "execution_count": 2,
   "id": "4f1c62a0",
   "metadata": {},
   "outputs": [
    {
     "name": "stdout",
     "output_type": "stream",
     "text": [
      "Loaded indices: ['SOFR-1B', 'USD-LIBOR-3M', 'SONIA-1B']\n"
     ]
    }
   ],
   "source": [
    "mgr = IndexManager.instance()\n",
    "print(\"Loaded indices:\", list(mgr._fixings.keys()))\n"
   ]
  },
  {
   "cell_type": "markdown",
   "id": "0e18f060",
   "metadata": {},
   "source": [
    "## 3) Build Dummy Yield Curve\n",
    "\n",
    "We use two indices (SOFR-1B and USD-LIBOR-BBA-1M) with piecewise-constant interpolation.\n"
   ]
  },
  {
   "cell_type": "code",
   "execution_count": 3,
   "id": "5c95c904",
   "metadata": {},
   "outputs": [],
   "source": [
    "curve_data = [\n",
    "    [\"SOFR-1B\",            \"1M\",  0.0020],\n",
    "    [\"SOFR-1B\",            \"3M\",  0.0025],\n",
    "    [\"SOFR-1B\",            \"6M\",  0.0030],\n",
    "    [\"USD-LIBOR-BBA-1M\",   \"1M\",  0.0040],\n",
    "    [\"USD-LIBOR-BBA-1M\",   \"3M\",  0.00425],\n",
    "    [\"USD-LIBOR-BBA-1M\",   \"6M\",  0.00450],\n",
    "]\n",
    "df_curve = pd.DataFrame(curve_data, columns=[\"INDEX\",\"AXIS1\",\"VALUES\"])\n",
    "\n",
    "build_methods_curve = [\n",
    "  {\n",
    "    \"TARGET\":              \"SOFR-1B\",\n",
    "    \"INTERPOLATION METHOD\":\"PIECEWISE_CONSTANT\"\n",
    "  },\n",
    "  {\n",
    "    \"TARGET\":              \"USD-LIBOR-BBA-1M\",\n",
    "    \"INTERPOLATION METHOD\":\"PIECEWISE_CONSTANT\"\n",
    "  },\n",
    "]\n"
   ]
  },
  {
   "cell_type": "code",
   "execution_count": 4,
   "id": "de4f02f2",
   "metadata": {},
   "outputs": [
    {
     "ename": "ValueError",
     "evalue": "build_method must include a non-empty 'INSTRUMENTS' list.",
     "output_type": "error",
     "traceback": [
      "\u001b[1;31m---------------------------------------------------------------------------\u001b[0m",
      "\u001b[1;31mValueError\u001b[0m                                Traceback (most recent call last)",
      "Cell \u001b[1;32mIn[4], line 18\u001b[0m\n\u001b[0;32m     15\u001b[0m dc \u001b[38;5;241m=\u001b[39m DataCollection(data_objs)\n\u001b[0;32m     17\u001b[0m \u001b[38;5;66;03m# 3) now build the curve from the DataCollection\u001b[39;00m\n\u001b[1;32m---> 18\u001b[0m yc \u001b[38;5;241m=\u001b[39m \u001b[43mYieldCurve\u001b[49m\u001b[43m(\u001b[49m\u001b[43mvalueDate\u001b[49m\u001b[43m,\u001b[49m\u001b[43m \u001b[49m\u001b[43mdc\u001b[49m\u001b[43m,\u001b[49m\u001b[43m \u001b[49m\u001b[43mbuild_methods_curve\u001b[49m\u001b[43m)\u001b[49m\n\u001b[0;32m     19\u001b[0m \u001b[38;5;28mprint\u001b[39m(\u001b[38;5;124m\"\u001b[39m\u001b[38;5;124mYieldCurve built. Components:\u001b[39m\u001b[38;5;124m\"\u001b[39m, yc\u001b[38;5;241m.\u001b[39mcomponents\u001b[38;5;241m.\u001b[39mkeys())\n",
      "File \u001b[1;32m~\\OneDrive\\Desktop\\Capstone_Project\\FixedIncomeLib\\fixedincomelib\\yield_curve\\yield_curve_model.py:19\u001b[0m, in \u001b[0;36mYieldCurve.__init__\u001b[1;34m(self, valueDate, dataCollection, buildMethodCollection)\u001b[0m\n\u001b[0;32m     18\u001b[0m \u001b[38;5;28;01mdef\u001b[39;00m\u001b[38;5;250m \u001b[39m\u001b[38;5;21m__init__\u001b[39m(\u001b[38;5;28mself\u001b[39m, valueDate: \u001b[38;5;28mstr\u001b[39m, dataCollection: DataCollection, buildMethodCollection: \u001b[38;5;28mlist\u001b[39m) \u001b[38;5;241m-\u001b[39m\u001b[38;5;241m>\u001b[39m \u001b[38;5;28;01mNone\u001b[39;00m:\n\u001b[1;32m---> 19\u001b[0m     \u001b[38;5;28;43msuper\u001b[39;49m\u001b[43m(\u001b[49m\u001b[43m)\u001b[49m\u001b[38;5;241;43m.\u001b[39;49m\u001b[38;5;21;43m__init__\u001b[39;49m\u001b[43m(\u001b[49m\u001b[43mvalueDate\u001b[49m\u001b[43m,\u001b[49m\u001b[43m \u001b[49m\u001b[38;5;124;43m'\u001b[39;49m\u001b[38;5;124;43mYIELD_CURVE\u001b[39;49m\u001b[38;5;124;43m'\u001b[39;49m\u001b[43m,\u001b[49m\u001b[43m \u001b[49m\u001b[43mdataCollection\u001b[49m\u001b[43m,\u001b[49m\u001b[43m \u001b[49m\u001b[43mbuildMethodCollection\u001b[49m\u001b[43m)\u001b[49m\n\u001b[0;32m     20\u001b[0m     \u001b[38;5;28mself\u001b[39m\u001b[38;5;241m.\u001b[39mgradient_labels_: List[\u001b[38;5;28mstr\u001b[39m] \u001b[38;5;241m=\u001b[39m []\n\u001b[0;32m     21\u001b[0m     \u001b[38;5;28mself\u001b[39m\u001b[38;5;241m.\u001b[39mgradient_offsets_: np\u001b[38;5;241m.\u001b[39mndarray \u001b[38;5;241m=\u001b[39m np\u001b[38;5;241m.\u001b[39mzeros(\u001b[38;5;241m1\u001b[39m, dtype\u001b[38;5;241m=\u001b[39m\u001b[38;5;28mint\u001b[39m)\n",
      "File \u001b[1;32m~\\OneDrive\\Desktop\\Capstone_Project\\FixedIncomeLib\\fixedincomelib\\model\\model.py:63\u001b[0m, in \u001b[0;36mModel.__init__\u001b[1;34m(self, valueDate, modelType, dataCollection, buildMethodCollection)\u001b[0m\n\u001b[0;32m     60\u001b[0m \u001b[38;5;28;01mif\u001b[39;00m prod:\n\u001b[0;32m     61\u001b[0m     key \u001b[38;5;241m=\u001b[39m \u001b[38;5;124mf\u001b[39m\u001b[38;5;124m\"\u001b[39m\u001b[38;5;132;01m{\u001b[39;00mkey\u001b[38;5;132;01m}\u001b[39;00m\u001b[38;5;124m-\u001b[39m\u001b[38;5;132;01m{\u001b[39;00mprod\u001b[38;5;132;01m}\u001b[39;00m\u001b[38;5;124m\"\u001b[39m\u001b[38;5;241m.\u001b[39mupper()\n\u001b[1;32m---> 63\u001b[0m \u001b[38;5;28mself\u001b[39m\u001b[38;5;241m.\u001b[39mcomponents[key] \u001b[38;5;241m=\u001b[39m \u001b[38;5;28;43mself\u001b[39;49m\u001b[38;5;241;43m.\u001b[39;49m\u001b[43mnewModelComponent\u001b[49m\u001b[43m(\u001b[49m\u001b[43mthis_bm\u001b[49m\u001b[43m)\u001b[49m\n",
      "File \u001b[1;32m~\\OneDrive\\Desktop\\Capstone_Project\\FixedIncomeLib\\fixedincomelib\\yield_curve\\yield_curve_model.py:77\u001b[0m, in \u001b[0;36mYieldCurve.newModelComponent\u001b[1;34m(self, buildMethod)\u001b[0m\n\u001b[0;32m     76\u001b[0m \u001b[38;5;28;01mdef\u001b[39;00m\u001b[38;5;250m \u001b[39m\u001b[38;5;21mnewModelComponent\u001b[39m(\u001b[38;5;28mself\u001b[39m, buildMethod: \u001b[38;5;28mdict\u001b[39m):\n\u001b[1;32m---> 77\u001b[0m     \u001b[38;5;28;01mreturn\u001b[39;00m \u001b[43mYieldCurveModelComponent\u001b[49m\u001b[43m(\u001b[49m\u001b[38;5;28;43mself\u001b[39;49m\u001b[38;5;241;43m.\u001b[39;49m\u001b[43mvalueDate\u001b[49m\u001b[43m,\u001b[49m\u001b[43m \u001b[49m\u001b[38;5;28;43mself\u001b[39;49m\u001b[38;5;241;43m.\u001b[39;49m\u001b[43mdataCollection\u001b[49m\u001b[43m,\u001b[49m\u001b[43m \u001b[49m\u001b[43mbuildMethod\u001b[49m\u001b[43m,\u001b[49m\u001b[43m \u001b[49m\u001b[43mparent_model\u001b[49m\u001b[38;5;241;43m=\u001b[39;49m\u001b[38;5;28;43mself\u001b[39;49m\u001b[43m)\u001b[49m\n",
      "File \u001b[1;32m~\\OneDrive\\Desktop\\Capstone_Project\\FixedIncomeLib\\fixedincomelib\\yield_curve\\yield_curve_model.py:295\u001b[0m, in \u001b[0;36mYieldCurveModelComponent.__init__\u001b[1;34m(self, valueDate, dataCollection, buildMethod, parent_model)\u001b[0m\n\u001b[0;32m    292\u001b[0m     \u001b[38;5;28mself\u001b[39m\u001b[38;5;241m.\u001b[39m_model\u001b[38;5;241m.\u001b[39mcomponents[key] \u001b[38;5;241m=\u001b[39m \u001b[38;5;28mself\u001b[39m\n\u001b[0;32m    293\u001b[0m     \u001b[38;5;28mself\u001b[39m\u001b[38;5;241m.\u001b[39m_model\u001b[38;5;241m.\u001b[39mcomponents[key\u001b[38;5;241m.\u001b[39mupper()] \u001b[38;5;241m=\u001b[39m \u001b[38;5;28mself\u001b[39m\n\u001b[1;32m--> 295\u001b[0m \u001b[38;5;28;43mself\u001b[39;49m\u001b[38;5;241;43m.\u001b[39;49m\u001b[43mcalibrate\u001b[49m\u001b[43m(\u001b[49m\u001b[43m)\u001b[49m\n",
      "File \u001b[1;32m~\\OneDrive\\Desktop\\Capstone_Project\\FixedIncomeLib\\fixedincomelib\\yield_curve\\yield_curve_model.py:298\u001b[0m, in \u001b[0;36mYieldCurveModelComponent.calibrate\u001b[1;34m(self)\u001b[0m\n\u001b[0;32m    297\u001b[0m \u001b[38;5;28;01mdef\u001b[39;00m\u001b[38;5;250m \u001b[39m\u001b[38;5;21mcalibrate\u001b[39m(\u001b[38;5;28mself\u001b[39m):\n\u001b[1;32m--> 298\u001b[0m     calibration_instruments \u001b[38;5;241m=\u001b[39m \u001b[43mbuild_yc_calibration_basket_from_dc\u001b[49m\u001b[43m(\u001b[49m\n\u001b[0;32m    299\u001b[0m \u001b[43m        \u001b[49m\u001b[43mvalue_date\u001b[49m\u001b[38;5;241;43m=\u001b[39;49m\u001b[38;5;28;43mself\u001b[39;49m\u001b[38;5;241;43m.\u001b[39;49m\u001b[43mvalueDate_\u001b[49m\u001b[43m,\u001b[49m\n\u001b[0;32m    300\u001b[0m \u001b[43m        \u001b[49m\u001b[43mdata_collection\u001b[49m\u001b[38;5;241;43m=\u001b[39;49m\u001b[38;5;28;43mself\u001b[39;49m\u001b[38;5;241;43m.\u001b[39;49m\u001b[43mdataCollection\u001b[49m\u001b[43m,\u001b[49m\n\u001b[0;32m    301\u001b[0m \u001b[43m        \u001b[49m\u001b[43mbuild_method\u001b[49m\u001b[38;5;241;43m=\u001b[39;49m\u001b[38;5;28;43mself\u001b[39;49m\u001b[38;5;241;43m.\u001b[39;49m\u001b[43mbuildMethod_\u001b[49m\u001b[43m,\u001b[49m\n\u001b[0;32m    302\u001b[0m \u001b[43m    \u001b[49m\u001b[43m)\u001b[49m\n\u001b[0;32m    304\u001b[0m     anchors, times, pillar_instruments \u001b[38;5;241m=\u001b[39m build_anchor_pillars(\u001b[38;5;28mlist\u001b[39m(calibration_instruments),\u001b[38;5;28mself\u001b[39m\u001b[38;5;241m.\u001b[39mvalueDate_)\n\u001b[0;32m    305\u001b[0m     \u001b[38;5;28mself\u001b[39m\u001b[38;5;241m.\u001b[39mpillarDates \u001b[38;5;241m=\u001b[39m anchors\n",
      "File \u001b[1;32m~\\OneDrive\\Desktop\\Capstone_Project\\FixedIncomeLib\\fixedincomelib\\builders\\basket_builders.py:68\u001b[0m, in \u001b[0;36mbuild_yc_calibration_basket_from_dc\u001b[1;34m(value_date, data_collection, build_method)\u001b[0m\n\u001b[0;32m     66\u001b[0m insts \u001b[38;5;241m=\u001b[39m build_method\u001b[38;5;241m.\u001b[39mget(\u001b[38;5;124m\"\u001b[39m\u001b[38;5;124mINSTRUMENTS\u001b[39m\u001b[38;5;124m\"\u001b[39m, [])\n\u001b[0;32m     67\u001b[0m \u001b[38;5;28;01mif\u001b[39;00m \u001b[38;5;129;01mnot\u001b[39;00m insts:\n\u001b[1;32m---> 68\u001b[0m     \u001b[38;5;28;01mraise\u001b[39;00m \u001b[38;5;167;01mValueError\u001b[39;00m(\u001b[38;5;124m\"\u001b[39m\u001b[38;5;124mbuild_method must include a non-empty \u001b[39m\u001b[38;5;124m'\u001b[39m\u001b[38;5;124mINSTRUMENTS\u001b[39m\u001b[38;5;124m'\u001b[39m\u001b[38;5;124m list.\u001b[39m\u001b[38;5;124m\"\u001b[39m)\n\u001b[0;32m     70\u001b[0m data_objs \u001b[38;5;241m=\u001b[39m _collect_data1d_from_dc(data_collection, insts)\n\u001b[0;32m     72\u001b[0m \u001b[38;5;28;01mif\u001b[39;00m \u001b[38;5;129;01mnot\u001b[39;00m data_objs:\n",
      "\u001b[1;31mValueError\u001b[0m: build_method must include a non-empty 'INSTRUMENTS' list."
     ]
    }
   ],
   "source": [
    "valueDate = \"2025-06-26\"\n",
    "\n",
    "# start with an empty list\n",
    "data_objs = []\n",
    "\n",
    "# ZERO-RATE CURVES\n",
    "for idx_name, sub in df_curve.groupby(\"INDEX\"):\n",
    "    d1 = Data1D.createDataObject(\n",
    "        data_type       = \"zero_rate\",        # lowercase!\n",
    "        data_convention = idx_name,\n",
    "        df              = sub[[\"AXIS1\",\"VALUES\"]]\n",
    "    )\n",
    "    data_objs.append(d1)\n",
    "\n",
    "dc = DataCollection(data_objs)\n",
    "\n",
    "# 3) now build the curve from the DataCollection\n",
    "yc = YieldCurve(valueDate, dc, build_methods_curve)\n",
    "print(\"YieldCurve built. Components:\", yc.components.keys())"
   ]
  },
  {
   "cell_type": "markdown",
   "id": "7e9e9b70",
   "metadata": {},
   "source": [
    "## 4) Build Dummy SABR Model\n",
    "\n",
    "We’ll calibrate a flat SABR surface for USD-LIBOR-BBA-1M so that our caplets can be priced."
   ]
  },
  {
   "cell_type": "code",
   "execution_count": null,
   "id": "1179a20c",
   "metadata": {},
   "outputs": [],
   "source": [
    "sabr_libor = pd.DataFrame([\n",
    "    [\"USD-LIBOR-BBA-1M\", 0.25, 0.25, 0.015, 0.5, 0.2, -0.3],\n",
    "    [\"USD-LIBOR-BBA-1M\", 0.25, 1.00, 0.017, 0.5, 0.2, -0.3],\n",
    "    [\"USD-LIBOR-BBA-1M\", 1.00, 0.25, 0.018, 0.5, 0.2, -0.3],\n",
    "    [\"USD-LIBOR-BBA-1M\", 1.00, 1.00, 0.020, 0.5, 0.2, -0.3],\n",
    "], columns=[\"INDEX\",\"AXIS1\",\"AXIS2\",\"NORMALVOL\",\"BETA\",\"NU\",\"RHO\"])\n",
    "\n",
    "sabr_sofr = pd.DataFrame([\n",
    "    [\"SOFR-1B\", 0.25, 0.25, 0.010, 0.5, 0.2, -0.1],\n",
    "    [\"SOFR-1B\", 0.25, 1.00, 0.012, 0.5, 0.2, -0.1],\n",
    "    [\"SOFR-1B\", 1.00, 0.25, 0.013, 0.5, 0.2, -0.1],\n",
    "    [\"SOFR-1B\", 1.00, 1.00, 0.015, 0.5, 0.2, -0.1],\n",
    "], columns=sabr_libor.columns)\n",
    "\n",
    "sabr_data = pd.concat([sabr_libor, sabr_sofr], ignore_index=True)"
   ]
  },
  {
   "cell_type": "code",
   "execution_count": null,
   "id": "c3e2a24a",
   "metadata": {},
   "outputs": [],
   "source": [
    "for idx_name, sub in sabr_data.groupby(\"INDEX\"):\n",
    "    for param in [\"NORMALVOL\",\"BETA\",\"NU\",\"RHO\"]:\n",
    "        pivot = (\n",
    "            sub\n",
    "            .pivot(index=\"AXIS1\", columns=\"AXIS2\", values=param)\n",
    "            .sort_index(axis=0).sort_index(axis=1)\n",
    "        )\n",
    "        d2 = Data2D.createDataObject(\n",
    "            data_type       = param.lower(),   # e.g. \"normalvol\"\n",
    "            data_convention = idx_name,\n",
    "            df              = pivot\n",
    "        )\n",
    "        data_objs.append(d2)\n",
    "\n",
    "# 6) Rebuild registry & classic‐SABR model\n",
    "dc = DataCollection(data_objs)"
   ]
  },
  {
   "cell_type": "code",
   "execution_count": null,
   "id": "8f530fa4",
   "metadata": {},
   "outputs": [
    {
     "name": "stdout",
     "output_type": "stream",
     "text": [
      "Classic SABR components: dict_keys(['USD-LIBOR-BBA-1M-NORMALVOL', 'USD-LIBOR-BBA-1M-BETA', 'USD-LIBOR-BBA-1M-NU', 'USD-LIBOR-BBA-1M-RHO', 'SOFR-1B-NORMALVOL', 'SOFR-1B-BETA', 'SOFR-1B-NU', 'SOFR-1B-RHO'])\n"
     ]
    }
   ],
   "source": [
    "classic_build_methods = [\n",
    "    {\n",
    "      \"TARGET\":        idx,\n",
    "      \"VALUES\":     param,\n",
    "      \"INTERPOLATION\": \"LINEAR\",\n",
    "      \"SHIFT\":         0.0,\n",
    "      \"VOL_DECAY_SPEED\": 0.2\n",
    "    }\n",
    "    for idx in sabr_data[\"INDEX\"].unique()\n",
    "    for param in [\"NORMALVOL\",\"BETA\",\"NU\",\"RHO\"]\n",
    "]\n",
    "\n",
    "classic_sabr = SabrModel.from_curve(\n",
    "    valueDate             = valueDate,\n",
    "    dataCollection        = dc,\n",
    "    buildMethodCollection = classic_build_methods,\n",
    "    ycModel               = yc\n",
    ")\n",
    "print(\"Classic SABR components:\", classic_sabr.components.keys())\n"
   ]
  },
  {
   "cell_type": "markdown",
   "id": "73db23c2",
   "metadata": {},
   "source": [
    "## 5) Price with Classic SABR"
   ]
  },
  {
   "cell_type": "code",
   "execution_count": null,
   "id": "fa928ba6",
   "metadata": {},
   "outputs": [
    {
     "name": "stdout",
     "output_type": "stream",
     "text": [
      "IBOR Caplet PV (classic): ['USD', np.float64(9.576384160647141e-07)]\n"
     ]
    }
   ],
   "source": [
    "caplet_ibor = ProductIborCapFloorlet(\n",
    "    startDate   =\"2025-07-01\",\n",
    "    endDate     =\"2025-10-01\",\n",
    "    index       =\"USD-LIBOR-BBA-1M\",\n",
    "    optionType  =\"CAP\",\n",
    "    strike      =0.02,\n",
    "    notional    =1_000_000,\n",
    "    longOrShort =\"LONG\"\n",
    ")\n",
    "\n",
    "ve1 = ValuationEngineRegistry().new_valuation_engine(\n",
    "    classic_sabr,\n",
    "    {\"SABR_METHOD\": None},\n",
    "    caplet_ibor\n",
    ")\n",
    "ve1.calculateValue()\n",
    "print(\"IBOR Caplet PV (classic):\", ve1.value)"
   ]
  },
  {
   "cell_type": "code",
   "execution_count": null,
   "id": "d484f27c",
   "metadata": {},
   "outputs": [
    {
     "name": "stdout",
     "output_type": "stream",
     "text": [
      "IBOR Swaption PV (classic): ['USD', np.float64(21946381354.200516)]\n"
     ]
    }
   ],
   "source": [
    "swaption_ibor = ProductIborSwaption(\n",
    "    optionExpiry=\"2025-12-01\",\n",
    "    swapStart   =\"2026-01-01\",\n",
    "    swapEnd     =\"2031-01-01\",\n",
    "    frequency   =\"3M\",\n",
    "    iborIndex   =\"USD-LIBOR-BBA-1M\",\n",
    "    strikeRate  =0.0175,\n",
    "    notional    =1_000_000,\n",
    "    longOrShort =\"LONG\",\n",
    "    optionType  =\"PAYER\"\n",
    ")\n",
    "\n",
    "ve2 = ValuationEngineRegistry().new_valuation_engine(\n",
    "    classic_sabr,\n",
    "    {\"SABR_METHOD\": None},\n",
    "    swaption_ibor\n",
    ")\n",
    "ve2.calculateValue()\n",
    "print(\"IBOR Swaption PV (classic):\", ve2.value)"
   ]
  },
  {
   "cell_type": "code",
   "execution_count": null,
   "id": "ebcc848d",
   "metadata": {},
   "outputs": [
    {
     "name": "stdout",
     "output_type": "stream",
     "text": [
      "IBOR Swaption PV: ['USD', np.float64(21946381354.200516)]\n"
     ]
    }
   ],
   "source": [
    "swaption_ibor = ProductIborSwaption(\n",
    "    optionExpiry=\"2025-12-01\",\n",
    "    swapStart   =\"2026-01-01\",\n",
    "    swapEnd     =\"2031-01-01\",\n",
    "    frequency   =\"3M\",\n",
    "    iborIndex   =\"USD-LIBOR-BBA-1M\",\n",
    "    strikeRate  =0.0175,\n",
    "    notional    =1000000,\n",
    "    longOrShort =\"LONG\",\n",
    "    optionType  =\"PAYER\"\n",
    ")\n",
    "\n",
    "ve = ValuationEngineRegistry().new_valuation_engine(\n",
    "    classic_sabr,\n",
    "    {\"SABR_METHOD\": None},\n",
    "    swaption_ibor\n",
    ")\n",
    "ve.calculateValue()\n",
    "print(\"IBOR Swaption PV:\", ve.value)"
   ]
  },
  {
   "cell_type": "markdown",
   "id": "b2b7adc1",
   "metadata": {},
   "source": [
    "## 6) Build Top-Down SABR Model for SOFR (CAPLET vs SWAPTION)\n"
   ]
  },
  {
   "cell_type": "code",
   "execution_count": null,
   "id": "bd1a0899",
   "metadata": {},
   "outputs": [
    {
     "name": "stdout",
     "output_type": "stream",
     "text": [
      "Top-down SABR components: dict_keys(['SOFR-1B-NORMALVOL-CAPLET', 'SOFR-1B-BETA-CAPLET', 'SOFR-1B-NU-CAPLET', 'SOFR-1B-RHO-CAPLET', 'SOFR-1B-NORMALVOL-SWAPTION', 'SOFR-1B-BETA-SWAPTION', 'SOFR-1B-NU-SWAPTION', 'SOFR-1B-RHO-SWAPTION'])\n"
     ]
    }
   ],
   "source": [
    "sabr_sofr_cap = pd.DataFrame([\n",
    "    [\"SOFR-1B\", 0.25, 0.083333, 0.0090,    0.5,  0.20, -0.15],\n",
    "    [\"SOFR-1B\", 0.25, 0.25,     0.0100,    0.5,  0.20, -0.15],\n",
    "    [\"SOFR-1B\", 1.00, 0.083333, 0.0110,    0.5,  0.20, -0.15],\n",
    "    [\"SOFR-1B\", 1.00, 0.25,     0.0120,    0.5,  0.20, -0.15],\n",
    "], columns=sabr_sofr.columns)\n",
    "sabr_sofr_cap[\"PRODUCT\"] = \"CAPLET\"\n",
    "\n",
    "sabr_sofr_sw = pd.DataFrame([\n",
    "    [\"SOFR-1B\",0.25,1.0,0.012,0.5,0.2,-0.1],\n",
    "    [\"SOFR-1B\",0.25,2.0,0.013,0.5,0.2,-0.1],\n",
    "    [\"SOFR-1B\",0.25,3.0,0.014,0.5,0.2,-0.1],\n",
    "    [\"SOFR-1B\",0.25,4.0,0.015,0.5,0.2,-0.1],\n",
    "    [\"SOFR-1B\",1.00,1.0,0.013,0.5,0.2,-0.1],\n",
    "    [\"SOFR-1B\",1.00,2.0,0.014,0.5,0.2,-0.1],\n",
    "    [\"SOFR-1B\",1.00,3.0,0.015,0.5,0.2,-0.1],\n",
    "    [\"SOFR-1B\",1.00,4.0,0.016,0.5,0.2,-0.1]\n",
    "], columns=[\"INDEX\",\"AXIS1\",\"AXIS2\",\"NORMALVOL\",\"BETA\",\"NU\",\"RHO\"])\n",
    "\n",
    "sabr_sofr_sw[\"PRODUCT\"] = \"SWAPTION\"\n",
    "\n",
    "full_sabr_sofr = pd.concat([sabr_sofr_cap, sabr_sofr_sw], ignore_index=True)\n",
    "\n",
    "data_objs = []\n",
    "\n",
    "for idx_name, sub in df_curve.groupby(\"INDEX\"):\n",
    "    data_objs.append(\n",
    "      Data1D.createDataObject(\"zero_rate\", idx_name, sub[[\"AXIS1\",\"VALUES\"]])\n",
    "    )\n",
    "\n",
    "for idx_name, sub in full_sabr_sofr.groupby(\"INDEX\"):\n",
    "    for param in [\"NORMALVOL\",\"BETA\",\"NU\",\"RHO\"]:\n",
    "        pivot = (\n",
    "            sub\n",
    "            .pivot(index=\"AXIS1\", columns=\"AXIS2\", values=param)\n",
    "            .sort_index(axis=0).sort_index(axis=1)\n",
    "        )\n",
    "        data_objs.append(\n",
    "          Data2D.createDataObject(param.lower(), idx_name, pivot)\n",
    "        )\n",
    "\n",
    "topdown_build_methods = []\n",
    "for product in (\"CAPLET\",\"SWAPTION\"):\n",
    "    for param in (\"NORMALVOL\",\"BETA\",\"NU\",\"RHO\"):\n",
    "        topdown_build_methods.append({\n",
    "            \"TARGET\":           \"SOFR-1B\",\n",
    "            \"VALUES\":           param,\n",
    "            \"AXIS1\":            \"AXIS1\",\n",
    "            \"AXIS2\":            \"AXIS2\",\n",
    "            \"INTERPOLATION\":    \"LINEAR\",\n",
    "            \"SHIFT\":            0.0,\n",
    "            \"VOL_DECAY_SPEED\":  0.2,\n",
    "            \"PRODUCT\":          product\n",
    "        })\n",
    "\n",
    "dc = DataCollection(data_objs)\n",
    "td_sabr = SabrModel.from_data(\n",
    "    valueDate             = valueDate,\n",
    "    dataCollection        = dc,\n",
    "    buildMethodCollection = topdown_build_methods,\n",
    "    ycData                = df_curve,\n",
    "    ycBuildMethods        = build_methods_curve\n",
    ")\n",
    "\n",
    "print(\"Top-down SABR components:\", td_sabr.components.keys())"
   ]
  },
  {
   "cell_type": "markdown",
   "id": "a9b3764e",
   "metadata": {},
   "source": [
    "## 7) Price Top-Down RFR Products\n"
   ]
  },
  {
   "cell_type": "code",
   "execution_count": null,
   "id": "f12b5500",
   "metadata": {},
   "outputs": [
    {
     "name": "stdout",
     "output_type": "stream",
     "text": [
      "Overnight Caplet PV (top-down): ['USD', np.float64(66.45271852624181)]\n"
     ]
    }
   ],
   "source": [
    "# 7a) Overnight caplet (top-down SABR)\n",
    "caplet_ois = ProductOvernightCapFloorlet(\n",
    "    effectiveDate=\"2025-07-01\",\n",
    "    termOrEnd    =\"3M\",\n",
    "    index        =\"SOFR-1B\",\n",
    "    compounding  =\"COMPOUND\",\n",
    "    optionType   =\"CAP\",\n",
    "    strike       =0.018,\n",
    "    notional     =1_000_000,\n",
    "    longOrShort  =\"LONG\"\n",
    ")\n",
    "\n",
    "ve3 = ValuationEngineRegistry().new_valuation_engine(\n",
    "    td_sabr,\n",
    "    {\"SABR_METHOD\":\"top-down\"},\n",
    "    caplet_ois\n",
    ")\n",
    "ve3.calculateValue()\n",
    "print(\"Overnight Caplet PV (top-down):\", ve3.value)"
   ]
  },
  {
   "cell_type": "markdown",
   "id": "a655b7ff",
   "metadata": {},
   "source": [
    "## 8) Valuation: Overnight Cap/Floor Wrapper\n"
   ]
  },
  {
   "cell_type": "code",
   "execution_count": null,
   "id": "c7da2e32",
   "metadata": {},
   "outputs": [
    {
     "name": "stdout",
     "output_type": "stream",
     "text": [
      "Overnight Cap/Floor PV: ['USD', np.float64(-15124.237191922715)]\n"
     ]
    }
   ],
   "source": [
    "ois_cap = ProductOvernightCapFloor(\n",
    "    effectiveDate=\"2025-07-01\",\n",
    "    maturityDate =\"2026-07-01\",\n",
    "    frequency    =\"3M\",\n",
    "    index        =\"SOFR-1B\",\n",
    "    compounding  =\"COMPOUND\",\n",
    "    optionType   =\"FLOOR\",\n",
    "    strike       =0.016,\n",
    "    notional     =1000000,\n",
    "    longOrShort  =\"SHORT\"\n",
    ")\n",
    "\n",
    "ve = ValuationEngineRegistry().new_valuation_engine(\n",
    "    td_sabr,\n",
    "    {\"SABR_METHOD\": \"top-down\"},\n",
    "    ois_cap\n",
    ")\n",
    "ve.calculateValue()\n",
    "print(\"Overnight Cap/Floor PV:\", ve.value)\n"
   ]
  },
  {
   "cell_type": "markdown",
   "id": "b59a2017",
   "metadata": {},
   "source": [
    "# 8) Price RFR caplets using bottom-up SABR"
   ]
  },
  {
   "cell_type": "code",
   "execution_count": null,
   "id": "8e2a1fc3",
   "metadata": {},
   "outputs": [],
   "source": [
    "corr_data = [\n",
    "    [0.25, 0.25, 0.80],\n",
    "    [0.25, 0.50, 0.78],\n",
    "    [0.25, 1.00, 0.75],\n",
    "    [1.00, 0.25, 0.78],\n",
    "    [1.00, 0.50, 0.76],\n",
    "    [1.00, 1.00, 0.74],\n",
    "]\n",
    "df_corr = pd.DataFrame(corr_data, columns=[\"EXPIRY\",\"TENOR\",\"CORR\"])\n",
    "df_corr[\"INDEX\"] = \"SOFR-1B\""
   ]
  },
  {
   "cell_type": "code",
   "execution_count": null,
   "id": "46bb5a13",
   "metadata": {},
   "outputs": [],
   "source": [
    "bu_objs = []\n",
    "corr_pivot = (\n",
    "    df_corr\n",
    "    .pivot(index=\"EXPIRY\", columns=\"TENOR\", values=\"CORR\")\n",
    "    .sort_index(axis=0).sort_index(axis=1)\n",
    ")\n",
    "bu_objs.append(\n",
    "    Data2D.createDataObject(\"corr\", \"SOFR-1B\", corr_pivot)\n",
    ")"
   ]
  },
  {
   "cell_type": "code",
   "execution_count": null,
   "id": "b89f5865",
   "metadata": {},
   "outputs": [],
   "source": [
    "one_bd = 1.0/252\n",
    "\n",
    "sabr_sofr_1bd = pd.DataFrame([\n",
    "    [\"SOFR-1B\", 0.25,  one_bd,  0.0095,    0.50, 0.20, -0.15],\n",
    "    [\"SOFR-1B\", 0.50,  one_bd,  0.0100,    0.50, 0.20, -0.15],\n",
    "    [\"SOFR-1B\", 1.00,  one_bd,  0.0105,    0.50, 0.20, -0.15],\n",
    "    [\"SOFR-1B\", 2.00,  one_bd,  0.0110,    0.50, 0.20, -0.15]\n",
    "], columns=[\"INDEX\",\"AXIS1\",\"AXIS2\",\"NORMALVOL\",\"BETA\",\"NU\",\"RHO\"])\n",
    "\n",
    "for idx_name, sub in df_curve.groupby(\"INDEX\"):\n",
    "    bu_objs.append(\n",
    "        Data1D.createDataObject(\"zero_rate\", idx_name, sub[[\"AXIS1\",\"VALUES\"]])\n",
    "    )\n",
    "\n",
    "for idx_name, sub in sabr_sofr_1bd.groupby(\"INDEX\"):\n",
    "    for param in [\"NORMALVOL\",\"BETA\",\"NU\",\"RHO\"]:\n",
    "        pivot = (\n",
    "            sub\n",
    "            .pivot(index=\"AXIS1\", columns=\"AXIS2\", values=param)\n",
    "            .sort_index(axis=0).sort_index(axis=1)\n",
    "        )\n",
    "        bu_objs.append(\n",
    "            Data2D.createDataObject(\n",
    "                data_type       = param.lower(),\n",
    "                data_convention = idx_name,\n",
    "                df              = pivot\n",
    "            )\n",
    "        )"
   ]
  },
  {
   "cell_type": "code",
   "execution_count": null,
   "id": "31f40bb6",
   "metadata": {},
   "outputs": [
    {
     "name": "stdout",
     "output_type": "stream",
     "text": [
      "Bottom-up 1BD‐tenor SABR components: dict_keys(['SOFR-1B-NORMALVOL', 'SOFR-1B-BETA', 'SOFR-1B-NU', 'SOFR-1B-RHO'])\n"
     ]
    }
   ],
   "source": [
    "bottom_up_build_methods_sofr = []\n",
    "for param in (\"NORMALVOL\",\"BETA\",\"NU\",\"RHO\"):\n",
    "    bottom_up_build_methods_sofr.append({\n",
    "      \"TARGET\":          \"SOFR-1B\",\n",
    "      \"VALUES\":          param,\n",
    "      \"INTERPOLATION\":   \"LINEAR\",\n",
    "      \"SHIFT\":           0.0,\n",
    "      \"VOL_DECAY_SPEED\": 0.2\n",
    "    })\n",
    "\n",
    "dc = DataCollection(bu_objs)\n",
    "bottom_up_sofr_sabr = SabrModel.from_curve(\n",
    "    valueDate,\n",
    "    dc,\n",
    "    bottom_up_build_methods_sofr,\n",
    "    yc\n",
    ")\n",
    "print(\"Bottom-up 1BD‐tenor SABR components:\", bottom_up_sofr_sabr.components.keys())\n"
   ]
  },
  {
   "cell_type": "code",
   "execution_count": null,
   "id": "9fcf502a",
   "metadata": {},
   "outputs": [
    {
     "name": "stdout",
     "output_type": "stream",
     "text": [
      "Overnight Caplet PV (bottom-up): ['USD', np.float64(2.0804611554277008e-32)]\n"
     ]
    }
   ],
   "source": [
    "caplet_bu = ProductOvernightCapFloorlet(\n",
    "    effectiveDate=\"2025-07-01\",\n",
    "    termOrEnd    =\"3M\",\n",
    "    index        =\"SOFR-1B\",\n",
    "    compounding  =\"COMPOUND\",\n",
    "    optionType   =\"CAP\",\n",
    "    strike       =0.018,\n",
    "    notional     =1_000_000,\n",
    "    longOrShort  =\"LONG\"\n",
    ")\n",
    "ve_bu_cap = ValuationEngineRegistry().new_valuation_engine(\n",
    "    bottom_up_sofr_sabr,\n",
    "    {\"SABR_METHOD\":\"bottom-up\", \"CORR_DF\": df_corr},\n",
    "    caplet_bu\n",
    ")\n",
    "ve_bu_cap.calculateValue()\n",
    "print(\"Overnight Caplet PV (bottom-up):\", ve_bu_cap.value)\n"
   ]
  },
  {
   "cell_type": "code",
   "execution_count": null,
   "id": "7dd1e2c2",
   "metadata": {},
   "outputs": [
    {
     "name": "stdout",
     "output_type": "stream",
     "text": [
      "Overnight Cap PV (bottom-up): ['USD', np.float64(2.635442270532238)]\n"
     ]
    }
   ],
   "source": [
    "ois_cap = ProductOvernightCapFloor(\n",
    "    effectiveDate=\"2025-07-01\",\n",
    "    maturityDate =\"2026-07-01\",\n",
    "    frequency    =\"3M\",\n",
    "    index        =\"SOFR-1B\",\n",
    "    compounding  =\"COMPOUND\",\n",
    "    optionType   =\"CAP\",\n",
    "    strike       =0.018,\n",
    "    notional     =1_000_000,\n",
    "    longOrShort  =\"LONG\"\n",
    ")\n",
    "\n",
    "ve = ValuationEngineRegistry().new_valuation_engine(\n",
    "    bottom_up_sofr_sabr,\n",
    "    {\"SABR_METHOD\":\"bottom-up\", \"CORR_DF\": df_corr},\n",
    "    ois_cap\n",
    ")\n",
    "ve.calculateValue()\n",
    "print(\"Overnight Cap PV (bottom-up):\", ve.value)"
   ]
  }
 ],
 "metadata": {
  "kernelspec": {
   "display_name": "base",
   "language": "python",
   "name": "python3"
  },
  "language_info": {
   "codemirror_mode": {
    "name": "ipython",
    "version": 3
   },
   "file_extension": ".py",
   "mimetype": "text/x-python",
   "name": "python",
   "nbconvert_exporter": "python",
   "pygments_lexer": "ipython3",
   "version": "3.12.7"
  }
 },
 "nbformat": 4,
 "nbformat_minor": 5
}
