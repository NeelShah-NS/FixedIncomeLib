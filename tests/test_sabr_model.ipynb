{
 "cells": [
  {
   "cell_type": "markdown",
   "id": "e0f7d623",
   "metadata": {},
   "source": [
    "# FixedIncomeLib SABR Model Testing Notebook\n",
    "This notebook exercises the `SabrModel` class by:\n",
    "1. Building a dummy SABR volatility surface for a single index.\n",
    "2. Interpolating volatilities at various expiry/tenor grid points.\n",
    "---"
   ]
  },
  {
   "cell_type": "code",
   "execution_count": 1,
   "id": "b56d3448",
   "metadata": {},
   "outputs": [],
   "source": [
    "import pandas as pd\n",
    "from fixedincomelib.date import Date, Period\n",
    "from fixedincomelib.market import IndexRegistry\n",
    "import numpy as np\n",
    "from fixedincomelib.data import Data1D, Data2D, DataCollection\n",
    "from fixedincomelib.sabr import SabrModel\n",
    "from fixedincomelib.yield_curve import YieldCurve"
   ]
  },
  {
   "cell_type": "markdown",
   "id": "0222b931",
   "metadata": {},
   "source": [
    "2. Dummy Yield Curve for subModel (flat rates)\n",
    "We build a simple flat curve to satisfy SabrModel's subModel requirement."
   ]
  },
  {
   "cell_type": "code",
   "execution_count": 2,
   "id": "3ee62a9e",
   "metadata": {},
   "outputs": [],
   "source": [
    "DUMMY_YC = [\n",
    "    [\"SOFR-1B\",            \"1M\",  0.0020],\n",
    "    [\"SOFR-1B\",            \"3M\",  0.0025],\n",
    "    [\"SOFR-1B\",            \"6M\",  0.0030],\n",
    "    [\"USD-LIBOR-BBA-3M\",   \"1M\",  0.0040],\n",
    "    [\"USD-LIBOR-BBA-3M\",   \"3M\",  0.00425],\n",
    "    [\"USD-LIBOR-BBA-3M\",   \"6M\",  0.00450],\n",
    "]\n",
    "df_yc = pd.DataFrame(DUMMY_YC, columns=[\"INDEX\",\"AXIS1\",\"VALUES\"])\n",
    "\n",
    "yc_build = [\n",
    "  {\n",
    "    \"TARGET\":             \"SOFR-1B\",\n",
    "    \"DATA_TYPE\":          \"ZERO_RATE\",\n",
    "    \"DATA_CONVENTION\":    \"SOFR-1B\",\n",
    "    \"INTERPOLATION_METHOD\":\"PIECEWISE_CONSTANT\"\n",
    "  },\n",
    "  {\n",
    "    \"TARGET\":             \"USD-LIBOR-BBA-3M\",\n",
    "    \"DATA_TYPE\":          \"ZERO_RATE\",\n",
    "    \"DATA_CONVENTION\":    \"USD-LIBOR-BBA-3M\",\n",
    "    \"INTERPOLATION_METHOD\":\"PIECEWISE_CONSTANT\"\n",
    "  },\n",
    "]\n",
    "\n"
   ]
  },
  {
   "cell_type": "code",
   "execution_count": 3,
   "id": "7a008240",
   "metadata": {},
   "outputs": [
    {
     "name": "stdout",
     "output_type": "stream",
     "text": [
      "Registered zero-rate keys: dict_keys([('zero_rate', 'SOFR-1B'), ('zero_rate', 'USD-LIBOR-BBA-3M')])\n"
     ]
    }
   ],
   "source": [
    "data_objs = []\n",
    "for idx_name, sub in df_yc.groupby(\"INDEX\"):\n",
    "    d1 = Data1D.createDataObject(\n",
    "        data_type      = \"zero_rate\",\n",
    "        data_convention= idx_name,\n",
    "        df             = sub[[\"AXIS1\",\"VALUES\"]]\n",
    "    )\n",
    "    data_objs.append(d1)\n",
    "\n",
    "dc = DataCollection(data_objs)\n",
    "print(\"Registered zero-rate keys:\", dc.dataMap.keys())"
   ]
  },
  {
   "cell_type": "code",
   "execution_count": 4,
   "id": "ce88d8a0",
   "metadata": {},
   "outputs": [
    {
     "ename": "ValueError",
     "evalue": "build_method must include a non-empty 'INSTRUMENTS' list.",
     "output_type": "error",
     "traceback": [
      "\u001b[1;31m---------------------------------------------------------------------------\u001b[0m",
      "\u001b[1;31mValueError\u001b[0m                                Traceback (most recent call last)",
      "Cell \u001b[1;32mIn[4], line 2\u001b[0m\n\u001b[0;32m      1\u001b[0m as_of \u001b[38;5;241m=\u001b[39m \u001b[38;5;124m\"\u001b[39m\u001b[38;5;124m2025-06-26\u001b[39m\u001b[38;5;124m\"\u001b[39m\n\u001b[1;32m----> 2\u001b[0m yc \u001b[38;5;241m=\u001b[39m \u001b[43mYieldCurve\u001b[49m\u001b[43m(\u001b[49m\u001b[43mas_of\u001b[49m\u001b[43m,\u001b[49m\u001b[43m \u001b[49m\u001b[43mdc\u001b[49m\u001b[43m,\u001b[49m\u001b[43m \u001b[49m\u001b[43myc_build\u001b[49m\u001b[43m)\u001b[49m\n\u001b[0;32m      3\u001b[0m \u001b[38;5;28mprint\u001b[39m(\u001b[38;5;124m\"\u001b[39m\u001b[38;5;124mYieldCurve components:\u001b[39m\u001b[38;5;124m\"\u001b[39m, yc\u001b[38;5;241m.\u001b[39mcomponents\u001b[38;5;241m.\u001b[39mkeys())\n",
      "File \u001b[1;32m~\\OneDrive\\Desktop\\Capstone_Project\\FixedIncomeLib\\fixedincomelib\\yield_curve\\yield_curve_model.py:19\u001b[0m, in \u001b[0;36mYieldCurve.__init__\u001b[1;34m(self, valueDate, dataCollection, buildMethodCollection)\u001b[0m\n\u001b[0;32m     18\u001b[0m \u001b[38;5;28;01mdef\u001b[39;00m\u001b[38;5;250m \u001b[39m\u001b[38;5;21m__init__\u001b[39m(\u001b[38;5;28mself\u001b[39m, valueDate: \u001b[38;5;28mstr\u001b[39m, dataCollection: DataCollection, buildMethodCollection: \u001b[38;5;28mlist\u001b[39m) \u001b[38;5;241m-\u001b[39m\u001b[38;5;241m>\u001b[39m \u001b[38;5;28;01mNone\u001b[39;00m:\n\u001b[1;32m---> 19\u001b[0m     \u001b[38;5;28;43msuper\u001b[39;49m\u001b[43m(\u001b[49m\u001b[43m)\u001b[49m\u001b[38;5;241;43m.\u001b[39;49m\u001b[38;5;21;43m__init__\u001b[39;49m\u001b[43m(\u001b[49m\u001b[43mvalueDate\u001b[49m\u001b[43m,\u001b[49m\u001b[43m \u001b[49m\u001b[38;5;124;43m'\u001b[39;49m\u001b[38;5;124;43mYIELD_CURVE\u001b[39;49m\u001b[38;5;124;43m'\u001b[39;49m\u001b[43m,\u001b[49m\u001b[43m \u001b[49m\u001b[43mdataCollection\u001b[49m\u001b[43m,\u001b[49m\u001b[43m \u001b[49m\u001b[43mbuildMethodCollection\u001b[49m\u001b[43m)\u001b[49m\n\u001b[0;32m     20\u001b[0m     \u001b[38;5;28mself\u001b[39m\u001b[38;5;241m.\u001b[39mgradient_labels_: List[\u001b[38;5;28mstr\u001b[39m] \u001b[38;5;241m=\u001b[39m []\n\u001b[0;32m     21\u001b[0m     \u001b[38;5;28mself\u001b[39m\u001b[38;5;241m.\u001b[39mgradient_offsets_: np\u001b[38;5;241m.\u001b[39mndarray \u001b[38;5;241m=\u001b[39m np\u001b[38;5;241m.\u001b[39mzeros(\u001b[38;5;241m1\u001b[39m, dtype\u001b[38;5;241m=\u001b[39m\u001b[38;5;28mint\u001b[39m)\n",
      "File \u001b[1;32m~\\OneDrive\\Desktop\\Capstone_Project\\FixedIncomeLib\\fixedincomelib\\model\\model.py:63\u001b[0m, in \u001b[0;36mModel.__init__\u001b[1;34m(self, valueDate, modelType, dataCollection, buildMethodCollection)\u001b[0m\n\u001b[0;32m     60\u001b[0m \u001b[38;5;28;01mif\u001b[39;00m prod:\n\u001b[0;32m     61\u001b[0m     key \u001b[38;5;241m=\u001b[39m \u001b[38;5;124mf\u001b[39m\u001b[38;5;124m\"\u001b[39m\u001b[38;5;132;01m{\u001b[39;00mkey\u001b[38;5;132;01m}\u001b[39;00m\u001b[38;5;124m-\u001b[39m\u001b[38;5;132;01m{\u001b[39;00mprod\u001b[38;5;132;01m}\u001b[39;00m\u001b[38;5;124m\"\u001b[39m\u001b[38;5;241m.\u001b[39mupper()\n\u001b[1;32m---> 63\u001b[0m \u001b[38;5;28mself\u001b[39m\u001b[38;5;241m.\u001b[39mcomponents[key] \u001b[38;5;241m=\u001b[39m \u001b[38;5;28;43mself\u001b[39;49m\u001b[38;5;241;43m.\u001b[39;49m\u001b[43mnewModelComponent\u001b[49m\u001b[43m(\u001b[49m\u001b[43mthis_bm\u001b[49m\u001b[43m)\u001b[49m\n",
      "File \u001b[1;32m~\\OneDrive\\Desktop\\Capstone_Project\\FixedIncomeLib\\fixedincomelib\\yield_curve\\yield_curve_model.py:77\u001b[0m, in \u001b[0;36mYieldCurve.newModelComponent\u001b[1;34m(self, buildMethod)\u001b[0m\n\u001b[0;32m     76\u001b[0m \u001b[38;5;28;01mdef\u001b[39;00m\u001b[38;5;250m \u001b[39m\u001b[38;5;21mnewModelComponent\u001b[39m(\u001b[38;5;28mself\u001b[39m, buildMethod: \u001b[38;5;28mdict\u001b[39m):\n\u001b[1;32m---> 77\u001b[0m     \u001b[38;5;28;01mreturn\u001b[39;00m \u001b[43mYieldCurveModelComponent\u001b[49m\u001b[43m(\u001b[49m\u001b[38;5;28;43mself\u001b[39;49m\u001b[38;5;241;43m.\u001b[39;49m\u001b[43mvalueDate\u001b[49m\u001b[43m,\u001b[49m\u001b[43m \u001b[49m\u001b[38;5;28;43mself\u001b[39;49m\u001b[38;5;241;43m.\u001b[39;49m\u001b[43mdataCollection\u001b[49m\u001b[43m,\u001b[49m\u001b[43m \u001b[49m\u001b[43mbuildMethod\u001b[49m\u001b[43m,\u001b[49m\u001b[43m \u001b[49m\u001b[43mparent_model\u001b[49m\u001b[38;5;241;43m=\u001b[39;49m\u001b[38;5;28;43mself\u001b[39;49m\u001b[43m)\u001b[49m\n",
      "File \u001b[1;32m~\\OneDrive\\Desktop\\Capstone_Project\\FixedIncomeLib\\fixedincomelib\\yield_curve\\yield_curve_model.py:295\u001b[0m, in \u001b[0;36mYieldCurveModelComponent.__init__\u001b[1;34m(self, valueDate, dataCollection, buildMethod, parent_model)\u001b[0m\n\u001b[0;32m    292\u001b[0m     \u001b[38;5;28mself\u001b[39m\u001b[38;5;241m.\u001b[39m_model\u001b[38;5;241m.\u001b[39mcomponents[key] \u001b[38;5;241m=\u001b[39m \u001b[38;5;28mself\u001b[39m\n\u001b[0;32m    293\u001b[0m     \u001b[38;5;28mself\u001b[39m\u001b[38;5;241m.\u001b[39m_model\u001b[38;5;241m.\u001b[39mcomponents[key\u001b[38;5;241m.\u001b[39mupper()] \u001b[38;5;241m=\u001b[39m \u001b[38;5;28mself\u001b[39m\n\u001b[1;32m--> 295\u001b[0m \u001b[38;5;28;43mself\u001b[39;49m\u001b[38;5;241;43m.\u001b[39;49m\u001b[43mcalibrate\u001b[49m\u001b[43m(\u001b[49m\u001b[43m)\u001b[49m\n",
      "File \u001b[1;32m~\\OneDrive\\Desktop\\Capstone_Project\\FixedIncomeLib\\fixedincomelib\\yield_curve\\yield_curve_model.py:298\u001b[0m, in \u001b[0;36mYieldCurveModelComponent.calibrate\u001b[1;34m(self)\u001b[0m\n\u001b[0;32m    297\u001b[0m \u001b[38;5;28;01mdef\u001b[39;00m\u001b[38;5;250m \u001b[39m\u001b[38;5;21mcalibrate\u001b[39m(\u001b[38;5;28mself\u001b[39m):\n\u001b[1;32m--> 298\u001b[0m     calibration_instruments \u001b[38;5;241m=\u001b[39m \u001b[43mbuild_yc_calibration_basket_from_dc\u001b[49m\u001b[43m(\u001b[49m\n\u001b[0;32m    299\u001b[0m \u001b[43m        \u001b[49m\u001b[43mvalue_date\u001b[49m\u001b[38;5;241;43m=\u001b[39;49m\u001b[38;5;28;43mself\u001b[39;49m\u001b[38;5;241;43m.\u001b[39;49m\u001b[43mvalueDate_\u001b[49m\u001b[43m,\u001b[49m\n\u001b[0;32m    300\u001b[0m \u001b[43m        \u001b[49m\u001b[43mdata_collection\u001b[49m\u001b[38;5;241;43m=\u001b[39;49m\u001b[38;5;28;43mself\u001b[39;49m\u001b[38;5;241;43m.\u001b[39;49m\u001b[43mdataCollection\u001b[49m\u001b[43m,\u001b[49m\n\u001b[0;32m    301\u001b[0m \u001b[43m        \u001b[49m\u001b[43mbuild_method\u001b[49m\u001b[38;5;241;43m=\u001b[39;49m\u001b[38;5;28;43mself\u001b[39;49m\u001b[38;5;241;43m.\u001b[39;49m\u001b[43mbuildMethod_\u001b[49m\u001b[43m,\u001b[49m\n\u001b[0;32m    302\u001b[0m \u001b[43m    \u001b[49m\u001b[43m)\u001b[49m\n\u001b[0;32m    304\u001b[0m     anchors, times, pillar_instruments \u001b[38;5;241m=\u001b[39m build_anchor_pillars(\u001b[38;5;28mlist\u001b[39m(calibration_instruments),\u001b[38;5;28mself\u001b[39m\u001b[38;5;241m.\u001b[39mvalueDate_)\n\u001b[0;32m    305\u001b[0m     \u001b[38;5;28mself\u001b[39m\u001b[38;5;241m.\u001b[39mpillarDates \u001b[38;5;241m=\u001b[39m anchors\n",
      "File \u001b[1;32m~\\OneDrive\\Desktop\\Capstone_Project\\FixedIncomeLib\\fixedincomelib\\builders\\basket_builders.py:68\u001b[0m, in \u001b[0;36mbuild_yc_calibration_basket_from_dc\u001b[1;34m(value_date, data_collection, build_method)\u001b[0m\n\u001b[0;32m     66\u001b[0m insts \u001b[38;5;241m=\u001b[39m build_method\u001b[38;5;241m.\u001b[39mget(\u001b[38;5;124m\"\u001b[39m\u001b[38;5;124mINSTRUMENTS\u001b[39m\u001b[38;5;124m\"\u001b[39m, [])\n\u001b[0;32m     67\u001b[0m \u001b[38;5;28;01mif\u001b[39;00m \u001b[38;5;129;01mnot\u001b[39;00m insts:\n\u001b[1;32m---> 68\u001b[0m     \u001b[38;5;28;01mraise\u001b[39;00m \u001b[38;5;167;01mValueError\u001b[39;00m(\u001b[38;5;124m\"\u001b[39m\u001b[38;5;124mbuild_method must include a non-empty \u001b[39m\u001b[38;5;124m'\u001b[39m\u001b[38;5;124mINSTRUMENTS\u001b[39m\u001b[38;5;124m'\u001b[39m\u001b[38;5;124m list.\u001b[39m\u001b[38;5;124m\"\u001b[39m)\n\u001b[0;32m     70\u001b[0m data_objs \u001b[38;5;241m=\u001b[39m _collect_data1d_from_dc(data_collection, insts)\n\u001b[0;32m     72\u001b[0m \u001b[38;5;28;01mif\u001b[39;00m \u001b[38;5;129;01mnot\u001b[39;00m data_objs:\n",
      "\u001b[1;31mValueError\u001b[0m: build_method must include a non-empty 'INSTRUMENTS' list."
     ]
    }
   ],
   "source": [
    "as_of = \"2025-06-26\"\n",
    "yc = YieldCurve(as_of, dc, yc_build)\n",
    "print(\"YieldCurve components:\", yc.components.keys())\n"
   ]
  },
  {
   "cell_type": "markdown",
   "id": "ce8c33e7",
   "metadata": {},
   "source": [
    "3. Dummy SABR Data\n",
    "Columns: INDEX, EXPIRY (years), TENOR (years), NORMALVOL, BETA, NU, RHO"
   ]
  },
  {
   "cell_type": "code",
   "execution_count": null,
   "id": "ea9dc648",
   "metadata": {},
   "outputs": [
    {
     "name": "stdout",
     "output_type": "stream",
     "text": [
      "Registered SABR surface keys: dict_keys([('zero_rate', 'SOFR-1B'), ('zero_rate', 'USD-LIBOR-BBA-3M'), ('normalvol', 'USD-LIBOR-BBA-3M'), ('beta', 'USD-LIBOR-BBA-3M'), ('nu', 'USD-LIBOR-BBA-3M'), ('rho', 'USD-LIBOR-BBA-3M')])\n"
     ]
    }
   ],
   "source": [
    "DUMMY_SABR = [\n",
    "  [\"USD-LIBOR-BBA-3M\", 1.0, 0.25, 0.010, 0.5, 0.2, -0.3],\n",
    "  [\"USD-LIBOR-BBA-3M\", 1.0, 0.50, 0.011, 0.5, 0.2, -0.3],\n",
    "  [\"USD-LIBOR-BBA-3M\", 2.0, 0.25, 0.012, 0.5, 0.2, -0.3],\n",
    "  [\"USD-LIBOR-BBA-3M\", 2.0, 0.50, 0.013, 0.5, 0.2, -0.3],\n",
    "]\n",
    "df_sabr = pd.DataFrame(\n",
    "    DUMMY_SABR,\n",
    "    columns=[\"INDEX\",\"AXIS1\",\"AXIS2\",\"NORMALVOL\",\"BETA\",\"NU\",\"RHO\"]\n",
    ")\n",
    "\n",
    "for idx_name, sub in df_sabr.groupby(\"INDEX\"):\n",
    "    for param in [\"NORMALVOL\",\"BETA\",\"NU\",\"RHO\"]:\n",
    "        pivot = (\n",
    "            sub\n",
    "            .pivot(index=\"AXIS1\", columns=\"AXIS2\", values=param)\n",
    "            .sort_index(axis=0)\n",
    "            .sort_index(axis=1)\n",
    "        )\n",
    "        d2 = Data2D.createDataObject(\n",
    "            data_type       = param.lower(),\n",
    "            data_convention = idx_name,\n",
    "            df              = pivot\n",
    "        )\n",
    "        data_objs.append(d2)\n",
    "\n",
    "dc = DataCollection(data_objs)\n",
    "print(\"Registered SABR surface keys:\", dc.dataMap.keys())\n"
   ]
  },
  {
   "cell_type": "code",
   "execution_count": null,
   "id": "8319e15b",
   "metadata": {},
   "outputs": [],
   "source": [
    "build_methods_sabr = [\n",
    "    {\n",
    "        \"TARGET\":        \"USD-LIBOR-BBA-3M\",\n",
    "        \"VALUES\":        \"NORMALVOL\",\n",
    "        \"INTERPOLATION\": \"LINEAR\",\n",
    "    },\n",
    "    {\n",
    "        \"TARGET\":        \"USD-LIBOR-BBA-3M\",\n",
    "        \"VALUES\":        \"BETA\",\n",
    "        \"INTERPOLATION\": \"LINEAR\",\n",
    "    },\n",
    "    {\n",
    "        \"TARGET\":        \"USD-LIBOR-BBA-3M\",\n",
    "        \"VALUES\":        \"NU\",\n",
    "        \"INTERPOLATION\": \"LINEAR\",\n",
    "    },\n",
    "    {\n",
    "        \"TARGET\":        \"USD-LIBOR-BBA-3M\",\n",
    "        \"VALUES\":        \"RHO\",\n",
    "        \"INTERPOLATION\": \"LINEAR\",\n",
    "    },\n",
    "]\n"
   ]
  },
  {
   "cell_type": "code",
   "execution_count": null,
   "id": "5d36e4cb",
   "metadata": {},
   "outputs": [
    {
     "name": "stdout",
     "output_type": "stream",
     "text": [
      "SABR components: dict_keys(['USD-LIBOR-BBA-3M-NORMALVOL', 'USD-LIBOR-BBA-3M-BETA', 'USD-LIBOR-BBA-3M-NU', 'USD-LIBOR-BBA-3M-RHO'])\n"
     ]
    }
   ],
   "source": [
    "value_date = \"2025-06-26\"\n",
    "sabr = SabrModel.from_curve(\n",
    "    valueDate              = value_date,\n",
    "    dataCollection         = dc,\n",
    "    buildMethodCollection  = build_methods_sabr,\n",
    "    ycModel                = yc\n",
    ")\n",
    "\n",
    "print(\"SABR components:\", sabr.components.keys())"
   ]
  },
  {
   "cell_type": "code",
   "execution_count": null,
   "id": "1cc8df18",
   "metadata": {},
   "outputs": [
    {
     "name": "stdout",
     "output_type": "stream",
     "text": [
      "--- SABR Volatility Interpolation ---\n",
      "Expiry=1.0y, Tenor=0.25y → Vol = 1.0000%\n",
      "Expiry=1.0y, Tenor=0.5y → Vol = 1.1000%\n",
      "Expiry=2.0y, Tenor=0.25y → Vol = 1.2000%\n",
      "Expiry=2.0y, Tenor=0.5y → Vol = 1.3000%\n"
     ]
    }
   ],
   "source": [
    "grid = [(1.0, 0.25), (1.0, 0.50), (2.0, 0.25), (2.0, 0.50)]\n",
    "print(\"--- SABR Volatility Interpolation ---\")\n",
    "for expiry, tenor in grid:\n",
    "    normalvol, beta, nu, rho, shift, decay = sabr.get_sabr_parameters(\n",
    "        \"USD-LIBOR-BBA-3M\",\n",
    "        expiry,\n",
    "        tenor\n",
    "    )\n",
    "    print(f\"Expiry={expiry}y, Tenor={tenor}y → Vol = {normalvol:.4%}\")\n"
   ]
  },
  {
   "cell_type": "code",
   "execution_count": null,
   "id": "f442ffad",
   "metadata": {},
   "outputs": [
    {
     "name": "stdout",
     "output_type": "stream",
     "text": [
      "--- Off-Grid SABR Volatility Interpolation ---\n",
      "Expiry=1.500y, Tenor=0.250y → Vol = 1.1000%\n",
      "Expiry=1.000y, Tenor=0.375y → Vol = 1.0500%\n",
      "Expiry=1.500y, Tenor=0.375y → Vol = 1.1500%\n"
     ]
    }
   ],
   "source": [
    "print(\"--- Off-Grid SABR Volatility Interpolation ---\")\n",
    "off_grid = [\n",
    "    (1.5, 0.25),\n",
    "    (1.0, 0.375),\n",
    "    (1.5, 0.375)\n",
    "]\n",
    "target = \"USD-LIBOR-BBA-3M\"\n",
    "for expiry, tenor in off_grid:\n",
    "    normalvol, beta, nu, rho, shift, decay = sabr.get_sabr_parameters(target, expiry, tenor)\n",
    "    print(f\"Expiry={expiry:>4.3f}y, Tenor={tenor:>5.3f}y → Vol = {normalvol:.4%}\")"
   ]
  },
  {
   "cell_type": "code",
   "execution_count": null,
   "id": "c1918e7f",
   "metadata": {},
   "outputs": [
    {
     "name": "stdout",
     "output_type": "stream",
     "text": [
      "=== SABR Model via from_curve (prebuilt YieldCurve) ===\n",
      "SABR components: dict_keys(['USD-LIBOR-BBA-3M-NORMALVOL', 'USD-LIBOR-BBA-3M-BETA', 'USD-LIBOR-BBA-3M-NU', 'USD-LIBOR-BBA-3M-RHO'])\n",
      "[from_curve] Expiry=1.5, Tenor=0.375 → Vol=1.1500%\n",
      "[from_curve] Expiry=2.0, Tenor=0.5 → Vol=1.3000%\n",
      "\n",
      "=== SABR Model via from_data (raw YC data & build methods) ===\n",
      "SABR components: dict_keys(['USD-LIBOR-BBA-3M-NORMALVOL', 'USD-LIBOR-BBA-3M-BETA', 'USD-LIBOR-BBA-3M-NU', 'USD-LIBOR-BBA-3M-RHO'])\n",
      "[from_data ] Expiry=1.5, Tenor=0.375 → Vol=1.1500%\n",
      "[from_data ] Expiry=2.0, Tenor=0.5 → Vol=1.3000%\n"
     ]
    }
   ],
   "source": [
    "print(\"=== SABR Model via from_curve (prebuilt YieldCurve) ===\")\n",
    "\n",
    "sabr_a = SabrModel.from_curve(\n",
    "    valueDate             = value_date,           \n",
    "    dataCollection        = dc,                   \n",
    "    buildMethodCollection = build_methods_sabr,  \n",
    "    ycModel               = yc                  \n",
    ")\n",
    "\n",
    "print(\"SABR components:\", sabr_a.components.keys())\n",
    "for expiry, tenor in [(1.5,0.375), (2.0,0.5)]:\n",
    "    normalvol, beta, nu, rho, shift, decay = sabr_a.get_sabr_parameters(\n",
    "        \"USD-LIBOR-BBA-3M\", expiry, tenor\n",
    "    )\n",
    "    print(f\"[from_curve] Expiry={expiry}, Tenor={tenor} → Vol={normalvol:.4%}\")\n",
    "\n",
    "print(\"\\n=== SABR Model via from_data (raw YC data & build methods) ===\")\n",
    "\n",
    "sabr_b = SabrModel.from_data(\n",
    "    valueDate             = value_date,           \n",
    "    dataCollection        = dc,                   \n",
    "    buildMethodCollection = build_methods_sabr,  \n",
    "    ycData                 = df_yc,               \n",
    "    ycBuildMethods         = yc_build             \n",
    ")\n",
    "print(\"SABR components:\", sabr_b.components.keys())\n",
    "for expiry, tenor in [(1.5,0.375), (2.0,0.5)]:\n",
    "    normalvol, beta, nu, rho, shift, decay = sabr_b.get_sabr_parameters(\n",
    "        \"USD-LIBOR-BBA-3M\", expiry, tenor\n",
    "    )\n",
    "    print(f\"[from_data ] Expiry={expiry}, Tenor={tenor} → Vol={normalvol:.4%}\")\n"
   ]
  }
 ],
 "metadata": {
  "kernelspec": {
   "display_name": "base",
   "language": "python",
   "name": "python3"
  },
  "language_info": {
   "codemirror_mode": {
    "name": "ipython",
    "version": 3
   },
   "file_extension": ".py",
   "mimetype": "text/x-python",
   "name": "python",
   "nbconvert_exporter": "python",
   "pygments_lexer": "ipython3",
   "version": "3.12.7"
  }
 },
 "nbformat": 4,
 "nbformat_minor": 5
}
