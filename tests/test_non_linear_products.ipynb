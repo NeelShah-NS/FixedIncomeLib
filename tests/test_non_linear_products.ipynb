{
 "cells": [
  {
   "cell_type": "markdown",
   "id": "6c309b82",
   "metadata": {},
   "source": [
    "# # 🎯 Testing Non‐Linear Products\n",
    "\n",
    "This notebook tests:\n",
    " \n",
    "1. **Cap/Floorlets** (IBOR & Overnight)  \n",
    "2. **Cap/Floor Streams**  \n",
    "3. **Cap/Floor Portfolios**  \n",
    "4. **Swaptions** (IBOR & Overnight)  \n",
    "5. **Visitor output** for each product\n"
   ]
  },
  {
   "cell_type": "code",
   "execution_count": 1,
   "id": "27f78df0",
   "metadata": {},
   "outputs": [
    {
     "name": "stdout",
     "output_type": "stream",
     "text": [
      "Setup complete.\n"
     ]
    }
   ],
   "source": [
    "from fixedincomelib.product.non_linear_products import (   \n",
    "    ProductIborCapFloorlet,\n",
    "    ProductOvernightCapFloorlet,\n",
    "    CapFloorStream,\n",
    "    ProductIborCapFloor,\n",
    "    ProductOvernightCapFloor,\n",
    "    ProductIborSwaption,\n",
    "    ProductOvernightSwaption\n",
    ")\n",
    "from fixedincomelib.product.product_display_visitor import (\n",
    "    IborCapFloorletVisitor,\n",
    "    OvernightCapFloorletVisitor,\n",
    "    IborCapFloorVisitor,\n",
    "    OvernightCapFloorVisitor,\n",
    "    IborSwaptionVisitor,\n",
    "    OvernightSwaptionVisitor\n",
    ")\n",
    "\n",
    "# Common parameters\n",
    "tNotional = 1_000_000\n",
    "LONG = \"LONG\"\n",
    "SHORT = \"SHORT\"\n",
    "\n",
    "print(\"Setup complete.\")"
   ]
  },
  {
   "cell_type": "markdown",
   "id": "46cdff36",
   "metadata": {},
   "source": [
    "## 2. Cap/Floorlet: IBOR \n",
    "Create a 3M IBOR caplet on 1M USD LIBOR, strike 2%, notional 1 000 000, long position.\n",
    "\n"
   ]
  },
  {
   "cell_type": "code",
   "execution_count": 2,
   "id": "fec4e3d0",
   "metadata": {},
   "outputs": [
    {
     "name": "stdout",
     "output_type": "stream",
     "text": [
      "ProductIborCapFloorlet →\n",
      "      Attribute             Value\n",
      "0  AccrualStart        2025-07-01\n",
      "1    AccrualEnd        2025-10-01\n",
      "2         Index  USD-LIBOR-BBA-1M\n",
      "3    OptionType               CAP\n",
      "4        Strike              0.02\n",
      "5      Notional           1000000\n",
      "6      Currency               USD\n",
      "7   LongOrShort              LONG\n"
     ]
    }
   ],
   "source": [
    "caplet_ibor = ProductIborCapFloorlet(\n",
    "    startDate=\"2025-07-01\",\n",
    "    endDate=\"2025-10-01\",\n",
    "    index=\"USD-LIBOR-BBA-1M\",\n",
    "    optionType=\"CAP\",\n",
    "    strike=0.02,\n",
    "    notional=tNotional,\n",
    "    longOrShort=LONG,\n",
    ")\n",
    "print(\"ProductIborCapFloorlet →\")\n",
    "print(caplet_ibor.accept(IborCapFloorletVisitor()))"
   ]
  },
  {
   "cell_type": "code",
   "execution_count": 3,
   "id": "9dba1cb0",
   "metadata": {},
   "outputs": [
    {
     "name": "stdout",
     "output_type": "stream",
     "text": [
      "ProductIborFloorlet →\n",
      "      Attribute             Value\n",
      "0  AccrualStart        2025-07-01\n",
      "1    AccrualEnd        2025-10-01\n",
      "2         Index  USD-LIBOR-BBA-1M\n",
      "3    OptionType             FLOOR\n",
      "4        Strike              0.01\n",
      "5      Notional           1000000\n",
      "6      Currency               USD\n",
      "7   LongOrShort             SHORT \n",
      "\n"
     ]
    }
   ],
   "source": [
    "floorlet_ibor = ProductIborCapFloorlet(\n",
    "    startDate=\"2025-07-01\",\n",
    "    endDate=\"2025-10-01\",\n",
    "    index=\"USD-LIBOR-BBA-1M\",\n",
    "    optionType=\"FLOOR\",\n",
    "    strike=0.01,\n",
    "    notional=1_000_000,\n",
    "    longOrShort=\"SHORT\",\n",
    ")\n",
    "print(\"ProductIborFloorlet →\")\n",
    "print(floorlet_ibor.accept(IborCapFloorletVisitor()), \"\\n\")"
   ]
  },
  {
   "cell_type": "markdown",
   "id": "4fd7c039",
   "metadata": {},
   "source": [
    "## 3. Cap/Floorlet: Overnight \n",
    "Create a 1-month Overnight caplet on FedFunds, compounded, strike 1%, notional 500 000, short position."
   ]
  },
  {
   "cell_type": "code",
   "execution_count": 4,
   "id": "d6906a5d",
   "metadata": {},
   "outputs": [
    {
     "name": "stdout",
     "output_type": "stream",
     "text": [
      "ProductOvernightCapFloorlet →\n",
      "       Attribute       Value\n",
      "0  EffectiveDate  2025-07-01\n",
      "1   MaturityDate  2025-10-01\n",
      "2          Index     SOFR-1B\n",
      "3    Compounding    COMPOUND\n",
      "4     OptionType         CAP\n",
      "5         Strike       0.015\n",
      "6       Notional      500000\n",
      "7       Currency         USD\n",
      "8    LongOrShort        LONG \n",
      "\n"
     ]
    }
   ],
   "source": [
    "caplet_ois = ProductOvernightCapFloorlet(\n",
    "    effectiveDate=\"2025-07-01\",\n",
    "    termOrEnd=\"3M\",\n",
    "    index=\"SOFR-1B\",\n",
    "    compounding=\"COMPOUND\",\n",
    "    optionType=\"CAP\",\n",
    "    strike=0.015,\n",
    "    notional=500_000,\n",
    "    longOrShort=\"LONG\",\n",
    ")\n",
    "print(\"ProductOvernightCapFloorlet →\")\n",
    "print(caplet_ois.accept(OvernightCapFloorletVisitor()), \"\\n\")"
   ]
  },
  {
   "cell_type": "code",
   "execution_count": 5,
   "id": "26e46220",
   "metadata": {},
   "outputs": [
    {
     "name": "stdout",
     "output_type": "stream",
     "text": [
      "ProductOvernightFloorlet →\n",
      "       Attribute       Value\n",
      "0  EffectiveDate  2025-07-01\n",
      "1   MaturityDate  2025-10-01\n",
      "2          Index     SOFR-1B\n",
      "3    Compounding      SIMPLE\n",
      "4     OptionType       FLOOR\n",
      "5         Strike       0.012\n",
      "6       Notional      500000\n",
      "7       Currency         USD\n",
      "8    LongOrShort       SHORT \n",
      "\n"
     ]
    }
   ],
   "source": [
    "floorlet_ois = ProductOvernightCapFloorlet(\n",
    "    effectiveDate=\"2025-07-01\",\n",
    "    termOrEnd=\"2025-10-01\",\n",
    "    index=\"SOFR-1B\",\n",
    "    compounding=\"SIMPLE\",\n",
    "    optionType=\"FLOOR\",\n",
    "    strike=0.012,\n",
    "    notional=500_000,\n",
    "    longOrShort=\"SHORT\",\n",
    ")\n",
    "print(\"ProductOvernightFloorlet →\")\n",
    "print(floorlet_ois.accept(OvernightCapFloorletVisitor()), \"\\n\")"
   ]
  },
  {
   "cell_type": "markdown",
   "id": "6b919702",
   "metadata": {},
   "source": [
    "## 4. Cap/Floor Stream\n",
    "\n",
    "Build a quarterly (3M) cap stream from July 1 2025 to July 1 2026, strike 2.5%, notional 1 000 000."
   ]
  },
  {
   "cell_type": "code",
   "execution_count": 6,
   "id": "3a37685d",
   "metadata": {},
   "outputs": [
    {
     "name": "stdout",
     "output_type": "stream",
     "text": [
      "Num caplets: 4\n",
      "---\n",
      "      Attribute             Value\n",
      "0  AccrualStart        2025-07-01\n",
      "1    AccrualEnd        2025-10-01\n",
      "2         Index  USD-LIBOR-BBA-3M\n",
      "3    OptionType               CAP\n",
      "4        Strike             0.025\n",
      "5      Notional           1000000\n",
      "6      Currency               USD\n",
      "7   LongOrShort              LONG\n",
      "---\n",
      "      Attribute             Value\n",
      "0  AccrualStart        2025-10-01\n",
      "1    AccrualEnd        2026-01-02\n",
      "2         Index  USD-LIBOR-BBA-3M\n",
      "3    OptionType               CAP\n",
      "4        Strike             0.025\n",
      "5      Notional           1000000\n",
      "6      Currency               USD\n",
      "7   LongOrShort              LONG\n"
     ]
    }
   ],
   "source": [
    "stream = CapFloorStream(\n",
    "    startDate=\"2025-07-01\",\n",
    "    endDate=\"2026-07-01\",\n",
    "    frequency=\"3M\",\n",
    "    iborIndex=\"USD-LIBOR-BBA-3M\",\n",
    "    optionType=\"CAP\",\n",
    "    strike=0.025,\n",
    "    notional=1000000,\n",
    "    longOrShort=\"LONG\",\n",
    ")\n",
    "print(\"Num caplets:\", stream.numProducts)\n",
    "\n",
    "# %%\n",
    "# Show first two caplets\n",
    "for i in range(2):\n",
    "    print(\"---\")\n",
    "    print(stream.element(i).accept(IborCapFloorletVisitor()))"
   ]
  },
  {
   "cell_type": "markdown",
   "id": "5977e70c",
   "metadata": {},
   "source": [
    "## 5. Cap/Floor Portfolio Wrappers\n",
    " \n",
    "### 5.1 IBOR Cap/Floor \n",
    "\n",
    "Wrap the above stream in a `ProductIborCapFloor`.\n",
    " "
   ]
  },
  {
   "cell_type": "code",
   "execution_count": 7,
   "id": "c7386795",
   "metadata": {},
   "outputs": [
    {
     "name": "stdout",
     "output_type": "stream",
     "text": [
      "ProductIborCapFloor (Cap) →\n",
      "       Attribute             Value\n",
      "0  EffectiveDate        2025-07-01\n",
      "1   MaturityDate        2026-07-01\n",
      "2          Index  USD-LIBOR-BBA-3M\n",
      "3     OptionType               CAP\n",
      "4       Notional           2000000\n",
      "5       Currency               USD\n",
      "6    LongOrShort              LONG\n",
      "7     NumCaplets                 4\n"
     ]
    }
   ],
   "source": [
    "cap = ProductIborCapFloor(\n",
    "    effectiveDate=\"2025-07-01\",\n",
    "    maturityDate =\"2026-07-01\",\n",
    "    frequency    =\"3M\",\n",
    "    index        =\"USD-LIBOR-BBA-3M\",\n",
    "    optionType   =\"CAP\",        # ← CAP instead of FLOOR\n",
    "    strike       =0.015,\n",
    "    notional     =2_000_000,\n",
    "    longOrShort  =\"LONG\",       # usually LONG for a cap\n",
    ")\n",
    "print(\"ProductIborCapFloor (Cap) →\")\n",
    "print(cap.accept(IborCapFloorVisitor()))"
   ]
  },
  {
   "cell_type": "code",
   "execution_count": 8,
   "id": "6d30bfd6",
   "metadata": {},
   "outputs": [
    {
     "name": "stdout",
     "output_type": "stream",
     "text": [
      "ProductIborCapFloor (Floor)→\n",
      "       Attribute             Value\n",
      "0  EffectiveDate        2025-07-01\n",
      "1   MaturityDate        2026-07-01\n",
      "2          Index  USD-LIBOR-BBA-3M\n",
      "3     OptionType             FLOOR\n",
      "4       Notional           2000000\n",
      "5       Currency               USD\n",
      "6    LongOrShort             SHORT\n",
      "7     NumCaplets                 4\n"
     ]
    }
   ],
   "source": [
    "cap = ProductIborCapFloor(\n",
    "    effectiveDate=\"2025-07-01\",\n",
    "    maturityDate =\"2026-07-01\",\n",
    "    frequency    =\"3M\",\n",
    "    index        =\"USD-LIBOR-BBA-3M\",\n",
    "    optionType   =\"FLOOR\",\n",
    "    strike       =0.015,\n",
    "    notional     =2_000_000,\n",
    "    longOrShort  =\"SHORT\",\n",
    ")\n",
    "print(\"ProductIborCapFloor (Floor)→\")\n",
    "print(cap.accept(IborCapFloorVisitor()))"
   ]
  },
  {
   "cell_type": "markdown",
   "id": "ad6f655a",
   "metadata": {},
   "source": [
    "## 5.2 Overnight Cap/Floor\n",
    " \n",
    "Wrap a “compound OIS” stream in `ProductOvernightCapFloor`."
   ]
  },
  {
   "cell_type": "code",
   "execution_count": 9,
   "id": "23033f84",
   "metadata": {},
   "outputs": [
    {
     "name": "stdout",
     "output_type": "stream",
     "text": [
      "ProductOvernightCapFloor (Cap) →\n",
      "       Attribute       Value\n",
      "0  EffectiveDate  2025-07-01\n",
      "1   MaturityDate  2026-07-01\n",
      "2          Index     SOFR-1B\n",
      "3     OptionType         CAP\n",
      "4    Compounding    COMPOUND\n",
      "5       Notional     1000000\n",
      "6       Currency         USD\n",
      "7    LongOrShort        LONG\n",
      "8     NumCaplets           4\n"
     ]
    }
   ],
   "source": [
    "ois_cap = ProductOvernightCapFloor(\n",
    "    effectiveDate=\"2025-07-01\",\n",
    "    maturityDate =\"2026-07-01\",\n",
    "    frequency    =\"3M\",\n",
    "    index        =\"SOFR-1B\",\n",
    "    compounding  =\"COMPOUND\",\n",
    "    optionType   =\"CAP\",\n",
    "    strike       =0.015,\n",
    "    notional     =1_000_000,\n",
    "    longOrShort  =\"LONG\",\n",
    ")\n",
    "print(\"ProductOvernightCapFloor (Cap) →\")\n",
    "print(ois_cap.accept(OvernightCapFloorVisitor()))"
   ]
  },
  {
   "cell_type": "code",
   "execution_count": 10,
   "id": "b6f0c1e0",
   "metadata": {},
   "outputs": [
    {
     "name": "stdout",
     "output_type": "stream",
     "text": [
      "ProductOvernightCapFloor (Floor) →\n",
      "       Attribute       Value\n",
      "0  EffectiveDate  2025-07-01\n",
      "1   MaturityDate  2026-07-01\n",
      "2          Index     SOFR-1B\n",
      "3     OptionType       FLOOR\n",
      "4    Compounding    COMPOUND\n",
      "5       Notional     1000000\n",
      "6       Currency         USD\n",
      "7    LongOrShort       SHORT\n",
      "8     NumCaplets           4\n"
     ]
    }
   ],
   "source": [
    "ois_floor = ProductOvernightCapFloor(\n",
    "    effectiveDate=\"2025-07-01\",\n",
    "    maturityDate =\"2026-07-01\",\n",
    "    frequency    =\"3M\",\n",
    "    index        =\"SOFR-1B\",\n",
    "    compounding  =\"COMPOUND\",\n",
    "    optionType   =\"FLOOR\",\n",
    "    strike       =0.012,\n",
    "    notional     =1_000_000,\n",
    "    longOrShort  =\"SHORT\",\n",
    ")\n",
    "print(\"ProductOvernightCapFloor (Floor) →\")\n",
    "print(ois_floor.accept(OvernightCapFloorVisitor()))"
   ]
  },
  {
   "cell_type": "markdown",
   "id": "4925c9f3",
   "metadata": {},
   "source": [
    "## 6. Swaptions\n",
    "\n",
    "### 6.1 IBOR Swaption\n",
    "\n",
    "European swaption on a 5Y quarterly USD‐LIBOR swap, strike 1.75%, notional 1 000 000, long.\n"
   ]
  },
  {
   "cell_type": "code",
   "execution_count": 11,
   "id": "0258e67a",
   "metadata": {},
   "outputs": [
    {
     "name": "stdout",
     "output_type": "stream",
     "text": [
      "ProductIborSwaption →\n",
      "     Attribute             Value\n",
      "0   ExpiryDate        2025-12-01\n",
      "1    SwapStart        2026-01-01\n",
      "2      SwapEnd        2031-01-01\n",
      "3        Index  USD-LIBOR-BBA-3M\n",
      "4    FixedRate            0.0175\n",
      "5     Notional           1000000\n",
      "6     Currency               USD\n",
      "7  LongOrShort              LONG\n"
     ]
    }
   ],
   "source": [
    "swaption_ibor = ProductIborSwaption(\n",
    "    optionExpiry=\"2025-12-01\",\n",
    "    swapStart    =\"2026-01-01\",\n",
    "    swapEnd      =\"2031-01-01\",\n",
    "    frequency    =\"3M\",\n",
    "    iborIndex    =\"USD-LIBOR-BBA-3M\",   # full registry key\n",
    "    strikeRate   =0.0175,\n",
    "    notional     =1_000_000,\n",
    "    longOrShort  =\"LONG\",\n",
    "    optionType   =\"PAYER\" \n",
    ")\n",
    "print(\"ProductIborSwaption →\")\n",
    "print(swaption_ibor.accept(IborSwaptionVisitor()))"
   ]
  },
  {
   "cell_type": "markdown",
   "id": "45bb8d85",
   "metadata": {},
   "source": [
    "### 6.2 Overnight Swaption\n",
    "\n",
    "European swaption on a 2Y monthly OIS, strike 1%, notional 500 000, short."
   ]
  },
  {
   "cell_type": "code",
   "execution_count": 12,
   "id": "32ba5263",
   "metadata": {},
   "outputs": [
    {
     "name": "stdout",
     "output_type": "stream",
     "text": [
      "ProductOvernightSwaption →\n",
      "     Attribute       Value\n",
      "0   ExpiryDate  2025-10-01\n",
      "1    SwapStart  2025-11-01\n",
      "2      SwapEnd  2027-11-01\n",
      "3        Index       FF-1B\n",
      "4    FixedRate        0.01\n",
      "5     Notional      500000\n",
      "6     Currency         USD\n",
      "7  LongOrShort       SHORT\n"
     ]
    }
   ],
   "source": [
    "swaption_ois = ProductOvernightSwaption(\n",
    "    optionExpiry  =\"2025-10-01\",\n",
    "    swapStart     =\"2025-11-01\",\n",
    "    swapEnd       =\"2027-11-01\",\n",
    "    frequency     =\"1M\",\n",
    "    overnightIndex=\"FF-1B\",\n",
    "    strikeRate    =0.01,\n",
    "    notional      =500_000,\n",
    "    longOrShort   =\"SHORT\",\n",
    "    optionType    =\"RECEIVER\"\n",
    ")\n",
    "print(\"ProductOvernightSwaption →\")\n",
    "print(swaption_ois.accept(OvernightSwaptionVisitor()))"
   ]
  }
 ],
 "metadata": {
  "kernelspec": {
   "display_name": "base",
   "language": "python",
   "name": "python3"
  },
  "language_info": {
   "codemirror_mode": {
    "name": "ipython",
    "version": 3
   },
   "file_extension": ".py",
   "mimetype": "text/x-python",
   "name": "python",
   "nbconvert_exporter": "python",
   "pygments_lexer": "ipython3",
   "version": "3.12.7"
  }
 },
 "nbformat": 4,
 "nbformat_minor": 5
}
