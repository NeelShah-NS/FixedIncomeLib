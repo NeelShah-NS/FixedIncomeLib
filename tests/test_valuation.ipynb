{
 "cells": [
  {
   "cell_type": "markdown",
   "id": "f3afdb13",
   "metadata": {},
   "source": [
    "# Test Valuation Engines\n",
    "\n",
    "This notebook walks through:\n",
    "\n",
    "1. Loading historical SOFR fixings\n",
    "2. Building a simple two-index yield curve\n",
    "3. Valuing various products (bullet, IBOR cashflow, OIS cashflow, futures, swaps)\n",
    "\n",
    "---"
   ]
  },
  {
   "cell_type": "markdown",
   "id": "5906bcce",
   "metadata": {},
   "source": [
    "## 1. Imports & Setup"
   ]
  },
  {
   "cell_type": "code",
   "execution_count": 1,
   "id": "1a70b19e",
   "metadata": {},
   "outputs": [],
   "source": [
    "import pandas as pd\n",
    "from fixedincomelib.data import DataCollection, Data1D, build_yc_data_collection\n",
    "from fixedincomelib.date import Date\n",
    "from fixedincomelib.yield_curve import YieldCurve\n",
    "from fixedincomelib.valuation import IndexManager\n",
    "from fixedincomelib.valuation import ValuationEngineRegistry\n",
    "from fixedincomelib.product import (\n",
    "    ProductBulletCashflow,\n",
    "    ProductIborCashflow,\n",
    "    ProductOvernightIndexCashflow,\n",
    "    ProductFuture,\n",
    "    ProductRfrFuture,\n",
    "    ProductIborSwap,\n",
    "    ProductOvernightSwap,\n",
    "    ProductPortfolio )\n",
    "from fixedincomelib.builders import create_products_from_data1d\n",
    "from fixedincomelib.builders import build_yc_calibration_basket\n",
    "from fixedincomelib.product.product_display_visitor import RfrFutureVisitor, OvernightSwapVisitor\n",
    "from fixedincomelib.diagnostics import check_calibration, assert_calibrated"
   ]
  },
  {
   "cell_type": "markdown",
   "id": "2784cc5a",
   "metadata": {},
   "source": [
    "## 2. Load SOFR Fixings"
   ]
  },
  {
   "cell_type": "code",
   "execution_count": 2,
   "id": "baa8d46f",
   "metadata": {},
   "outputs": [
    {
     "data": {
      "text/plain": [
       "<fixedincomelib.valuation.index_fixing_registry.IndexManager at 0x23f06e603b0>"
      ]
     },
     "execution_count": 2,
     "metadata": {},
     "output_type": "execute_result"
    }
   ],
   "source": [
    "IndexManager.instance()"
   ]
  },
  {
   "cell_type": "markdown",
   "id": "198c2da2",
   "metadata": {},
   "source": [
    "## 3. Build Dummy Yield Curve"
   ]
  },
  {
   "cell_type": "code",
   "execution_count": 3,
   "id": "9ba26aee",
   "metadata": {},
   "outputs": [],
   "source": [
    "MARKET_DF = pd.DataFrame(\n",
    "    [\n",
    "        [\"RFR FUTURE\",\"SOFR-FUTURE-3M\",\"2025-09-24 x 2025-12-24\", 95.70],\n",
    "        [\"RFR FUTURE\",\"SOFR-FUTURE-3M\",\"2025-12-24 x 2026-03-24\", 95.80],  \n",
    "        [\"RFR FUTURE\",\"SOFR-FUTURE-3M\",\"2026-03-24 x 2026-06-24\", 95.90],  \n",
    "        [\"RFR FUTURE\",\"SOFR-FUTURE-3M\",\"2026-06-24 x 2026-09-24\", 96.00],  \n",
    "        [\"RFR FUTURE\",\"SOFR-FUTURE-3M\",\"2026-09-24 x 2026-12-24\", 96.08],  \n",
    "        [\"RFR FUTURE\",\"SOFR-FUTURE-3M\",\"2026-12-24 x 2027-03-24\", 96.16],  \n",
    "        [\"RFR FUTURE\",\"SOFR-FUTURE-3M\",\"2027-03-24 x 2027-06-24\", 96.24],  \n",
    "        [\"RFR FUTURE\",\"SOFR-FUTURE-3M\",\"2027-06-24 x 2027-09-24\", 96.32],  \n",
    "        [\"RFR FUTURE\",\"SOFR-FUTURE-3M\",\"2027-09-24 x 2027-12-24\", 96.38],  \n",
    "        [\"RFR FUTURE\",\"SOFR-FUTURE-3M\",\"2027-12-24 x 2028-03-24\", 96.44], \n",
    "        [\"RFR FUTURE\",\"SOFR-FUTURE-3M\",\"2028-03-24 x 2028-06-24\", 96.50],  \n",
    "        [\"RFR FUTURE\",\"SOFR-FUTURE-3M\",\"2028-06-24 x 2028-09-24\", 96.55],  \n",
    "        [\"RFR SWAP\",\"USD-SOFR-OIS\",\"4Y\",  0.0368],\n",
    "        [\"RFR SWAP\",\"USD-SOFR-OIS\",\"5Y\",  0.0365],\n",
    "        [\"RFR SWAP\",\"USD-SOFR-OIS\",\"6Y\",  0.0371],\n",
    "        [\"RFR SWAP\",\"USD-SOFR-OIS\",\"7Y\",  0.0374],\n",
    "        [\"RFR SWAP\",\"USD-SOFR-OIS\",\"8Y\",  0.0380],\n",
    "        [\"RFR SWAP\",\"USD-SOFR-OIS\",\"9Y\",  0.0383],\n",
    "        [\"RFR SWAP\",\"USD-SOFR-OIS\",\"10Y\", 0.0386],  \n",
    "        [\"RFR SWAP\",\"USD-SOFR-OIS\",\"15Y\", 0.0395],\n",
    "        [\"RFR SWAP\",\"USD-SOFR-OIS\",\"20Y\", 0.0405],\n",
    "        [\"RFR SWAP\",\"USD-SOFR-OIS\",\"25Y\", 0.0412],\n",
    "        [\"RFR SWAP\",\"USD-SOFR-OIS\",\"30Y\", 0.0419],  \n",
    "        [\"RFR SWAP\",\"USD-SOFR-OIS\",\"40Y\", 0.0423],\n",
    "        [\"RFR SWAP\",\"USD-SOFR-OIS\",\"50Y\", 0.0428],\n",
    "        [\"RFR SWAP\",\"USD-SOFR-OIS\",\"60Y\", 0.0432],\n",
    "    ],\n",
    "    columns=[\"DATA TYPE\",\"DATA CONVENTION\",\"AXIS\",\"VALUE\"],\n",
    ")\n"
   ]
  },
  {
   "cell_type": "code",
   "execution_count": 4,
   "id": "e63faaa8",
   "metadata": {},
   "outputs": [],
   "source": [
    "data_objs, dc = build_yc_data_collection(MARKET_DF)"
   ]
  },
  {
   "cell_type": "code",
   "execution_count": 5,
   "id": "199380c0",
   "metadata": {},
   "outputs": [],
   "source": [
    "build_methods = [{\n",
    "    \"TARGET\": \"SOFR-1B\",\n",
    "    \"REFERENCE\": None,\n",
    "    \"INSTRUMENTS\": [\"SOFR-FUTURE-3M\", \"USD-SOFR-OIS\"],\n",
    "    \"INTERPOLATION METHOD\": \"PIECEWISE_CONSTANT\"\n",
    "}]\n"
   ]
  },
  {
   "cell_type": "code",
   "execution_count": 6,
   "id": "ebc90c11",
   "metadata": {},
   "outputs": [
    {
     "name": "stdout",
     "output_type": "stream",
     "text": [
      "['SOFR-1B']\n",
      "Curve components: dict_keys(['SOFR-1B'])\n"
     ]
    }
   ],
   "source": [
    "yc = YieldCurve(\"2025-09-24\", dc, build_methods)\n",
    "print(\"Curve components:\", yc.components.keys())"
   ]
  },
  {
   "cell_type": "code",
   "execution_count": 7,
   "id": "300a74f7",
   "metadata": {},
   "outputs": [
    {
     "name": "stdout",
     "output_type": "stream",
     "text": [
      "2025-09-24 0.04299999999999973\n",
      "2025-12-24 0.0420000000000007 0.9892474300176142\n",
      "2026-03-24 0.04099999999999925 0.9789682632534528\n",
      "2026-06-24 0.039999999999999654 0.9688172118009166\n",
      "2026-09-24 0.03919999999999943 0.9590139580079465\n",
      "2026-12-24 0.03840000000000021 0.9496044331910601\n",
      "2027-03-24 0.03759999999999957 0.9405749140165017\n",
      "2027-06-24 0.03680000000000041 0.9316230516270895\n",
      "2027-09-24 0.036198974472346455 0.9229432827986365\n",
      "2027-12-24 0.035600000000000444 0.9145744187699917\n",
      "2028-03-24 0.03500914087246375 0.9064176668986448\n",
      "2028-06-24 0.03445517607961423 0.8983821377774136\n",
      "2028-09-26 0.029846677637727997 0.8903818949851416\n",
      "2028-12-26 0.030178307389258308 0.8837146419577939\n",
      "2029-03-26 0.02952225722862226 0.877097313870723\n",
      "2029-06-26 0.029522257228623127 0.8705295368818605\n",
      "2029-09-26 0.034826580828682334 0.8640109399484984\n",
      "2029-12-26 0.03521354283788991 0.8564710945541244\n",
      "2030-03-26 0.03444803103706622 0.848997046091181\n",
      "2030-06-26 0.03444803103706622 0.8415882203786393\n",
      "2030-09-26 0.03994878144740991 0.8342440482460972\n"
     ]
    }
   ],
   "source": [
    "from fixedincomelib.date import addPeriod, moveToBusinessDay\n",
    "\n",
    "StartDate = \"2025-09-24\"\n",
    "print(Date(StartDate).ISO(),yc.forward(index=\"SOFR-1B\", effectiveDate=Date(StartDate),termOrTerminationDate=\"3M\"))\n",
    "for i in range(20):\n",
    "    new_date = addPeriod(StartDate,\"3M\")\n",
    "    print(new_date.ISO(), \n",
    "          yc.forward(index=\"SOFR-1B\", effectiveDate=new_date,termOrTerminationDate=\"3M\"),\n",
    "          yc.discountFactor(index='SOFR-1B', to_date=new_date))\n",
    "    StartDate = moveToBusinessDay(input_date=new_date,biz_conv=\"F\",hol_conv=\"USGS\")\n",
    "    "
   ]
  },
  {
   "cell_type": "code",
   "execution_count": 8,
   "id": "75b6ecd4",
   "metadata": {},
   "outputs": [],
   "source": [
    "comp = yc.retrieveComponent(\"SOFR-1B\")"
   ]
  },
  {
   "cell_type": "code",
   "execution_count": 9,
   "id": "8297cbf4",
   "metadata": {},
   "outputs": [],
   "source": [
    "yc.forwardRateGradientWrtModelParameters(index=\"SOFR-1B\", start_time= \"2025-09-24\", end_time=\"2026-02-24\", scaler =1, accumulate=False)"
   ]
  },
  {
   "cell_type": "code",
   "execution_count": 10,
   "id": "07a1efae",
   "metadata": {},
   "outputs": [
    {
     "data": {
      "text/plain": [
       "array([0.61075992, 0.40717328, 0.        , 0.        , 0.        ,\n",
       "       0.        , 0.        , 0.        , 0.        , 0.        ,\n",
       "       0.        , 0.        , 0.        , 0.        , 0.        ,\n",
       "       0.        , 0.        , 0.        , 0.        , 0.        ,\n",
       "       0.        , 0.        , 0.        , 0.        , 0.        ,\n",
       "       0.        ])"
      ]
     },
     "execution_count": 10,
     "metadata": {},
     "output_type": "execute_result"
    }
   ],
   "source": [
    "yc.gradient_"
   ]
  },
  {
   "cell_type": "code",
   "execution_count": 11,
   "id": "3793798b",
   "metadata": {},
   "outputs": [],
   "source": [
    "yc.discountFactorGradientWrtModelParameters(index=\"SOFR-1B\", to_date=\"2045-12-24\", scaler =1, accumulate=False)"
   ]
  },
  {
   "cell_type": "code",
   "execution_count": 12,
   "id": "0ce77666",
   "metadata": {},
   "outputs": [
    {
     "data": {
      "text/plain": [
       "array([-0.10909254, -0.10909254, -0.10909254, -0.10909254, -0.10909254,\n",
       "       -0.10909254, -0.10909254, -0.10909254, -0.10909254, -0.10909254,\n",
       "       -0.10909254, -0.10909254, -0.43879442, -0.43637015, -0.43637015,\n",
       "       -0.43758229, -0.43515801, -0.43637015, -0.43637015, -2.18185073,\n",
       "       -2.18185073, -0.10666826, -0.        , -0.        , -0.        ,\n",
       "       -0.        ])"
      ]
     },
     "execution_count": 12,
     "metadata": {},
     "output_type": "execute_result"
    }
   ],
   "source": [
    "yc.gradient_"
   ]
  },
  {
   "cell_type": "code",
   "execution_count": 13,
   "id": "e0877cfd",
   "metadata": {},
   "outputs": [],
   "source": [
    "yc.discountFactorGradientWrtModelParameters(index=\"SOFR-1B\", to_date=\"2045-12-24\", scaler =-1, accumulate=True)"
   ]
  },
  {
   "cell_type": "code",
   "execution_count": 14,
   "id": "fa34a999",
   "metadata": {},
   "outputs": [
    {
     "data": {
      "text/plain": [
       "array([0., 0., 0., 0., 0., 0., 0., 0., 0., 0., 0., 0., 0., 0., 0., 0., 0.,\n",
       "       0., 0., 0., 0., 0., 0., 0., 0., 0.])"
      ]
     },
     "execution_count": 14,
     "metadata": {},
     "output_type": "execute_result"
    }
   ],
   "source": [
    "yc.gradient_"
   ]
  },
  {
   "cell_type": "code",
   "execution_count": 15,
   "id": "5634b44a",
   "metadata": {},
   "outputs": [
    {
     "data": {
      "text/plain": [
       "[0.043243186519581825,\n",
       " 0.04178103144615489,\n",
       " 0.04169306522517946,\n",
       " 0.04068131461630934,\n",
       " 0.039440471052749955,\n",
       " 0.03821685121924658,\n",
       " 0.0382520685320776,\n",
       " 0.0374419918802089,\n",
       " 0.036435771528610085,\n",
       " 0.03583456068222943,\n",
       " 0.03561871936078645,\n",
       " 0.03511210724602266,\n",
       " 0.03006503547864423,\n",
       " 0.035059447352288414,\n",
       " 0.04019007362698685,\n",
       " 0.039332253743042195,\n",
       " 0.04258954406742226,\n",
       " 0.04089405997116263,\n",
       " 0.04160884120252573,\n",
       " 0.041694364677067663,\n",
       " 0.04475533979347685,\n",
       " 0.045740020759203685,\n",
       " 0.04855696932963484,\n",
       " 0.04508161016568755,\n",
       " 0.0493920830586393,\n",
       " 0.052719152963869725]"
      ]
     },
     "execution_count": 15,
     "metadata": {},
     "output_type": "execute_result"
    }
   ],
   "source": [
    "comp.state_variables\n"
   ]
  },
  {
   "cell_type": "code",
   "execution_count": 16,
   "id": "5b5e0ef6",
   "metadata": {},
   "outputs": [
    {
     "data": {
      "text/plain": [
       "[Date(24,12,2025),\n",
       " Date(24,3,2026),\n",
       " Date(24,6,2026),\n",
       " Date(24,9,2026),\n",
       " Date(24,12,2026),\n",
       " Date(24,3,2027),\n",
       " Date(24,6,2027),\n",
       " Date(24,9,2027),\n",
       " Date(24,12,2027),\n",
       " Date(24,3,2028),\n",
       " Date(24,6,2028),\n",
       " Date(24,9,2028),\n",
       " Date(26,9,2029),\n",
       " Date(26,9,2030),\n",
       " Date(26,9,2031),\n",
       " Date(27,9,2032),\n",
       " Date(26,9,2033),\n",
       " Date(26,9,2034),\n",
       " Date(26,9,2035),\n",
       " Date(26,9,2040),\n",
       " Date(26,9,2045),\n",
       " Date(26,9,2050),\n",
       " Date(27,9,2055),\n",
       " Date(28,9,2065),\n",
       " Date(26,9,2075),\n",
       " Date(26,9,2085)]"
      ]
     },
     "execution_count": 16,
     "metadata": {},
     "output_type": "execute_result"
    }
   ],
   "source": [
    "comp.pillar_dates\n"
   ]
  },
  {
   "cell_type": "code",
   "execution_count": 17,
   "id": "00959727",
   "metadata": {},
   "outputs": [
    {
     "data": {
      "text/plain": [
       "[0.25,\n",
       " 0.5,\n",
       " 0.75,\n",
       " 1.0,\n",
       " 1.25,\n",
       " 1.5,\n",
       " 1.75,\n",
       " 2.0,\n",
       " 2.25,\n",
       " 2.5,\n",
       " 2.75,\n",
       " 3.0,\n",
       " 4.0055555555555555,\n",
       " 5.0055555555555555,\n",
       " 6.0055555555555555,\n",
       " 7.008333333333334,\n",
       " 8.005555555555556,\n",
       " 9.005555555555556,\n",
       " 10.005555555555556,\n",
       " 15.005555555555556,\n",
       " 20.005555555555556,\n",
       " 25.005555555555556,\n",
       " 30.008333333333333,\n",
       " 40.01111111111111,\n",
       " 50.00555555555555,\n",
       " 60.00555555555555]"
      ]
     },
     "execution_count": 17,
     "metadata": {},
     "output_type": "execute_result"
    }
   ],
   "source": [
    "comp.pillar_times_to_date\n"
   ]
  },
  {
   "cell_type": "code",
   "execution_count": 18,
   "id": "2df34265",
   "metadata": {},
   "outputs": [
    {
     "data": {
      "text/plain": [
       "[PillarNode(node_id='RFR FUTURE SOFR-FUTURE-3M September 24th, 2025 x December 24th, 2025', pillar_index=0, pillar_time=0.25, pillar_date=Date(24,12,2025), start_date=Date(24,9,2025), end_date=Date(24,12,2025), instrument=<fixedincomelib.product.linear_products.ProductRfrFuture object at 0x0000023F37F0B980>, state_value=0.043243186519581825),\n",
       " PillarNode(node_id='RFR FUTURE SOFR-FUTURE-3M December 24th, 2025 x March 24th, 2026', pillar_index=1, pillar_time=0.5, pillar_date=Date(24,3,2026), start_date=Date(24,12,2025), end_date=Date(24,3,2026), instrument=<fixedincomelib.product.linear_products.ProductRfrFuture object at 0x0000023F37F34D70>, state_value=0.04178103144615489),\n",
       " PillarNode(node_id='RFR FUTURE SOFR-FUTURE-3M March 24th, 2026 x June 24th, 2026', pillar_index=2, pillar_time=0.75, pillar_date=Date(24,6,2026), start_date=Date(24,3,2026), end_date=Date(24,6,2026), instrument=<fixedincomelib.product.linear_products.ProductRfrFuture object at 0x0000023F37F35010>, state_value=0.04169306522517946),\n",
       " PillarNode(node_id='RFR FUTURE SOFR-FUTURE-3M June 24th, 2026 x September 24th, 2026', pillar_index=3, pillar_time=1.0, pillar_date=Date(24,9,2026), start_date=Date(24,6,2026), end_date=Date(24,9,2026), instrument=<fixedincomelib.product.linear_products.ProductRfrFuture object at 0x0000023F37F352B0>, state_value=0.04068131461630934),\n",
       " PillarNode(node_id='RFR FUTURE SOFR-FUTURE-3M September 24th, 2026 x December 24th, 2026', pillar_index=4, pillar_time=1.25, pillar_date=Date(24,12,2026), start_date=Date(24,9,2026), end_date=Date(24,12,2026), instrument=<fixedincomelib.product.linear_products.ProductRfrFuture object at 0x0000023F37F35520>, state_value=0.039440471052749955),\n",
       " PillarNode(node_id='RFR FUTURE SOFR-FUTURE-3M December 24th, 2026 x March 24th, 2027', pillar_index=5, pillar_time=1.5, pillar_date=Date(24,3,2027), start_date=Date(24,12,2026), end_date=Date(24,3,2027), instrument=<fixedincomelib.product.linear_products.ProductRfrFuture object at 0x0000023F37F35790>, state_value=0.03821685121924658),\n",
       " PillarNode(node_id='RFR FUTURE SOFR-FUTURE-3M March 24th, 2027 x June 24th, 2027', pillar_index=6, pillar_time=1.75, pillar_date=Date(24,6,2027), start_date=Date(24,3,2027), end_date=Date(24,6,2027), instrument=<fixedincomelib.product.linear_products.ProductRfrFuture object at 0x0000023F37F359D0>, state_value=0.0382520685320776),\n",
       " PillarNode(node_id='RFR FUTURE SOFR-FUTURE-3M June 24th, 2027 x September 24th, 2027', pillar_index=7, pillar_time=2.0, pillar_date=Date(24,9,2027), start_date=Date(24,6,2027), end_date=Date(24,9,2027), instrument=<fixedincomelib.product.linear_products.ProductRfrFuture object at 0x0000023F37F35C40>, state_value=0.0374419918802089),\n",
       " PillarNode(node_id='RFR FUTURE SOFR-FUTURE-3M September 24th, 2027 x December 24th, 2027', pillar_index=8, pillar_time=2.25, pillar_date=Date(24,12,2027), start_date=Date(24,9,2027), end_date=Date(24,12,2027), instrument=<fixedincomelib.product.linear_products.ProductRfrFuture object at 0x0000023F37F35EB0>, state_value=0.036435771528610085),\n",
       " PillarNode(node_id='RFR FUTURE SOFR-FUTURE-3M December 24th, 2027 x March 24th, 2028', pillar_index=9, pillar_time=2.5, pillar_date=Date(24,3,2028), start_date=Date(24,12,2027), end_date=Date(24,3,2028), instrument=<fixedincomelib.product.linear_products.ProductRfrFuture object at 0x0000023F37F36120>, state_value=0.03583456068222943),\n",
       " PillarNode(node_id='RFR FUTURE SOFR-FUTURE-3M March 24th, 2028 x June 24th, 2028', pillar_index=10, pillar_time=2.75, pillar_date=Date(24,6,2028), start_date=Date(24,3,2028), end_date=Date(24,6,2028), instrument=<fixedincomelib.product.linear_products.ProductRfrFuture object at 0x0000023F37F36360>, state_value=0.03561871936078645),\n",
       " PillarNode(node_id='RFR FUTURE SOFR-FUTURE-3M June 24th, 2028 x September 24th, 2028', pillar_index=11, pillar_time=3.0, pillar_date=Date(24,9,2028), start_date=Date(24,6,2028), end_date=Date(24,9,2028), instrument=<fixedincomelib.product.linear_products.ProductRfrFuture object at 0x0000023F37F365D0>, state_value=0.03511210724602266),\n",
       " PillarNode(node_id='RFR SWAP USD-SOFR-OIS September 26th, 2029', pillar_index=12, pillar_time=4.0055555555555555, pillar_date=Date(26,9,2029), start_date=None, end_date=Date(26,9,2029), instrument=<fixedincomelib.product.linear_products.ProductOvernightSwap object at 0x0000023F37725520>, state_value=0.03006503547864423),\n",
       " PillarNode(node_id='RFR SWAP USD-SOFR-OIS September 26th, 2030', pillar_index=13, pillar_time=5.0055555555555555, pillar_date=Date(26,9,2030), start_date=None, end_date=Date(26,9,2030), instrument=<fixedincomelib.product.linear_products.ProductOvernightSwap object at 0x0000023F06E61DC0>, state_value=0.035059447352288414),\n",
       " PillarNode(node_id='RFR SWAP USD-SOFR-OIS September 26th, 2031', pillar_index=14, pillar_time=6.0055555555555555, pillar_date=Date(26,9,2031), start_date=None, end_date=Date(26,9,2031), instrument=<fixedincomelib.product.linear_products.ProductOvernightSwap object at 0x0000023F37F36DB0>, state_value=0.04019007362698685),\n",
       " PillarNode(node_id='RFR SWAP USD-SOFR-OIS September 27th, 2032', pillar_index=15, pillar_time=7.008333333333334, pillar_date=Date(27,9,2032), start_date=None, end_date=Date(27,9,2032), instrument=<fixedincomelib.product.linear_products.ProductOvernightSwap object at 0x0000023F37F36B10>, state_value=0.039332253743042195),\n",
       " PillarNode(node_id='RFR SWAP USD-SOFR-OIS September 26th, 2033', pillar_index=16, pillar_time=8.005555555555556, pillar_date=Date(26,9,2033), start_date=None, end_date=Date(26,9,2033), instrument=<fixedincomelib.product.linear_products.ProductOvernightSwap object at 0x0000023F37F36D80>, state_value=0.04258954406742226),\n",
       " PillarNode(node_id='RFR SWAP USD-SOFR-OIS September 26th, 2034', pillar_index=17, pillar_time=9.005555555555556, pillar_date=Date(26,9,2034), start_date=None, end_date=Date(26,9,2034), instrument=<fixedincomelib.product.linear_products.ProductOvernightSwap object at 0x0000023F37F46240>, state_value=0.04089405997116263),\n",
       " PillarNode(node_id='RFR SWAP USD-SOFR-OIS September 26th, 2035', pillar_index=18, pillar_time=10.005555555555556, pillar_date=Date(26,9,2035), start_date=None, end_date=Date(26,9,2035), instrument=<fixedincomelib.product.linear_products.ProductOvernightSwap object at 0x0000023F37724BC0>, state_value=0.04160884120252573),\n",
       " PillarNode(node_id='RFR SWAP USD-SOFR-OIS September 26th, 2040', pillar_index=19, pillar_time=15.005555555555556, pillar_date=Date(26,9,2040), start_date=None, end_date=Date(26,9,2040), instrument=<fixedincomelib.product.linear_products.ProductOvernightSwap object at 0x0000023F37F462D0>, state_value=0.041694364677067663),\n",
       " PillarNode(node_id='RFR SWAP USD-SOFR-OIS September 26th, 2045', pillar_index=20, pillar_time=20.005555555555556, pillar_date=Date(26,9,2045), start_date=None, end_date=Date(26,9,2045), instrument=<fixedincomelib.product.linear_products.ProductOvernightSwap object at 0x0000023F37F46450>, state_value=0.04475533979347685),\n",
       " PillarNode(node_id='RFR SWAP USD-SOFR-OIS September 26th, 2050', pillar_index=21, pillar_time=25.005555555555556, pillar_date=Date(26,9,2050), start_date=None, end_date=Date(26,9,2050), instrument=<fixedincomelib.product.linear_products.ProductOvernightSwap object at 0x0000023F37F5F710>, state_value=0.045740020759203685),\n",
       " PillarNode(node_id='RFR SWAP USD-SOFR-OIS September 27th, 2055', pillar_index=22, pillar_time=30.008333333333333, pillar_date=Date(27,9,2055), start_date=None, end_date=Date(27,9,2055), instrument=<fixedincomelib.product.linear_products.ProductOvernightSwap object at 0x0000023F37F59820>, state_value=0.04855696932963484),\n",
       " PillarNode(node_id='RFR SWAP USD-SOFR-OIS September 28th, 2065', pillar_index=23, pillar_time=40.01111111111111, pillar_date=Date(28,9,2065), start_date=None, end_date=Date(28,9,2065), instrument=<fixedincomelib.product.linear_products.ProductOvernightSwap object at 0x0000023F37F6D640>, state_value=0.04508161016568755),\n",
       " PillarNode(node_id='RFR SWAP USD-SOFR-OIS September 26th, 2075', pillar_index=24, pillar_time=50.00555555555555, pillar_date=Date(26,9,2075), start_date=None, end_date=Date(26,9,2075), instrument=<fixedincomelib.product.linear_products.ProductOvernightSwap object at 0x0000023F37F6D8E0>, state_value=0.0493920830586393),\n",
       " PillarNode(node_id='RFR SWAP USD-SOFR-OIS September 26th, 2085', pillar_index=25, pillar_time=60.00555555555555, pillar_date=Date(26,9,2085), start_date=None, end_date=Date(26,9,2085), instrument=<fixedincomelib.product.linear_products.ProductOvernightSwap object at 0x0000023F37F81550>, state_value=0.052719152963869725)]"
      ]
     },
     "execution_count": 18,
     "metadata": {},
     "output_type": "execute_result"
    }
   ],
   "source": [
    "comp.pillar_nodes"
   ]
  },
  {
   "cell_type": "code",
   "execution_count": 19,
   "id": "70c194b2",
   "metadata": {},
   "outputs": [
    {
     "name": "stdout",
     "output_type": "stream",
     "text": [
      "RFR FUTURE SOFR-FUTURE-3M September 24th, 2025 x December 24th, 2025  PV=-1.405805e-14  Fut model=95.7000  mkt=95.7000  price_error=+2.8422e-14\n",
      "RFR FUTURE SOFR-FUTURE-3M December 24th, 2025 x March 24th, 2026  PV=-6.955988e-14  Fut model=95.8000  mkt=95.8000  price_error=-7.1054e-14\n",
      "RFR FUTURE SOFR-FUTURE-3M March 24th, 2026 x June 24th, 2026  PV=+4.130316e-14  Fut model=95.9000  mkt=95.9000  price_error=+7.1054e-14\n",
      "RFR FUTURE SOFR-FUTURE-3M June 24th, 2026 x September 24th, 2026  PV=+0.000000e+00  Fut model=96.0000  mkt=96.0000  price_error=+2.8422e-14\n",
      "RFR FUTURE SOFR-FUTURE-3M September 24th, 2026 x December 24th, 2026  PV=+6.747345e-14  Fut model=96.0800  mkt=96.0800  price_error=+5.6843e-14\n",
      "RFR FUTURE SOFR-FUTURE-3M December 24th, 2026 x March 24th, 2027  PV=-1.336637e-14  Fut model=96.1600  mkt=96.1600  price_error=-1.4211e-14\n",
      "RFR FUTURE SOFR-FUTURE-3M March 24th, 2027 x June 24th, 2027  PV=+6.619580e-14  Fut model=96.2400  mkt=96.2400  price_error=+5.6843e-14\n",
      "RFR FUTURE SOFR-FUTURE-3M June 24th, 2027 x September 24th, 2027  PV=-2.623163e-14  Fut model=96.3200  mkt=96.3200  price_error=-2.8422e-14\n",
      "RFR FUTURE SOFR-FUTURE-3M September 24th, 2027 x December 24th, 2027  PV=+0.000000e+00  Fut model=96.3800  mkt=96.3800  price_error=+0.0000e+00\n",
      "RFR FUTURE SOFR-FUTURE-3M December 24th, 2027 x March 24th, 2028  PV=-5.152388e-14  Fut model=96.4400  mkt=96.4400  price_error=-4.2633e-14\n",
      "RFR FUTURE SOFR-FUTURE-3M March 24th, 2028 x June 24th, 2028  PV=+6.383389e-14  Fut model=96.5000  mkt=96.5000  price_error=+9.9476e-14\n",
      "RFR FUTURE SOFR-FUTURE-3M June 24th, 2028 x September 24th, 2028  PV=+3.796560e-14  Fut model=96.5500  mkt=96.5500  price_error=+8.5265e-14\n",
      "RFR SWAP USD-SOFR-OIS September 26th, 2029  PV=-1.110223e-16  Par=0.036800  K=0.036800  price_error=+2.78e-17\n",
      "RFR SWAP USD-SOFR-OIS September 26th, 2030  PV=+0.000000e+00  Par=0.036500  K=0.036500  price_error=+0.00e+00\n",
      "RFR SWAP USD-SOFR-OIS September 26th, 2031  PV=+1.387779e-16  Par=0.037100  K=0.037100  price_error=-2.78e-17\n",
      "RFR SWAP USD-SOFR-OIS September 27th, 2032  PV=+1.387779e-16  Par=0.037400  K=0.037400  price_error=-2.08e-17\n",
      "RFR SWAP USD-SOFR-OIS September 26th, 2033  PV=+5.551115e-17  Par=0.038000  K=0.038000  price_error=-6.94e-18\n",
      "RFR SWAP USD-SOFR-OIS September 26th, 2034  PV=-5.551115e-17  Par=0.038300  K=0.038300  price_error=+6.94e-18\n",
      "RFR SWAP USD-SOFR-OIS September 26th, 2035  PV=-5.551115e-17  Par=0.038600  K=0.038600  price_error=+6.94e-18\n",
      "RFR SWAP USD-SOFR-OIS September 26th, 2040  PV=+2.775558e-16  Par=0.039500  K=0.039500  price_error=-2.78e-17\n",
      "RFR SWAP USD-SOFR-OIS September 26th, 2045  PV=-2.220446e-16  Par=0.040500  K=0.040500  price_error=+2.08e-17\n",
      "RFR SWAP USD-SOFR-OIS September 26th, 2050  PV=-2.220446e-16  Par=0.041200  K=0.041200  price_error=+1.39e-17\n",
      "RFR SWAP USD-SOFR-OIS September 27th, 2055  PV=+2.220446e-16  Par=0.041900  K=0.041900  price_error=-1.39e-17\n",
      "RFR SWAP USD-SOFR-OIS September 28th, 2065  PV=-2.220446e-16  Par=0.042300  K=0.042300  price_error=+6.94e-18\n",
      "RFR SWAP USD-SOFR-OIS September 26th, 2075  PV=-2.220446e-16  Par=0.042800  K=0.042800  price_error=+6.94e-18\n",
      "RFR SWAP USD-SOFR-OIS September 26th, 2085  PV=+0.000000e+00  Par=0.043200  K=0.043200  price_error=+0.00e+00\n",
      "max |PV| = 6.955987879944222e-14\n"
     ]
    },
    {
     "data": {
      "text/plain": [
       "6.955987879944222e-14"
      ]
     },
     "execution_count": 19,
     "metadata": {},
     "output_type": "execute_result"
    }
   ],
   "source": [
    "check_calibration(comp, verbose=True)\n"
   ]
  },
  {
   "cell_type": "code",
   "execution_count": 20,
   "id": "00fd27fa",
   "metadata": {},
   "outputs": [
    {
     "data": {
      "text/plain": [
       "array([[-100.        ,    0.        ,    0.        ,    0.        ,\n",
       "           0.        ,    0.        ,    0.        ,    0.        ,\n",
       "           0.        ,    0.        ,    0.        ,    0.        ,\n",
       "           0.        ,    0.        ,    0.        ,    0.        ,\n",
       "           0.        ,    0.        ,    0.        ,    0.        ,\n",
       "           0.        ,    0.        ,    0.        ,    0.        ,\n",
       "           0.        ,    0.        ],\n",
       "       [   0.        ,  -98.924743  ,    0.        ,    0.        ,\n",
       "           0.        ,    0.        ,    0.        ,    0.        ,\n",
       "           0.        ,    0.        ,    0.        ,    0.        ,\n",
       "           0.        ,    0.        ,    0.        ,    0.        ,\n",
       "           0.        ,    0.        ,    0.        ,    0.        ,\n",
       "           0.        ,    0.        ,    0.        ,    0.        ,\n",
       "           0.        ,    0.        ],\n",
       "       [   0.        ,    0.        ,  -97.89682633,    0.        ,\n",
       "           0.        ,    0.        ,    0.        ,    0.        ,\n",
       "           0.        ,    0.        ,    0.        ,    0.        ,\n",
       "           0.        ,    0.        ,    0.        ,    0.        ,\n",
       "           0.        ,    0.        ,    0.        ,    0.        ,\n",
       "           0.        ,    0.        ,    0.        ,    0.        ,\n",
       "           0.        ,    0.        ],\n",
       "       [   0.        ,    0.        ,    0.        ,  -96.88172118,\n",
       "           0.        ,    0.        ,    0.        ,    0.        ,\n",
       "           0.        ,    0.        ,    0.        ,    0.        ,\n",
       "           0.        ,    0.        ,    0.        ,    0.        ,\n",
       "           0.        ,    0.        ,    0.        ,    0.        ,\n",
       "           0.        ,    0.        ,    0.        ,    0.        ,\n",
       "           0.        ,    0.        ],\n",
       "       [   0.        ,    0.        ,    0.        ,    0.        ,\n",
       "         -95.9013958 ,    0.        ,    0.        ,    0.        ,\n",
       "           0.        ,    0.        ,    0.        ,    0.        ,\n",
       "           0.        ,    0.        ,    0.        ,    0.        ,\n",
       "           0.        ,    0.        ,    0.        ,    0.        ,\n",
       "           0.        ,    0.        ,    0.        ,    0.        ,\n",
       "           0.        ,    0.        ],\n",
       "       [   0.        ,    0.        ,    0.        ,    0.        ,\n",
       "           0.        ,  -94.96044332,    0.        ,    0.        ,\n",
       "           0.        ,    0.        ,    0.        ,    0.        ,\n",
       "           0.        ,    0.        ,    0.        ,    0.        ,\n",
       "           0.        ,    0.        ,    0.        ,    0.        ,\n",
       "           0.        ,    0.        ,    0.        ,    0.        ,\n",
       "           0.        ,    0.        ],\n",
       "       [   0.        ,    0.        ,    0.        ,    0.        ,\n",
       "           0.        ,    0.        ,  -94.0574914 ,    0.        ,\n",
       "           0.        ,    0.        ,    0.        ,    0.        ,\n",
       "           0.        ,    0.        ,    0.        ,    0.        ,\n",
       "           0.        ,    0.        ,    0.        ,    0.        ,\n",
       "           0.        ,    0.        ,    0.        ,    0.        ,\n",
       "           0.        ,    0.        ],\n",
       "       [   0.        ,    0.        ,    0.        ,    0.        ,\n",
       "           0.        ,    0.        ,    0.        ,  -93.16230516,\n",
       "           0.        ,    0.        ,    0.        ,    0.        ,\n",
       "           0.        ,    0.        ,    0.        ,    0.        ,\n",
       "           0.        ,    0.        ,    0.        ,    0.        ,\n",
       "           0.        ,    0.        ,    0.        ,    0.        ,\n",
       "           0.        ,    0.        ],\n",
       "       [   0.        ,    0.        ,    0.        ,    0.        ,\n",
       "           0.        ,    0.        ,    0.        ,    0.        ,\n",
       "         -92.29432828,    0.        ,    0.        ,    0.        ,\n",
       "           0.        ,    0.        ,    0.        ,    0.        ,\n",
       "           0.        ,    0.        ,    0.        ,    0.        ,\n",
       "           0.        ,    0.        ,    0.        ,    0.        ,\n",
       "           0.        ,    0.        ],\n",
       "       [   0.        ,    0.        ,    0.        ,    0.        ,\n",
       "           0.        ,    0.        ,    0.        ,    0.        ,\n",
       "           0.        ,  -91.45744188,    0.        ,    0.        ,\n",
       "           0.        ,    0.        ,    0.        ,    0.        ,\n",
       "           0.        ,    0.        ,    0.        ,    0.        ,\n",
       "           0.        ,    0.        ,    0.        ,    0.        ,\n",
       "           0.        ,    0.        ],\n",
       "       [   0.        ,    0.        ,    0.        ,    0.        ,\n",
       "           0.        ,    0.        ,    0.        ,    0.        ,\n",
       "           0.        ,    0.        ,  -90.64176669,    0.        ,\n",
       "           0.        ,    0.        ,    0.        ,    0.        ,\n",
       "           0.        ,    0.        ,    0.        ,    0.        ,\n",
       "           0.        ,    0.        ,    0.        ,    0.        ,\n",
       "           0.        ,    0.        ],\n",
       "       [   0.        ,    0.        ,    0.        ,    0.        ,\n",
       "           0.        ,    0.        ,    0.        ,    0.        ,\n",
       "           0.        ,    0.        ,    0.        ,  -89.83821378,\n",
       "           0.        ,    0.        ,    0.        ,    0.        ,\n",
       "           0.        ,    0.        ,    0.        ,    0.        ,\n",
       "           0.        ,    0.        ,    0.        ,    0.        ,\n",
       "           0.        ,    0.        ],\n",
       "       [  -0.24438573,   -0.24993995,   -0.24993995,   -0.24993995,\n",
       "          -0.24133205,   -0.24093168,   -0.24093168,   -0.24093168,\n",
       "          -0.23262965,   -0.23234337,   -0.23234337,   -0.23234337,\n",
       "          -0.90133097,    0.        ,    0.        ,    0.        ,\n",
       "           0.        ,    0.        ,    0.        ,    0.        ,\n",
       "           0.        ,    0.        ,    0.        ,    0.        ,\n",
       "           0.        ,    0.        ],\n",
       "       [  -0.24438573,   -0.24993995,   -0.24993995,   -0.24993995,\n",
       "          -0.24140113,   -0.24100397,   -0.24100397,   -0.24100397,\n",
       "          -0.23276865,   -0.23248467,   -0.23248467,   -0.23248467,\n",
       "          -0.90216569,   -0.86510172,    0.        ,    0.        ,\n",
       "           0.        ,    0.        ,    0.        ,    0.        ,\n",
       "           0.        ,    0.        ,    0.        ,    0.        ,\n",
       "           0.        ,    0.        ],\n",
       "       [  -0.24438573,   -0.24993995,   -0.24993995,   -0.24993995,\n",
       "          -0.24126297,   -0.24085938,   -0.24085938,   -0.24085938,\n",
       "          -0.23249064,   -0.23220207,   -0.23220207,   -0.23220207,\n",
       "          -0.90049626,   -0.86292016,   -0.83156194,    0.        ,\n",
       "           0.        ,    0.        ,    0.        ,    0.        ,\n",
       "           0.        ,    0.        ,    0.        ,    0.        ,\n",
       "           0.        ,    0.        ],\n",
       "       [  -0.24431218,   -0.24986208,   -0.24986208,   -0.24986208,\n",
       "          -0.24118746,   -0.24078399,   -0.24078399,   -0.24078399,\n",
       "          -0.23234855,   -0.23205767,   -0.23205767,   -0.23205767,\n",
       "          -0.89965355,   -0.86182126,   -0.83021317,   -0.80202285,\n",
       "           0.        ,    0.        ,    0.        ,    0.        ,\n",
       "           0.        ,    0.        ,    0.        ,    0.        ,\n",
       "           0.        ,    0.        ],\n",
       "       [  -0.24438573,   -0.24993995,   -0.24993995,   -0.24993995,\n",
       "          -0.24105572,   -0.2406425 ,   -0.2406425 ,   -0.2406425 ,\n",
       "          -0.23207364,   -0.23177816,   -0.23177816,   -0.23177816,\n",
       "          -0.8979921 ,   -0.85964781,   -0.82753877,   -0.79884901,\n",
       "          -0.76464345,    0.        ,    0.        ,    0.        ,\n",
       "           0.        ,    0.        ,    0.        ,    0.        ,\n",
       "           0.        ,    0.        ],\n",
       "       [  -0.24438573,   -0.24993995,   -0.24993995,   -0.24993995,\n",
       "          -0.24098664,   -0.24057021,   -0.24057021,   -0.24057021,\n",
       "          -0.23193464,   -0.23163686,   -0.23163686,   -0.23163686,\n",
       "          -0.89715738,   -0.85855703,   -0.82619772,   -0.79726314,\n",
       "          -0.76283526,   -0.73631972,    0.        ,    0.        ,\n",
       "           0.        ,    0.        ,    0.        ,    0.        ,\n",
       "           0.        ,    0.        ],\n",
       "       [  -0.24438573,   -0.24993995,   -0.24993995,   -0.24993995,\n",
       "          -0.24091756,   -0.24049791,   -0.24049791,   -0.24049791,\n",
       "          -0.23179564,   -0.23149556,   -0.23149556,   -0.23149556,\n",
       "          -0.89632266,   -0.85746625,   -0.82485666,   -0.79567728,\n",
       "          -0.76102707,   -0.7342856 ,   -0.70652185,    0.        ,\n",
       "           0.        ,    0.        ,    0.        ,    0.        ,\n",
       "           0.        ,    0.        ],\n",
       "       [  -0.24438573,   -0.24993995,   -0.24993995,   -0.24993995,\n",
       "          -0.24071032,   -0.24028103,   -0.24028103,   -0.24028103,\n",
       "          -0.23137863,   -0.23107166,   -0.23107166,   -0.23107166,\n",
       "          -0.89381851,   -0.8541939 ,   -0.8208335 ,   -0.7909197 ,\n",
       "          -0.75560249,   -0.72818324,   -0.69978161,   -3.11143422,\n",
       "           0.        ,    0.        ,    0.        ,    0.        ,\n",
       "           0.        ,    0.        ],\n",
       "       [  -0.24438573,   -0.24993995,   -0.24993995,   -0.24993995,\n",
       "          -0.24048005,   -0.24004005,   -0.24004005,   -0.24004005,\n",
       "          -0.2309153 ,   -0.23060065,   -0.23060065,   -0.23060065,\n",
       "          -0.89103611,   -0.85055797,   -0.81636332,   -0.78563349,\n",
       "          -0.74957519,   -0.72140285,   -0.69229244,   -3.06432896,\n",
       "          -2.496037  ,    0.        ,    0.        ,    0.        ,\n",
       "           0.        ,    0.        ],\n",
       "       [  -0.24438573,   -0.24993995,   -0.24993995,   -0.24993995,\n",
       "          -0.24031886,   -0.23987137,   -0.23987137,   -0.23987137,\n",
       "          -0.23059096,   -0.23027095,   -0.23027095,   -0.23027095,\n",
       "          -0.88908844,   -0.84801281,   -0.81323419,   -0.78193314,\n",
       "          -0.74535608,   -0.71665657,   -0.68705003,   -3.03135527,\n",
       "          -2.45339185,   -1.99005422,    0.        ,    0.        ,\n",
       "           0.        ,    0.        ],\n",
       "       [  -0.24430333,   -0.24985271,   -0.24985271,   -0.24985271,\n",
       "          -0.24015047,   -0.2396992 ,   -0.2396992 ,   -0.2396992 ,\n",
       "          -0.23026314,   -0.22993776,   -0.22993776,   -0.22993776,\n",
       "          -0.88713157,   -0.84545839,   -0.81009624,   -0.77823467,\n",
       "          -0.74112378,   -0.71190186,   -0.68179909,   -2.99833966,\n",
       "          -2.41070688,   -1.93961096,   -1.56582593,    0.        ,\n",
       "           0.        ,    0.        ],\n",
       "       [  -0.24430255,   -0.24985188,   -0.24985188,   -0.24985188,\n",
       "          -0.24005829,   -0.23960277,   -0.23960277,   -0.23960277,\n",
       "          -0.23016232,   -0.22972323,   -0.22972323,   -0.22972323,\n",
       "          -0.88602306,   -0.8440089 ,   -0.80832547,   -0.77611825,\n",
       "          -0.73871828,   -0.70919484,   -0.67880849,   -2.97951268,\n",
       "          -2.38636215,   -1.91084039,   -1.53351558,   -2.23234997,\n",
       "           0.        ,    0.        ],\n",
       "       [  -0.24438573,   -0.24993995,   -0.24993995,   -0.24993995,\n",
       "          -0.23995043,   -0.2394858 ,   -0.2394858 ,   -0.2394858 ,\n",
       "          -0.22984962,   -0.22951734,   -0.22951734,   -0.22951734,\n",
       "          -0.88463661,   -0.84219531,   -0.8060819 ,   -0.77347521,\n",
       "          -0.7357124 ,   -0.70580794,   -0.67506737,   -2.95598686,\n",
       "          -2.35591722,   -1.87487019,   -1.49311998,   -2.14189275,\n",
       "          -1.36916259,    0.        ],\n",
       "       [  -0.24438573,   -0.24993995,   -0.24993995,   -0.24993995,\n",
       "          -0.23985832,   -0.23938941,   -0.23938941,   -0.23938941,\n",
       "          -0.22966429,   -0.22932894,   -0.22932894,   -0.22932894,\n",
       "          -0.88352365,   -0.84074093,   -0.80429382,   -0.77136073,\n",
       "          -0.73330147,   -0.70309578,   -0.6720717 ,   -2.93714475,\n",
       "          -2.33154857,   -1.84607419,   -1.460787  ,   -2.06948587,\n",
       "          -1.28972474,   -0.81258706]])"
      ]
     },
     "execution_count": 20,
     "metadata": {},
     "output_type": "execute_result"
    }
   ],
   "source": [
    "yc.jacobian()"
   ]
  },
  {
   "cell_type": "code",
   "execution_count": 21,
   "id": "406168e2",
   "metadata": {},
   "outputs": [
    {
     "data": {
      "text/plain": [
       "['RFR FUTURE SOFR-FUTURE-3M September 24th, 2025 x December 24th, 2025',\n",
       " 'RFR FUTURE SOFR-FUTURE-3M December 24th, 2025 x March 24th, 2026',\n",
       " 'RFR FUTURE SOFR-FUTURE-3M March 24th, 2026 x June 24th, 2026',\n",
       " 'RFR FUTURE SOFR-FUTURE-3M June 24th, 2026 x September 24th, 2026',\n",
       " 'RFR FUTURE SOFR-FUTURE-3M September 24th, 2026 x December 24th, 2026',\n",
       " 'RFR FUTURE SOFR-FUTURE-3M December 24th, 2026 x March 24th, 2027',\n",
       " 'RFR FUTURE SOFR-FUTURE-3M March 24th, 2027 x June 24th, 2027',\n",
       " 'RFR FUTURE SOFR-FUTURE-3M June 24th, 2027 x September 24th, 2027',\n",
       " 'RFR FUTURE SOFR-FUTURE-3M September 24th, 2027 x December 24th, 2027',\n",
       " 'RFR FUTURE SOFR-FUTURE-3M December 24th, 2027 x March 24th, 2028',\n",
       " 'RFR FUTURE SOFR-FUTURE-3M March 24th, 2028 x June 24th, 2028',\n",
       " 'RFR FUTURE SOFR-FUTURE-3M June 24th, 2028 x September 24th, 2028',\n",
       " 'RFR SWAP USD-SOFR-OIS September 26th, 2029',\n",
       " 'RFR SWAP USD-SOFR-OIS September 26th, 2030',\n",
       " 'RFR SWAP USD-SOFR-OIS September 26th, 2031',\n",
       " 'RFR SWAP USD-SOFR-OIS September 27th, 2032',\n",
       " 'RFR SWAP USD-SOFR-OIS September 26th, 2033',\n",
       " 'RFR SWAP USD-SOFR-OIS September 26th, 2034',\n",
       " 'RFR SWAP USD-SOFR-OIS September 26th, 2035',\n",
       " 'RFR SWAP USD-SOFR-OIS September 26th, 2040',\n",
       " 'RFR SWAP USD-SOFR-OIS September 26th, 2045',\n",
       " 'RFR SWAP USD-SOFR-OIS September 26th, 2050',\n",
       " 'RFR SWAP USD-SOFR-OIS September 27th, 2055',\n",
       " 'RFR SWAP USD-SOFR-OIS September 28th, 2065',\n",
       " 'RFR SWAP USD-SOFR-OIS September 26th, 2075',\n",
       " 'RFR SWAP USD-SOFR-OIS September 26th, 2085']"
      ]
     },
     "execution_count": 21,
     "metadata": {},
     "output_type": "execute_result"
    }
   ],
   "source": [
    "yc._jacobian_row_labels"
   ]
  },
  {
   "cell_type": "markdown",
   "id": "acd22392",
   "metadata": {},
   "source": [
    "\n",
    "## 4. Value Bullet Cashflow\n"
   ]
  },
  {
   "cell_type": "code",
   "execution_count": 22,
   "id": "9308d8e3",
   "metadata": {},
   "outputs": [
    {
     "name": "stdout",
     "output_type": "stream",
     "text": [
      "Bullet CF PV: ['USD', np.float64(890530.626090714)]\n"
     ]
    }
   ],
   "source": [
    "# Bullet cashflow PV\n",
    "bullet = ProductBulletCashflow(\"2028-09-24\", \"USD\", 1000000, \"LONG\")\n",
    "ve = ValuationEngineRegistry().new_valuation_engine(\n",
    "    yc,\n",
    "    {\"FUNDING INDEX\": \"SOFR-1B\"},\n",
    "    bullet\n",
    ")\n",
    "ve.calculateValue()\n",
    "print(\"Bullet CF PV:\", ve.value)"
   ]
  },
  {
   "cell_type": "markdown",
   "id": "c3d30e6f",
   "metadata": {},
   "source": [
    "## 5. Value IBOR Cashflow"
   ]
  },
  {
   "cell_type": "code",
   "execution_count": 23,
   "id": "67eee95c",
   "metadata": {},
   "outputs": [
    {
     "ename": "AttributeError",
     "evalue": "'NoneType' object has no attribute 'isOvernightIndex'",
     "output_type": "error",
     "traceback": [
      "\u001b[1;31m---------------------------------------------------------------------------\u001b[0m",
      "\u001b[1;31mAttributeError\u001b[0m                            Traceback (most recent call last)",
      "Cell \u001b[1;32mIn[23], line 10\u001b[0m\n\u001b[0;32m      1\u001b[0m ibor_cf \u001b[38;5;241m=\u001b[39m ProductIborCashflow(\n\u001b[0;32m      2\u001b[0m     startDate\u001b[38;5;241m=\u001b[39m\u001b[38;5;124m\"\u001b[39m\u001b[38;5;124m2025-09-27\u001b[39m\u001b[38;5;124m\"\u001b[39m,\n\u001b[0;32m      3\u001b[0m     endDate\u001b[38;5;241m=\u001b[39m\u001b[38;5;124m\"\u001b[39m\u001b[38;5;124m2025-12-27\u001b[39m\u001b[38;5;124m\"\u001b[39m,\n\u001b[1;32m   (...)\u001b[0m\n\u001b[0;32m      7\u001b[0m     longOrShort\u001b[38;5;241m=\u001b[39m\u001b[38;5;124m\"\u001b[39m\u001b[38;5;124mSHORT\u001b[39m\u001b[38;5;124m\"\u001b[39m\n\u001b[0;32m      8\u001b[0m )\n\u001b[0;32m      9\u001b[0m ve \u001b[38;5;241m=\u001b[39m ValuationEngineRegistry()\u001b[38;5;241m.\u001b[39mnew_valuation_engine(yc, {\u001b[38;5;124m\"\u001b[39m\u001b[38;5;124mFUNDING INDEX\u001b[39m\u001b[38;5;124m\"\u001b[39m: \u001b[38;5;124m\"\u001b[39m\u001b[38;5;124mSOFR-1B\u001b[39m\u001b[38;5;124m\"\u001b[39m}, ibor_cf)\n\u001b[1;32m---> 10\u001b[0m \u001b[43mve\u001b[49m\u001b[38;5;241;43m.\u001b[39;49m\u001b[43mcalculateValue\u001b[49m\u001b[43m(\u001b[49m\u001b[43m)\u001b[49m\n\u001b[0;32m     11\u001b[0m \u001b[38;5;28mprint\u001b[39m(\u001b[38;5;124m\"\u001b[39m\u001b[38;5;124mIbor CF PV:\u001b[39m\u001b[38;5;124m\"\u001b[39m, ve\u001b[38;5;241m.\u001b[39mvalue)\n",
      "File \u001b[1;32m~\\OneDrive\\Desktop\\Capstone_Project\\FixedIncomeLib\\fixedincomelib\\yield_curve\\valuation_engine_yc.py:71\u001b[0m, in \u001b[0;36mValuationEngineProductIborCashflow.calculateValue\u001b[1;34m(self)\u001b[0m\n\u001b[0;32m     70\u001b[0m \u001b[38;5;28;01mdef\u001b[39;00m\u001b[38;5;250m \u001b[39m\u001b[38;5;21mcalculateValue\u001b[39m(\u001b[38;5;28mself\u001b[39m):\n\u001b[1;32m---> 71\u001b[0m     forward_rate   \u001b[38;5;241m=\u001b[39m \u001b[38;5;28;43mself\u001b[39;49m\u001b[38;5;241;43m.\u001b[39;49m\u001b[43mmodel\u001b[49m\u001b[38;5;241;43m.\u001b[39;49m\u001b[43mforward\u001b[49m\u001b[43m(\u001b[49m\u001b[38;5;28;43mself\u001b[39;49m\u001b[38;5;241;43m.\u001b[39;49m\u001b[43mindex_name\u001b[49m\u001b[43m,\u001b[49m\u001b[43m \u001b[49m\u001b[38;5;28;43mself\u001b[39;49m\u001b[38;5;241;43m.\u001b[39;49m\u001b[43mstart_date\u001b[49m\u001b[43m,\u001b[49m\u001b[43m \u001b[49m\u001b[38;5;28;43mself\u001b[39;49m\u001b[38;5;241;43m.\u001b[39;49m\u001b[43mend_date\u001b[49m\u001b[43m)\u001b[49m\n\u001b[0;32m     72\u001b[0m     pnl            \u001b[38;5;241m=\u001b[39m forward_rate \u001b[38;5;241m*\u001b[39m \u001b[38;5;28mself\u001b[39m\u001b[38;5;241m.\u001b[39maccrualFactor \u001b[38;5;241m*\u001b[39m\u001b[38;5;28mself\u001b[39m\u001b[38;5;241m.\u001b[39mnotional \u001b[38;5;241m*\u001b[39m \u001b[38;5;28mself\u001b[39m\u001b[38;5;241m.\u001b[39mdirection\n\u001b[0;32m     73\u001b[0m     \u001b[38;5;28mself\u001b[39m\u001b[38;5;241m.\u001b[39mvalue_    \u001b[38;5;241m=\u001b[39m [\u001b[38;5;28mself\u001b[39m\u001b[38;5;241m.\u001b[39mcurrency\u001b[38;5;241m.\u001b[39mvalue\u001b[38;5;241m.\u001b[39mcode(), pnl]\n",
      "File \u001b[1;32m~\\OneDrive\\Desktop\\Capstone_Project\\FixedIncomeLib\\fixedincomelib\\yield_curve\\yield_curve_model.py:110\u001b[0m, in \u001b[0;36mYieldCurve.forward\u001b[1;34m(self, index, effectiveDate, termOrTerminationDate)\u001b[0m\n\u001b[0;32m    108\u001b[0m \u001b[38;5;28;01mdef\u001b[39;00m\u001b[38;5;250m \u001b[39m\u001b[38;5;21mforward\u001b[39m(\u001b[38;5;28mself\u001b[39m, index : \u001b[38;5;28mstr\u001b[39m, effectiveDate : Union[Date, \u001b[38;5;28mstr\u001b[39m], termOrTerminationDate : Optional[Union[\u001b[38;5;28mstr\u001b[39m, TermOrTerminationDate]]\u001b[38;5;241m=\u001b[39m\u001b[38;5;124m'\u001b[39m\u001b[38;5;124m'\u001b[39m):\n\u001b[0;32m    109\u001b[0m     component \u001b[38;5;241m=\u001b[39m \u001b[38;5;28mself\u001b[39m\u001b[38;5;241m.\u001b[39mretrieveComponent(index)\n\u001b[1;32m--> 110\u001b[0m     isOIS \u001b[38;5;241m=\u001b[39m \u001b[43mcomponent\u001b[49m\u001b[38;5;241;43m.\u001b[39;49m\u001b[43misOvernightIndex\u001b[49m\n\u001b[0;32m    111\u001b[0m     \u001b[38;5;28;01mif\u001b[39;00m isOIS:\n\u001b[0;32m    112\u001b[0m         \u001b[38;5;28;01mif\u001b[39;00m \u001b[38;5;28misinstance\u001b[39m(termOrTerminationDate, \u001b[38;5;28mstr\u001b[39m) \u001b[38;5;129;01mand\u001b[39;00m termOrTerminationDate \u001b[38;5;241m==\u001b[39m \u001b[38;5;124m'\u001b[39m\u001b[38;5;124m'\u001b[39m:\n",
      "\u001b[1;31mAttributeError\u001b[0m: 'NoneType' object has no attribute 'isOvernightIndex'"
     ]
    }
   ],
   "source": [
    "ibor_cf = ProductIborCashflow(\n",
    "    startDate=\"2025-09-27\",\n",
    "    endDate=\"2025-12-27\",\n",
    "    index=\"USD-LIBOR-BBA-3M\",\n",
    "    spread=0.0,\n",
    "    notional=1000000,\n",
    "    longOrShort=\"SHORT\"\n",
    ")\n",
    "ve = ValuationEngineRegistry().new_valuation_engine(yc, {\"FUNDING INDEX\": \"SOFR-1B\"}, ibor_cf)\n",
    "ve.calculateValue()\n",
    "print(\"Ibor CF PV:\", ve.value)"
   ]
  },
  {
   "cell_type": "markdown",
   "id": "5c7fa069",
   "metadata": {},
   "source": [
    "## 6. Value OIS Cashflow"
   ]
  },
  {
   "cell_type": "code",
   "execution_count": null,
   "id": "22adc754",
   "metadata": {},
   "outputs": [
    {
     "name": "stdout",
     "output_type": "stream",
     "text": [
      "OIS CF PV: ['USD', np.float64(21364.87983425428)]\n"
     ]
    }
   ],
   "source": [
    "ois_cf = ProductOvernightIndexCashflow(\n",
    "    effectiveDate=\"2025-09-24\",\n",
    "    termOrEnd=\"6M\",\n",
    "    index=\"SOFR-1B\",\n",
    "    compounding=\"COMPOUND\",\n",
    "    spread=0.0,\n",
    "    notional=1000000,\n",
    "    longOrShort=\"LONG\"\n",
    ")\n",
    "ve = ValuationEngineRegistry().new_valuation_engine(\n",
    "    yc,\n",
    "    {\"FUNDING INDEX\": \"SOFR-1B\"},\n",
    "    ois_cf\n",
    ")\n",
    "ve.calculateValue()\n",
    "print(\"OIS CF PV:\", ve.value)"
   ]
  },
  {
   "cell_type": "markdown",
   "id": "2a849170",
   "metadata": {},
   "source": [
    "## 7. Value Futures"
   ]
  },
  {
   "cell_type": "code",
   "execution_count": null,
   "id": "f0ae0b67",
   "metadata": {},
   "outputs": [
    {
     "ename": "AttributeError",
     "evalue": "'NoneType' object has no attribute 'isOvernightIndex'",
     "output_type": "error",
     "traceback": [
      "\u001b[1;31m---------------------------------------------------------------------------\u001b[0m",
      "\u001b[1;31mAttributeError\u001b[0m                            Traceback (most recent call last)",
      "Cell \u001b[1;32mIn[11], line 10\u001b[0m\n\u001b[0;32m      2\u001b[0m future \u001b[38;5;241m=\u001b[39m ProductFuture(\n\u001b[0;32m      3\u001b[0m     effectiveDate\u001b[38;5;241m=\u001b[39m\u001b[38;5;124m\"\u001b[39m\u001b[38;5;124m2025-06-27\u001b[39m\u001b[38;5;124m\"\u001b[39m,\n\u001b[0;32m      4\u001b[0m     index\u001b[38;5;241m=\u001b[39m\u001b[38;5;124m\"\u001b[39m\u001b[38;5;124mUSD-LIBOR-BBA-3M\u001b[39m\u001b[38;5;124m\"\u001b[39m,\n\u001b[1;32m   (...)\u001b[0m\n\u001b[0;32m      7\u001b[0m     longOrShort\u001b[38;5;241m=\u001b[39m\u001b[38;5;124m\"\u001b[39m\u001b[38;5;124mLONG\u001b[39m\u001b[38;5;124m\"\u001b[39m\n\u001b[0;32m      8\u001b[0m )\n\u001b[0;32m      9\u001b[0m ve \u001b[38;5;241m=\u001b[39m ValuationEngineRegistry()\u001b[38;5;241m.\u001b[39mnew_valuation_engine(yc, {}, future)\n\u001b[1;32m---> 10\u001b[0m \u001b[43mve\u001b[49m\u001b[38;5;241;43m.\u001b[39;49m\u001b[43mcalculateValue\u001b[49m\u001b[43m(\u001b[49m\u001b[43m)\u001b[49m\n\u001b[0;32m     11\u001b[0m \u001b[38;5;28mprint\u001b[39m(\u001b[38;5;124m\"\u001b[39m\u001b[38;5;124mFuture PV:\u001b[39m\u001b[38;5;124m\"\u001b[39m, ve\u001b[38;5;241m.\u001b[39mvalue)\n",
      "File \u001b[1;32mc:\\Users\\neels\\OneDrive\\Desktop\\Capstone_Project\\FixedIncomeLib\\yield_curve\\valuation_engine_yc.py:169\u001b[0m, in \u001b[0;36mValuationEngineProductFuture.calculateValue\u001b[1;34m(self)\u001b[0m\n\u001b[0;32m    167\u001b[0m \u001b[38;5;28;01mdef\u001b[39;00m\u001b[38;5;250m \u001b[39m\u001b[38;5;21mcalculateValue\u001b[39m(\u001b[38;5;28mself\u001b[39m):\n\u001b[1;32m--> 169\u001b[0m     \u001b[38;5;28;43mself\u001b[39;49m\u001b[38;5;241;43m.\u001b[39;49m\u001b[43m_ibor_engine\u001b[49m\u001b[38;5;241;43m.\u001b[39;49m\u001b[43mcalculateValue\u001b[49m\u001b[43m(\u001b[49m\u001b[43m)\u001b[49m\n\u001b[0;32m    170\u001b[0m     _, pv_unit \u001b[38;5;241m=\u001b[39m \u001b[38;5;28mself\u001b[39m\u001b[38;5;241m.\u001b[39m_ibor_engine\u001b[38;5;241m.\u001b[39mvalue_\n\u001b[0;32m    171\u001b[0m     forward_rate \u001b[38;5;241m=\u001b[39m pv_unit \u001b[38;5;241m/\u001b[39m \u001b[38;5;28mself\u001b[39m\u001b[38;5;241m.\u001b[39m_accrualFactor\n",
      "File \u001b[1;32mc:\\Users\\neels\\OneDrive\\Desktop\\Capstone_Project\\FixedIncomeLib\\yield_curve\\valuation_engine_yc.py:49\u001b[0m, in \u001b[0;36mValuationEngineProductIborCashflow.calculateValue\u001b[1;34m(self)\u001b[0m\n\u001b[0;32m     48\u001b[0m \u001b[38;5;28;01mdef\u001b[39;00m\u001b[38;5;250m \u001b[39m\u001b[38;5;21mcalculateValue\u001b[39m(\u001b[38;5;28mself\u001b[39m):\n\u001b[1;32m---> 49\u001b[0m     forward_rate   \u001b[38;5;241m=\u001b[39m \u001b[38;5;28;43mself\u001b[39;49m\u001b[38;5;241;43m.\u001b[39;49m\u001b[43mmodel\u001b[49m\u001b[38;5;241;43m.\u001b[39;49m\u001b[43mforward\u001b[49m\u001b[43m(\u001b[49m\u001b[38;5;28;43mself\u001b[39;49m\u001b[38;5;241;43m.\u001b[39;49m\u001b[43mindex_name\u001b[49m\u001b[43m,\u001b[49m\u001b[43m \u001b[49m\u001b[38;5;28;43mself\u001b[39;49m\u001b[38;5;241;43m.\u001b[39;49m\u001b[43mstart_date\u001b[49m\u001b[43m,\u001b[49m\u001b[43m \u001b[49m\u001b[38;5;28;43mself\u001b[39;49m\u001b[38;5;241;43m.\u001b[39;49m\u001b[43mend_date\u001b[49m\u001b[43m)\u001b[49m\n\u001b[0;32m     50\u001b[0m     coupon       \u001b[38;5;241m=\u001b[39m forward_rate \u001b[38;5;241m*\u001b[39m \u001b[38;5;28mself\u001b[39m\u001b[38;5;241m.\u001b[39maccrualFactor \u001b[38;5;241m*\u001b[39m \u001b[38;5;28mself\u001b[39m\u001b[38;5;241m.\u001b[39mnotional \u001b[38;5;241m*\u001b[39m \u001b[38;5;28mself\u001b[39m\u001b[38;5;241m.\u001b[39mdirection\n\u001b[0;32m     51\u001b[0m     \u001b[38;5;28;01mif\u001b[39;00m \u001b[38;5;28mself\u001b[39m\u001b[38;5;241m.\u001b[39mleg_mode \u001b[38;5;241m==\u001b[39m \u001b[38;5;124m\"\u001b[39m\u001b[38;5;124mINDEX\u001b[39m\u001b[38;5;124m\"\u001b[39m:\n",
      "File \u001b[1;32mc:\\Users\\neels\\OneDrive\\Desktop\\Capstone_Project\\FixedIncomeLib\\yield_curve\\yield_curve_model.py:41\u001b[0m, in \u001b[0;36mYieldCurve.forward\u001b[1;34m(self, index, effectiveDate, termOrTerminationDate)\u001b[0m\n\u001b[0;32m     39\u001b[0m \u001b[38;5;28;01mdef\u001b[39;00m\u001b[38;5;250m \u001b[39m\u001b[38;5;21mforward\u001b[39m(\u001b[38;5;28mself\u001b[39m, index : \u001b[38;5;28mstr\u001b[39m, effectiveDate : Union[Date, \u001b[38;5;28mstr\u001b[39m], termOrTerminationDate : Optional[Union[\u001b[38;5;28mstr\u001b[39m, TermOrTerminationDate]]\u001b[38;5;241m=\u001b[39m\u001b[38;5;124m'\u001b[39m\u001b[38;5;124m'\u001b[39m):\n\u001b[0;32m     40\u001b[0m     component \u001b[38;5;241m=\u001b[39m \u001b[38;5;28mself\u001b[39m\u001b[38;5;241m.\u001b[39mretrieveComponent(index)\n\u001b[1;32m---> 41\u001b[0m     isOIS \u001b[38;5;241m=\u001b[39m \u001b[43mcomponent\u001b[49m\u001b[38;5;241;43m.\u001b[39;49m\u001b[43misOvernightIndex\u001b[49m\n\u001b[0;32m     42\u001b[0m     \u001b[38;5;28;01mif\u001b[39;00m isOIS:\n\u001b[0;32m     43\u001b[0m         \u001b[38;5;28;01mif\u001b[39;00m \u001b[38;5;28misinstance\u001b[39m(termOrTerminationDate, \u001b[38;5;28mstr\u001b[39m) \u001b[38;5;129;01mand\u001b[39;00m termOrTerminationDate \u001b[38;5;241m==\u001b[39m \u001b[38;5;124m'\u001b[39m\u001b[38;5;124m'\u001b[39m:\n",
      "\u001b[1;31mAttributeError\u001b[0m: 'NoneType' object has no attribute 'isOvernightIndex'"
     ]
    }
   ],
   "source": [
    "# IBOR Future PV\n",
    "future = ProductFuture(\n",
    "    effectiveDate=\"2025-06-27\",\n",
    "    index=\"USD-LIBOR-BBA-3M\",\n",
    "    strike=99.5,\n",
    "    notional=1_000_000,\n",
    "    longOrShort=\"LONG\"\n",
    ")\n",
    "ve = ValuationEngineRegistry().new_valuation_engine(yc, {\"FUNDING INDEX\": \"SOFR-1B\"}, future)\n",
    "ve.calculateValue()\n",
    "print(\"Future PV:\", ve.value)"
   ]
  },
  {
   "cell_type": "code",
   "execution_count": null,
   "id": "0ac7eafe",
   "metadata": {},
   "outputs": [
    {
     "name": "stdout",
     "output_type": "stream",
     "text": [
      "RFR Future PV: ['USD', np.float64(197849.48600349753)]\n"
     ]
    }
   ],
   "source": [
    "# RFR Future PV\n",
    "rfr_future = ProductRfrFuture(\n",
    "    effectiveDate=\"2025-09-24\",\n",
    "    termOrEnd=\"3M\",\n",
    "    index=\"SOFR-1B\",\n",
    "    compounding=\"AVERAGE\",\n",
    "    strike=95.9,\n",
    "    notional=1000000,\n",
    "    longOrShort=\"SHORT\"\n",
    ")\n",
    "ve = ValuationEngineRegistry().new_valuation_engine(\n",
    "    yc,\n",
    "    {\"FUNDING INDEX\": \"SOFR-1B\"},\n",
    "    rfr_future\n",
    ")\n",
    "ve.calculateValue()\n",
    "print(\"RFR Future PV:\", ve.value)"
   ]
  },
  {
   "cell_type": "code",
   "execution_count": null,
   "id": "b646daf1",
   "metadata": {},
   "outputs": [
    {
     "name": "stdout",
     "output_type": "stream",
     "text": [
      "[99950537.62849912        0.                0.                0.\n",
      "        0.                0.                0.                0.\n",
      "        0.                0.                0.                0.\n",
      "        0.                0.                0.                0.\n",
      "        0.                0.                0.                0.\n",
      "        0.                0.                0.                0.\n",
      "        0.                0.        ]\n"
     ]
    }
   ],
   "source": [
    "ve.calculateFirstOrderRisk()\n",
    "print(ve.firstOrderRisk_)"
   ]
  },
  {
   "cell_type": "markdown",
   "id": "2160ef05",
   "metadata": {},
   "source": [
    "## 8. Value a Portfolio"
   ]
  },
  {
   "cell_type": "code",
   "execution_count": null,
   "id": "20a9303b",
   "metadata": {},
   "outputs": [
    {
     "name": "stdout",
     "output_type": "stream",
     "text": [
      "Portfolio PV: ['USD', np.float64(911895.5059249683)]\n"
     ]
    }
   ],
   "source": [
    "# Simple portfolio of bullet + IBOR CF\n",
    "portfolio = ProductPortfolio([bullet, ois_cf], weights=[0.5, 0.5])\n",
    "ve = ValuationEngineRegistry().new_valuation_engine(\n",
    "    yc,\n",
    "    {\"FUNDING INDEX\": \"SOFR-1B\"},\n",
    "    portfolio\n",
    ")\n",
    "ve.calculateValue()\n",
    "print(\"Portfolio PV:\", ve.value)"
   ]
  },
  {
   "cell_type": "markdown",
   "id": "98ad90d0",
   "metadata": {},
   "source": [
    "## 9. Value Swaps (IBOR & OIS)"
   ]
  },
  {
   "cell_type": "code",
   "execution_count": null,
   "id": "d68971ec",
   "metadata": {},
   "outputs": [
    {
     "ename": "AttributeError",
     "evalue": "'NoneType' object has no attribute 'isOvernightIndex'",
     "output_type": "error",
     "traceback": [
      "\u001b[1;31m---------------------------------------------------------------------------\u001b[0m",
      "\u001b[1;31mAttributeError\u001b[0m                            Traceback (most recent call last)",
      "Cell \u001b[1;32mIn[36], line 15\u001b[0m\n\u001b[0;32m      2\u001b[0m ibor_swap \u001b[38;5;241m=\u001b[39m ProductIborSwap(\n\u001b[0;32m      3\u001b[0m     effectiveDate\u001b[38;5;241m=\u001b[39m\u001b[38;5;124m\"\u001b[39m\u001b[38;5;124m2025-06-27\u001b[39m\u001b[38;5;124m\"\u001b[39m,\n\u001b[0;32m      4\u001b[0m     maturityDate\u001b[38;5;241m=\u001b[39m\u001b[38;5;124m\"\u001b[39m\u001b[38;5;124m2026-06-27\u001b[39m\u001b[38;5;124m\"\u001b[39m,\n\u001b[1;32m   (...)\u001b[0m\n\u001b[0;32m     10\u001b[0m     position\u001b[38;5;241m=\u001b[39m\u001b[38;5;124m\"\u001b[39m\u001b[38;5;124mSHORT\u001b[39m\u001b[38;5;124m\"\u001b[39m\n\u001b[0;32m     11\u001b[0m )\n\u001b[0;32m     12\u001b[0m ve \u001b[38;5;241m=\u001b[39m ValuationEngineRegistry()\u001b[38;5;241m.\u001b[39mnew_valuation_engine(\n\u001b[0;32m     13\u001b[0m     yc, {\u001b[38;5;124m\"\u001b[39m\u001b[38;5;124mFUNDING INDEX\u001b[39m\u001b[38;5;124m\"\u001b[39m: \u001b[38;5;124m\"\u001b[39m\u001b[38;5;124mSOFR-1B\u001b[39m\u001b[38;5;124m\"\u001b[39m}, ibor_swap\n\u001b[0;32m     14\u001b[0m )\n\u001b[1;32m---> 15\u001b[0m \u001b[43mve\u001b[49m\u001b[38;5;241;43m.\u001b[39;49m\u001b[43mcalculateValue\u001b[49m\u001b[43m(\u001b[49m\u001b[43m)\u001b[49m\n\u001b[0;32m     16\u001b[0m \u001b[38;5;28mprint\u001b[39m(\u001b[38;5;124m\"\u001b[39m\u001b[38;5;124mIBOR Swap PV:\u001b[39m\u001b[38;5;124m\"\u001b[39m, ve\u001b[38;5;241m.\u001b[39mvalue, \u001b[38;5;124m\"\u001b[39m\u001b[38;5;124mPar Rate:\u001b[39m\u001b[38;5;124m\"\u001b[39m, ve\u001b[38;5;241m.\u001b[39mparRateOrSpread())\n",
      "File \u001b[1;32mc:\\Users\\neels\\OneDrive\\Desktop\\Capstone_Project\\FixedIncomeLib\\yield_curve\\valuation_engine_yc.py:253\u001b[0m, in \u001b[0;36mValuationEngineInterestRateStream.calculateValue\u001b[1;34m(self)\u001b[0m\n\u001b[0;32m    252\u001b[0m \u001b[38;5;28;01mdef\u001b[39;00m\u001b[38;5;250m \u001b[39m\u001b[38;5;21mcalculateValue\u001b[39m(\u001b[38;5;28mself\u001b[39m):\n\u001b[1;32m--> 253\u001b[0m     \u001b[38;5;28;43mself\u001b[39;49m\u001b[38;5;241;43m.\u001b[39;49m\u001b[43m_float_engine\u001b[49m\u001b[38;5;241;43m.\u001b[39;49m\u001b[43mcalculateValue\u001b[49m\u001b[43m(\u001b[49m\u001b[43m)\u001b[49m\n\u001b[0;32m    254\u001b[0m     currency, pv_float \u001b[38;5;241m=\u001b[39m \u001b[38;5;28mself\u001b[39m\u001b[38;5;241m.\u001b[39m_float_engine\u001b[38;5;241m.\u001b[39mvalue_\n\u001b[0;32m    255\u001b[0m     \u001b[38;5;28mself\u001b[39m\u001b[38;5;241m.\u001b[39m_fixed_engine\u001b[38;5;241m.\u001b[39mcalculateValue()\n",
      "File \u001b[1;32mc:\\Users\\neels\\OneDrive\\Desktop\\Capstone_Project\\FixedIncomeLib\\yield_curve\\valuation_engine_yc.py:222\u001b[0m, in \u001b[0;36mValuationEngineProductPortfolio.calculateValue\u001b[1;34m(self)\u001b[0m\n\u001b[0;32m    219\u001b[0m currency \u001b[38;5;241m=\u001b[39m \u001b[38;5;28;01mNone\u001b[39;00m\n\u001b[0;32m    221\u001b[0m \u001b[38;5;28;01mfor\u001b[39;00m eng \u001b[38;5;129;01min\u001b[39;00m \u001b[38;5;28mself\u001b[39m\u001b[38;5;241m.\u001b[39m_engines:\n\u001b[1;32m--> 222\u001b[0m     \u001b[43meng\u001b[49m\u001b[38;5;241;43m.\u001b[39;49m\u001b[43mcalculateValue\u001b[49m\u001b[43m(\u001b[49m\u001b[43m)\u001b[49m\n\u001b[0;32m    223\u001b[0m     currency, pv \u001b[38;5;241m=\u001b[39m eng\u001b[38;5;241m.\u001b[39mvalue_\n\u001b[0;32m    224\u001b[0m     total_pv \u001b[38;5;241m+\u001b[39m\u001b[38;5;241m=\u001b[39m pv\n",
      "File \u001b[1;32mc:\\Users\\neels\\OneDrive\\Desktop\\Capstone_Project\\FixedIncomeLib\\yield_curve\\valuation_engine_yc.py:46\u001b[0m, in \u001b[0;36mValuationEngineProductIborCashflow.calculateValue\u001b[1;34m(self)\u001b[0m\n\u001b[0;32m     45\u001b[0m \u001b[38;5;28;01mdef\u001b[39;00m\u001b[38;5;250m \u001b[39m\u001b[38;5;21mcalculateValue\u001b[39m(\u001b[38;5;28mself\u001b[39m):\n\u001b[1;32m---> 46\u001b[0m     forward_rate   \u001b[38;5;241m=\u001b[39m \u001b[38;5;28;43mself\u001b[39;49m\u001b[38;5;241;43m.\u001b[39;49m\u001b[43mmodel\u001b[49m\u001b[38;5;241;43m.\u001b[39;49m\u001b[43mforward\u001b[49m\u001b[43m(\u001b[49m\u001b[38;5;28;43mself\u001b[39;49m\u001b[38;5;241;43m.\u001b[39;49m\u001b[43mindex_name\u001b[49m\u001b[43m,\u001b[49m\u001b[43m \u001b[49m\u001b[38;5;28;43mself\u001b[39;49m\u001b[38;5;241;43m.\u001b[39;49m\u001b[43mstart_date\u001b[49m\u001b[43m,\u001b[49m\u001b[43m \u001b[49m\u001b[38;5;28;43mself\u001b[39;49m\u001b[38;5;241;43m.\u001b[39;49m\u001b[43mend_date\u001b[49m\u001b[43m)\u001b[49m\n\u001b[0;32m     47\u001b[0m     pnl            \u001b[38;5;241m=\u001b[39m forward_rate \u001b[38;5;241m*\u001b[39m \u001b[38;5;28mself\u001b[39m\u001b[38;5;241m.\u001b[39maccrualFactor \u001b[38;5;241m*\u001b[39m \u001b[38;5;28mself\u001b[39m\u001b[38;5;241m.\u001b[39mnotional \u001b[38;5;241m*\u001b[39m \u001b[38;5;28mself\u001b[39m\u001b[38;5;241m.\u001b[39mdirection\n\u001b[0;32m     48\u001b[0m     \u001b[38;5;28mself\u001b[39m\u001b[38;5;241m.\u001b[39mvalue_    \u001b[38;5;241m=\u001b[39m [\u001b[38;5;28mself\u001b[39m\u001b[38;5;241m.\u001b[39mcurrency\u001b[38;5;241m.\u001b[39mvalue\u001b[38;5;241m.\u001b[39mcode(), pnl]\n",
      "File \u001b[1;32mc:\\Users\\neels\\OneDrive\\Desktop\\Capstone_Project\\FixedIncomeLib\\yield_curve\\yield_curve_model.py:41\u001b[0m, in \u001b[0;36mYieldCurve.forward\u001b[1;34m(self, index, effectiveDate, termOrTerminationDate)\u001b[0m\n\u001b[0;32m     39\u001b[0m \u001b[38;5;28;01mdef\u001b[39;00m\u001b[38;5;250m \u001b[39m\u001b[38;5;21mforward\u001b[39m(\u001b[38;5;28mself\u001b[39m, index : \u001b[38;5;28mstr\u001b[39m, effectiveDate : Union[Date, \u001b[38;5;28mstr\u001b[39m], termOrTerminationDate : Optional[Union[\u001b[38;5;28mstr\u001b[39m, TermOrTerminationDate]]\u001b[38;5;241m=\u001b[39m\u001b[38;5;124m'\u001b[39m\u001b[38;5;124m'\u001b[39m):\n\u001b[0;32m     40\u001b[0m     component \u001b[38;5;241m=\u001b[39m \u001b[38;5;28mself\u001b[39m\u001b[38;5;241m.\u001b[39mretrieveComponent(index)\n\u001b[1;32m---> 41\u001b[0m     isOIS \u001b[38;5;241m=\u001b[39m \u001b[43mcomponent\u001b[49m\u001b[38;5;241;43m.\u001b[39;49m\u001b[43misOvernightIndex\u001b[49m\n\u001b[0;32m     42\u001b[0m     \u001b[38;5;28;01mif\u001b[39;00m isOIS:\n\u001b[0;32m     43\u001b[0m         \u001b[38;5;28;01mif\u001b[39;00m \u001b[38;5;28misinstance\u001b[39m(termOrTerminationDate, \u001b[38;5;28mstr\u001b[39m) \u001b[38;5;129;01mand\u001b[39;00m termOrTerminationDate \u001b[38;5;241m==\u001b[39m \u001b[38;5;124m'\u001b[39m\u001b[38;5;124m'\u001b[39m:\n",
      "\u001b[1;31mAttributeError\u001b[0m: 'NoneType' object has no attribute 'isOvernightIndex'"
     ]
    }
   ],
   "source": [
    "# IBOR Swap\n",
    "ibor_swap = ProductIborSwap(\n",
    "    effectiveDate=\"2025-06-27\",\n",
    "    maturityDate=\"2026-06-27\",\n",
    "    frequency=\"6M\",\n",
    "    iborIndex=\"USD-LIBOR-BBA-3M\",\n",
    "    spread=0.0,\n",
    "    fixedRate=0.015,\n",
    "    notional=1_000_000,\n",
    "    position=\"SHORT\"\n",
    ")\n",
    "ve = ValuationEngineRegistry().new_valuation_engine(\n",
    "    yc, {\"FUNDING INDEX\": \"SOFR-1B\"}, ibor_swap\n",
    ")\n",
    "ve.calculateValue()\n",
    "print(\"IBOR Swap PV:\", ve.value, \"Par Rate:\", ve.parRateOrSpread())\n",
    "\n"
   ]
  },
  {
   "cell_type": "code",
   "execution_count": 24,
   "id": "54c66a9b",
   "metadata": {},
   "outputs": [
    {
     "name": "stdout",
     "output_type": "stream",
     "text": [
      "OIS Swap PV: ['USD', np.float64(67288.56736169301)] Par Rate: 0.04010054191647455\n"
     ]
    }
   ],
   "source": [
    "# OIS Swap\n",
    "ois_swap = ProductOvernightSwap(\n",
    "    effectiveDate=\"2025-09-24\",\n",
    "    maturityDate=\"2045-09-24\",\n",
    "    frequency=\"6M\",\n",
    "    overnightIndex=\"SOFR-1B\",\n",
    "    spread=0.0,\n",
    "    fixedRate=0.045,\n",
    "    notional=1000000,\n",
    "    position=\"LONG\"\n",
    ")\n",
    "ve = ValuationEngineRegistry().new_valuation_engine(\n",
    "    yc, {\"FUNDING INDEX\": \"SOFR-1B\"}, ois_swap\n",
    ")\n",
    "ve.calculateValue()\n",
    "print(\"OIS Swap PV:\", ve.value, \"Par Rate:\", ve.parRateOrSpread())"
   ]
  },
  {
   "cell_type": "code",
   "execution_count": 25,
   "id": "f6a26464",
   "metadata": {},
   "outputs": [
    {
     "data": {
      "text/plain": [
       "array([ -266822.14184042,  -266822.14184042,  -261286.39599948,\n",
       "        -261286.39599948,  -255783.49517456,  -255783.49517456,\n",
       "        -250467.29299042,  -250467.29299042,  -245179.91294197,\n",
       "        -245179.91294197,  -240035.91352198,  -240035.91352198,\n",
       "        -934861.91659779,  -890416.62057345,  -852487.23882619,\n",
       "        -818125.04906681,  -778709.45625644,  -747095.80010476,\n",
       "        -714807.1201782 , -3133578.45271143, -2502040.62248144,\n",
       "              0.        ,        0.        ,        0.        ,\n",
       "              0.        ,        0.        ])"
      ]
     },
     "execution_count": 25,
     "metadata": {},
     "output_type": "execute_result"
    }
   ],
   "source": [
    "ve.calculateFirstOrderRisk()\n",
    "ve.firstOrderRisk_"
   ]
  },
  {
   "cell_type": "code",
   "execution_count": 26,
   "id": "aca523ea",
   "metadata": {},
   "outputs": [],
   "source": [
    "from fixedincomelib.utilities import createValueReport\n",
    "\n",
    "pv_only = createValueReport({\"FUNDING INDEX\": \"SOFR-1B\"}, yc, ois_swap, request=\"value\")"
   ]
  },
  {
   "cell_type": "code",
   "execution_count": null,
   "id": "32a49d35",
   "metadata": {},
   "outputs": [],
   "source": [
    "print(pv_only)"
   ]
  }
 ],
 "metadata": {
  "kernelspec": {
   "display_name": "base",
   "language": "python",
   "name": "python3"
  },
  "language_info": {
   "codemirror_mode": {
    "name": "ipython",
    "version": 3
   },
   "file_extension": ".py",
   "mimetype": "text/x-python",
   "name": "python",
   "nbconvert_exporter": "python",
   "pygments_lexer": "ipython3",
   "version": "3.12.7"
  }
 },
 "nbformat": 4,
 "nbformat_minor": 5
}
