{
 "cells": [
  {
   "cell_type": "markdown",
   "id": "d946ef5a",
   "metadata": {},
   "source": [
    "# FixedIncomeLib Product Tests\n",
    "\n",
    "This notebook exercises all of the products defined in `product.linear_products` and prints their attributes via the display visitors.\n",
    "\n",
    "---"
   ]
  },
  {
   "cell_type": "markdown",
   "id": "2fe90f34",
   "metadata": {},
   "source": [
    "## 1. Imports and Setup\n",
    "\n",
    "We import the necessary classes and visitors.\n",
    "\n",
    "---"
   ]
  },
  {
   "cell_type": "code",
   "execution_count": 1,
   "id": "c8026a8c",
   "metadata": {},
   "outputs": [
    {
     "name": "stdout",
     "output_type": "stream",
     "text": [
      "Setup complete.\n"
     ]
    }
   ],
   "source": [
    "from fixedincomelib.product.linear_products import (\n",
    "    ProductBulletCashflow,\n",
    "    ProductIborCashflow,\n",
    "    ProductOvernightIndexCashflow,\n",
    "    ProductFuture,\n",
    "    ProductRfrFuture,\n",
    "    ProductIborSwap,\n",
    "    ProductOvernightSwap,\n",
    "    InterestRateStream,\n",
    ")\n",
    "from fixedincomelib.product.product_display_visitor import (\n",
    "    CashflowVisitor,\n",
    "    IborCashflowVisitor,\n",
    "    OvernightCashflowVisitor,\n",
    "    FutureVisitor,\n",
    "    RfrFutureVisitor,\n",
    "    IborSwapVisitor,\n",
    "    OvernightSwapVisitor,\n",
    ")\n",
    "\n",
    "# Set up some common parameters\n",
    "notional = 10_000\n",
    "LONG = \"LONG\"\n",
    "SHORT = \"SHORT\"\n",
    "\n",
    "print(\"Setup complete.\")"
   ]
  },
  {
   "cell_type": "markdown",
   "id": "cd82ff99",
   "metadata": {},
   "source": [
    "## 2. Bullet Cashflow\n",
    "\n",
    "Create a `ProductBulletCashflow` and display its attributes.\n",
    "\n",
    "---"
   ]
  },
  {
   "cell_type": "code",
   "execution_count": 2,
   "id": "39db00ac",
   "metadata": {},
   "outputs": [
    {
     "name": "stdout",
     "output_type": "stream",
     "text": [
      "ProductBulletCashflow →\n",
      "         Attribute       Value\n",
      "0  TerminationDate  2025-12-31\n",
      "1         Currency         USD\n",
      "2         Notional       10000\n",
      "3      LongOrShort        LONG \n",
      "\n"
     ]
    }
   ],
   "source": [
    "bullet = ProductBulletCashflow(\"2025-12-31\", \"USD\", notional, LONG)\n",
    "print(\"ProductBulletCashflow →\")\n",
    "print(bullet.accept(CashflowVisitor()), \"\\n\")\n"
   ]
  },
  {
   "cell_type": "markdown",
   "id": "e86cce4b",
   "metadata": {},
   "source": [
    "## 3. IBOR Cashflow\n",
    "\n",
    "Create a `ProductIborCashflow` and display its attributes.\n",
    "\n",
    "---"
   ]
  },
  {
   "cell_type": "code",
   "execution_count": 3,
   "id": "11a8a36b",
   "metadata": {},
   "outputs": [
    {
     "name": "stdout",
     "output_type": "stream",
     "text": [
      "ProductIborCashflow →\n",
      "       Attribute             Value\n",
      "0   AccrualStart        2025-06-01\n",
      "1     AccrualEnd        2025-09-01\n",
      "2  AccrualFactor              0.25\n",
      "3          Index  USD-LIBOR-BBA-3M\n",
      "4         Spread             0.001\n",
      "5       Notional             10000\n",
      "6       Currency               USD\n",
      "7    LongOrShort             SHORT\n"
     ]
    }
   ],
   "source": [
    "# ProductIborCashflow\n",
    "ibor_cf = ProductIborCashflow(\n",
    "    startDate=\"2025-06-01\",\n",
    "    endDate=\"2025-09-01\",\n",
    "    index=\"USD-LIBOR-BBA-3M\",\n",
    "    spread=0.001,\n",
    "    notional=notional,\n",
    "    longOrShort=SHORT,\n",
    ")\n",
    "\n",
    "print(\"ProductIborCashflow →\")\n",
    "print(ibor_cf.accept(IborCashflowVisitor()))\n"
   ]
  },
  {
   "cell_type": "markdown",
   "id": "65f29f97",
   "metadata": {},
   "source": [
    "## 4. Overnight Index Cashflow\n",
    "\n",
    "Create a `ProductOvernightIndexCashflow` and display its attributes.\n",
    "\n",
    "---"
   ]
  },
  {
   "cell_type": "code",
   "execution_count": 4,
   "id": "b02b48e2",
   "metadata": {},
   "outputs": [
    {
     "name": "stdout",
     "output_type": "stream",
     "text": [
      "ProductOvernightCashflow (tenor) →\n",
      "         Attribute       Value\n",
      "0    EffectiveDate  2025-06-01\n",
      "1  TerminationDate  2025-09-02\n",
      "2            Index     SOFR-1B\n",
      "3      Compounding    COMPOUND\n",
      "4           Spread      0.0005\n",
      "5         Notional    200000.0\n",
      "6         Currency         USD\n",
      "7      LongOrShort        Long \n",
      "\n"
     ]
    }
   ],
   "source": [
    "# ProductOvernightCashflow via tenor\n",
    "ois_cf_tenor = ProductOvernightIndexCashflow(\n",
    "    effectiveDate='2025-06-01',\n",
    "    termOrEnd='3M',\n",
    "    index='SOFR-1B',\n",
    "    compounding='COMPOUND',\n",
    "    spread=0.0005,\n",
    "    notional=2e5,\n",
    "    longOrShort='Long'\n",
    ")\n",
    "print(\"ProductOvernightCashflow (tenor) →\")\n",
    "print(ois_cf_tenor.accept(OvernightCashflowVisitor()), \"\\n\")\n"
   ]
  },
  {
   "cell_type": "code",
   "execution_count": 5,
   "id": "56ac819c",
   "metadata": {},
   "outputs": [
    {
     "name": "stdout",
     "output_type": "stream",
     "text": [
      "ProductOvernightCashflow (date) →\n",
      "         Attribute       Value\n",
      "0    EffectiveDate  2025-06-01\n",
      "1  TerminationDate  2025-12-01\n",
      "2            Index     SOFR-1B\n",
      "3      Compounding    COMPOUND\n",
      "4           Spread      0.0005\n",
      "5         Notional    200000.0\n",
      "6         Currency         USD\n",
      "7      LongOrShort        Long \n",
      "\n"
     ]
    }
   ],
   "source": [
    "# ProductOvernightCashflow via explicit date\n",
    "ois_cf_date = ProductOvernightIndexCashflow(\n",
    "    effectiveDate='2025-06-01',\n",
    "    termOrEnd='2025-12-01',\n",
    "    index='SOFR-1B',\n",
    "    compounding='COMPOUND',\n",
    "    spread=0.0005,\n",
    "    notional=2e5,\n",
    "    longOrShort='Long'\n",
    ")\n",
    "print(\"ProductOvernightCashflow (date) →\")\n",
    "print(ois_cf_date.accept(OvernightCashflowVisitor()), \"\\n\")\n"
   ]
  },
  {
   "cell_type": "markdown",
   "id": "23d751c6",
   "metadata": {},
   "source": [
    "## 5. Future\n",
    "\n",
    "Create a `ProductFuture` and display its attributes.\n",
    "\n",
    "---"
   ]
  },
  {
   "cell_type": "code",
   "execution_count": 6,
   "id": "c8429efd",
   "metadata": {},
   "outputs": [
    {
     "name": "stdout",
     "output_type": "stream",
     "text": [
      "ProductFuture (IBOR) →\n",
      "        Attribute       Value\n",
      "0  ExpirationDate  2025-05-29\n",
      "1   EffectiveDate  2025-06-01\n",
      "2    MaturityDate  2025-09-01\n",
      "3   AccrualFactor        0.25\n",
      "4        Currency         EUR\n",
      "5        Notional       10000\n",
      "6          Strike        99.5\n",
      "7     LongOrShort        LONG\n"
     ]
    }
   ],
   "source": [
    "# ProductFuture (IBOR-based)\n",
    "future = ProductFuture(\n",
    "    effectiveDate=\"2025-06-01\",\n",
    "    index=\"EURIBOR-3M\",\n",
    "    strike=99.5,\n",
    "    notional=notional,\n",
    "    longOrShort=LONG,\n",
    ")\n",
    "print(\"ProductFuture (IBOR) →\")\n",
    "print(future.accept(FutureVisitor()))\n"
   ]
  },
  {
   "cell_type": "markdown",
   "id": "85f005ef",
   "metadata": {},
   "source": [
    "## 6. RFR Future\n",
    "\n",
    "Create a `ProductRfrFuture` and display its attributes.\n",
    "\n",
    "---\n"
   ]
  },
  {
   "cell_type": "code",
   "execution_count": 7,
   "id": "bd285e19",
   "metadata": {},
   "outputs": [
    {
     "name": "stdout",
     "output_type": "stream",
     "text": [
      "ProductRfrFuture (OIS) →\n",
      "         Attribute       Value\n",
      "0     MaturityDate  2025-09-02\n",
      "1    EffectiveDate  2025-06-01\n",
      "2  TerminationDate  2025-09-02\n",
      "3    AccrualFactor    0.252778\n",
      "4      Compounding     AVERAGE\n",
      "5            Index     SOFR-1B\n",
      "6           Strike        99.7\n",
      "7         Notional       10000\n",
      "8         Currency         USD\n",
      "9      LongOrShort       SHORT \n",
      "\n"
     ]
    }
   ],
   "source": [
    "# ProductRfrFuture (OIS-based)\n",
    "rfr_future = ProductRfrFuture(\n",
    "    effectiveDate=\"2025-06-01\",\n",
    "    termOrEnd=\"3M\",\n",
    "    index=\"SOFR-1B\",\n",
    "    compounding=\"AVERAGE\",\n",
    "    strike=99.7,\n",
    "    notional=notional,\n",
    "    longOrShort=SHORT,\n",
    ")\n",
    "print(\"ProductRfrFuture (OIS) →\")\n",
    "print(rfr_future.accept(RfrFutureVisitor()), \"\\n\")\n"
   ]
  },
  {
   "cell_type": "markdown",
   "id": "50a55405",
   "metadata": {},
   "source": [
    "## 7. Interest Rate Streams\n",
    "\n",
    "### 7.1 IBOR Stream\n",
    "\n",
    "Build a 3M‐frequency IBOR stream and display each leg.\n",
    "\n",
    "---"
   ]
  },
  {
   "cell_type": "code",
   "execution_count": 8,
   "id": "0e3bfc4d",
   "metadata": {},
   "outputs": [
    {
     "name": "stdout",
     "output_type": "stream",
     "text": [
      "\n",
      "-- leg #0\n",
      "       Attribute             Value\n",
      "0   AccrualStart        2025-01-02\n",
      "1     AccrualEnd        2025-03-31\n",
      "2  AccrualFactor          0.247222\n",
      "3          Index  USD-LIBOR-BBA-3M\n",
      "4         Spread               0.0\n",
      "5       Notional             10000\n",
      "6       Currency               USD\n",
      "7    LongOrShort              LONG\n",
      "\n",
      "-- leg #1\n",
      "       Attribute             Value\n",
      "0   AccrualStart        2025-03-31\n",
      "1     AccrualEnd        2025-06-30\n",
      "2  AccrualFactor              0.25\n",
      "3          Index  USD-LIBOR-BBA-3M\n",
      "4         Spread               0.0\n",
      "5       Notional             10000\n",
      "6       Currency               USD\n",
      "7    LongOrShort              LONG\n",
      "\n",
      "-- leg #2\n",
      "       Attribute             Value\n",
      "0   AccrualStart        2025-06-30\n",
      "1     AccrualEnd        2025-09-30\n",
      "2  AccrualFactor              0.25\n",
      "3          Index  USD-LIBOR-BBA-3M\n",
      "4         Spread               0.0\n",
      "5       Notional             10000\n",
      "6       Currency               USD\n",
      "7    LongOrShort              LONG\n",
      "\n",
      "-- leg #3\n",
      "       Attribute             Value\n",
      "0   AccrualStart        2025-09-30\n",
      "1     AccrualEnd        2025-12-31\n",
      "2  AccrualFactor              0.25\n",
      "3          Index  USD-LIBOR-BBA-3M\n",
      "4         Spread               0.0\n",
      "5       Notional             10000\n",
      "6       Currency               USD\n",
      "7    LongOrShort              LONG\n"
     ]
    }
   ],
   "source": [
    "ibor_stream = InterestRateStream(\n",
    "    startDate=\"2025-01-01\",\n",
    "    endDate=\"2025-12-31\",\n",
    "    frequency=\"3M\",\n",
    "    iborIndex=\"USD-LIBOR-BBA-3M\",\n",
    "    overnightIndex=None,\n",
    "    fixedRate=None,\n",
    "    notional=notional,\n",
    "    position=LONG,\n",
    ")\n",
    "for i in range(ibor_stream.numProducts):\n",
    "    cf = ibor_stream.element(i)\n",
    "    vis = IborCashflowVisitor() if cf.prodType == \"ProductIborCashflow\" else CashflowVisitor()\n",
    "    print(f\"\\n-- leg #{i}\")\n",
    "    print(cf.accept(vis))\n"
   ]
  },
  {
   "cell_type": "markdown",
   "id": "c5200df1",
   "metadata": {},
   "source": [
    "### 7.2 OIS Stream\n",
    "\n",
    "Build a 3M‐frequency OIS stream and display each leg.\n",
    "\n",
    "---"
   ]
  },
  {
   "cell_type": "code",
   "execution_count": 9,
   "id": "54a6ff8d",
   "metadata": {},
   "outputs": [
    {
     "name": "stdout",
     "output_type": "stream",
     "text": [
      "\n",
      "-- leg #0\n",
      "         Attribute       Value\n",
      "0    EffectiveDate  2025-01-02\n",
      "1  TerminationDate  2025-03-31\n",
      "2            Index     SOFR-1B\n",
      "3      Compounding    COMPOUND\n",
      "4           Spread         0.0\n",
      "5         Notional       10000\n",
      "6         Currency         USD\n",
      "7      LongOrShort       SHORT\n",
      "\n",
      "-- leg #1\n",
      "         Attribute       Value\n",
      "0    EffectiveDate  2025-03-31\n",
      "1  TerminationDate  2025-06-30\n",
      "2            Index     SOFR-1B\n",
      "3      Compounding    COMPOUND\n",
      "4           Spread         0.0\n",
      "5         Notional       10000\n",
      "6         Currency         USD\n",
      "7      LongOrShort       SHORT\n",
      "\n",
      "-- leg #2\n",
      "         Attribute       Value\n",
      "0    EffectiveDate  2025-06-30\n",
      "1  TerminationDate  2025-09-30\n",
      "2            Index     SOFR-1B\n",
      "3      Compounding    COMPOUND\n",
      "4           Spread         0.0\n",
      "5         Notional       10000\n",
      "6         Currency         USD\n",
      "7      LongOrShort       SHORT\n",
      "\n",
      "-- leg #3\n",
      "         Attribute       Value\n",
      "0    EffectiveDate  2025-09-30\n",
      "1  TerminationDate  2025-12-31\n",
      "2            Index     SOFR-1B\n",
      "3      Compounding    COMPOUND\n",
      "4           Spread         0.0\n",
      "5         Notional       10000\n",
      "6         Currency         USD\n",
      "7      LongOrShort       SHORT\n"
     ]
    }
   ],
   "source": [
    "ois_stream = InterestRateStream(\n",
    "    startDate=\"2025-01-01\",\n",
    "    endDate=\"2025-12-31\",\n",
    "    frequency=\"3M\",\n",
    "    iborIndex=None,\n",
    "    overnightIndex=\"SOFR-1B\",\n",
    "    fixedRate=None,\n",
    "    notional=notional,\n",
    "    position=SHORT,\n",
    ")\n",
    "for i in range(ois_stream.numProducts):\n",
    "    cf = ois_stream.element(i)\n",
    "    print(f\"\\n-- leg #{i}\")\n",
    "    print(cf.accept(OvernightCashflowVisitor()))\n"
   ]
  },
  {
   "cell_type": "markdown",
   "id": "f25da51b",
   "metadata": {},
   "source": [
    "## 8. Swaps\n",
    "\n",
    "### 8.1 IBOR Swap\n",
    "\n",
    "Create a `ProductIborSwap` and display its summary via the visitor.\n",
    "\n",
    "---"
   ]
  },
  {
   "cell_type": "code",
   "execution_count": 10,
   "id": "82140ddd",
   "metadata": {},
   "outputs": [
    {
     "name": "stdout",
     "output_type": "stream",
     "text": [
      "       Attribute             Value\n",
      "0  EffectiveDate        2025-01-01\n",
      "1   MaturityDate        2026-01-01\n",
      "2      FixedRate             0.015\n",
      "3          Index  USD-LIBOR-BBA-3M\n",
      "4       PayFixed              True\n",
      "5       Notional             10000\n",
      "6       Currency               USD\n",
      "7    LongOrShort             SHORT\n"
     ]
    }
   ],
   "source": [
    "ibor_swap = ProductIborSwap(\n",
    "    effectiveDate=\"2025-01-01\",\n",
    "    maturityDate=\"2026-01-01\",\n",
    "    frequency=\"6M\",\n",
    "    iborIndex=\"USD-LIBOR-BBA-3M\",\n",
    "    spread=0.0,\n",
    "    fixedRate=0.015,\n",
    "    notional=notional,\n",
    "    position=SHORT,\n",
    ")\n",
    "print(ibor_swap.accept(IborSwapVisitor()))"
   ]
  },
  {
   "cell_type": "markdown",
   "id": "a43c53df",
   "metadata": {},
   "source": [
    "### 8.2 OIS Swap\n",
    "\n",
    "Create a `ProductOvernightSwap` and display its summary via the visitor.\n",
    "\n",
    "---"
   ]
  },
  {
   "cell_type": "code",
   "execution_count": 11,
   "id": "064f3eb1",
   "metadata": {},
   "outputs": [
    {
     "name": "stdout",
     "output_type": "stream",
     "text": [
      "       Attribute       Value\n",
      "0  EffectiveDate  2025-01-01\n",
      "1   MaturityDate  2026-01-01\n",
      "2      FixedRate       0.015\n",
      "3          Index     SOFR-1B\n",
      "4       PayFixed       False\n",
      "5       Notional       10000\n",
      "6       Currency         USD\n",
      "7    LongOrShort        LONG\n"
     ]
    }
   ],
   "source": [
    "ois_swap = ProductOvernightSwap(\n",
    "    effectiveDate=\"2025-01-01\",\n",
    "    maturityDate=\"2026-01-01\",\n",
    "    frequency=\"6M\",\n",
    "    overnightIndex=\"SOFR-1B\",\n",
    "    spread=0.0,\n",
    "    fixedRate=0.015,\n",
    "    notional=notional,\n",
    "    position=LONG,\n",
    ")\n",
    "print(ois_swap.accept(OvernightSwapVisitor()))"
   ]
  }
 ],
 "metadata": {
  "kernelspec": {
   "display_name": "base",
   "language": "python",
   "name": "python3"
  },
  "language_info": {
   "codemirror_mode": {
    "name": "ipython",
    "version": 3
   },
   "file_extension": ".py",
   "mimetype": "text/x-python",
   "name": "python",
   "nbconvert_exporter": "python",
   "pygments_lexer": "ipython3",
   "version": "3.12.7"
  }
 },
 "nbformat": 4,
 "nbformat_minor": 5
}
