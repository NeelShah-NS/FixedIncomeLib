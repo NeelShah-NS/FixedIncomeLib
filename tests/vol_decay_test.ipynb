{
 "cells": [
  {
   "cell_type": "code",
   "execution_count": null,
   "id": "61f381d3",
   "metadata": {},
   "outputs": [],
   "source": [
    "import numpy as np\n",
    "import matplotlib.pyplot as plt\n",
    "from fixedincomelib.analytics import TimeDecayLognormalSABR\n",
    "from pysabr.models.hagan_2002_lognormal_sabr import Hagan2002LognormalSABR\n",
    "from pysabr.black import shifted_lognormal_call, normal_call\n",
    "from fixedincomelib.analytics.basics import one_third_rule"
   ]
  },
  {
   "cell_type": "markdown",
   "id": "b6798a27",
   "metadata": {},
   "source": [
    "No-decay sanity check"
   ]
  },
  {
   "cell_type": "code",
   "execution_count": 23,
   "id": "f1644dca",
   "metadata": {},
   "outputs": [
    {
     "name": "stdout",
     "output_type": "stream",
     "text": [
      "[0.54232374 0.38334532 0.31621941 0.2906264  0.28452576] [0.54232374 0.38334532 0.31621941 0.2906264  0.28452576]\n"
     ]
    }
   ],
   "source": [
    "f, shift, t = 0.03, 0.0, 2.0\n",
    "atm_n, beta, rho, nu = 0.01, 0.5, -0.3, 0.4\n",
    "q = 1.234\n",
    "decay_start = t\n",
    "\n",
    "vanilla = Hagan2002LognormalSABR(f, shift, t, atm_n, beta, rho, nu)\n",
    "decay   = TimeDecayLognormalSABR(f, shift, t, atm_n, beta, rho, nu, q, decay_start)\n",
    "\n",
    "ks = np.linspace(0.01, 0.06, 5)\n",
    "v_van = np.array([vanilla.lognormal_vol(k) for k in ks])\n",
    "v_dec = np.array([decay.lognormal_vol(k)   for k in ks])\n",
    "\n",
    "print(v_van,v_dec)\n"
   ]
  },
  {
   "cell_type": "markdown",
   "id": "69a07bf6",
   "metadata": {},
   "source": [
    "One-Third Rule"
   ]
  },
  {
   "cell_type": "code",
   "execution_count": null,
   "id": "79a0594e",
   "metadata": {},
   "outputs": [
    {
     "name": "stdout",
     "output_type": "stream",
     "text": [
      "Decay start (τ₀):          0.5\n",
      "Model-implied normal vol:  0.842395\n",
      "One-third rule approx vol: 0.081650\n"
     ]
    }
   ],
   "source": [
    "f            = 0.06\n",
    "shift        = 0.0\n",
    "t            = 1\n",
    "atm_n        = 0.1\n",
    "beta, rho    = 0.0, -0.3\n",
    "nu           = 0\n",
    "q            = 1\n",
    "decayStart = 0.5\n",
    "\n",
    "decay_model = TimeDecayLognormalSABR(\n",
    "    f, shift, t, atm_n, beta, rho, nu, q, decayStart\n",
    ")\n",
    "sigma_model_normal = decay_model.lognormal_vol(f)\n",
    "\n",
    "sigma_approx  = one_third_rule(atm_n, decayStart, t)\n",
    "\n",
    "print(f\"Decay start (τ₀):          {decayStart}\")\n",
    "print(f\"Model-implied normal vol:  {sigma_model_normal:.6f}\")\n",
    "print(f\"One-third rule approx vol: {sigma_approx:.6f}\")"
   ]
  }
 ],
 "metadata": {
  "kernelspec": {
   "display_name": "Python 3",
   "language": "python",
   "name": "python3"
  },
  "language_info": {
   "codemirror_mode": {
    "name": "ipython",
    "version": 3
   },
   "file_extension": ".py",
   "mimetype": "text/x-python",
   "name": "python",
   "nbconvert_exporter": "python",
   "pygments_lexer": "ipython3",
   "version": "3.12.5"
  }
 },
 "nbformat": 4,
 "nbformat_minor": 5
}
