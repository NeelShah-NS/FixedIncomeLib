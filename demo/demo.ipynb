{
 "cells": [
  {
   "cell_type": "code",
   "execution_count": 1,
   "id": "8aa22df8",
   "metadata": {},
   "outputs": [],
   "source": [
    "from product import ProductRfrFuture, ProductOvernightCapFloor, RfrFutureVisitor, OvernightCapFloorVisitor\n",
    "from yield_curve import YieldCurve\n",
    "from sabr import SabrModel\n",
    "from valuation import ValuationEngineRegistry, IndexManager\n",
    "from analytics import SABRCalculator\n",
    "from data import Data1D, Data2D, DataCollection\n",
    "from date import Date\n",
    "import pandas as pd"
   ]
  },
  {
   "cell_type": "code",
   "execution_count": 2,
   "id": "38944823",
   "metadata": {},
   "outputs": [],
   "source": [
    "curve_data = [\n",
    "    [\"SOFR-1B\",            \"1M\",  0.0020],\n",
    "    [\"SOFR-1B\",            \"3M\",  0.0025],\n",
    "    [\"SOFR-1B\",            \"6M\",  0.0030],\n",
    "]\n",
    "df_curve = pd.DataFrame(curve_data, columns=[\"INDEX\",\"AXIS1\",\"VALUES\"])\n",
    "\n",
    "sabr_data = pd.DataFrame([\n",
    "    [\"SOFR-1B\", 0.25, 0.25, 0.010, 0.5, 0.2, -0.1],\n",
    "    [\"SOFR-1B\", 0.25, 1.00, 0.012, 0.5, 0.2, -0.1],\n",
    "    [\"SOFR-1B\", 1.00, 0.25, 0.013, 0.5, 0.2, -0.1],\n",
    "    [\"SOFR-1B\", 1.00, 1.00, 0.015, 0.5, 0.2, -0.1],\n",
    "], columns=[\"INDEX\",\"AXIS1\",\"AXIS2\",\"NORMALVOL\",\"BETA\",\"NU\",\"RHO\"])"
   ]
  },
  {
   "cell_type": "code",
   "execution_count": 3,
   "id": "645bc94e",
   "metadata": {},
   "outputs": [],
   "source": [
    "data_objs = []\n",
    "d1 = Data1D.createDataObject(\n",
    "    data_type       = \"zero_rate\",\n",
    "    data_convention = \"SOFR-1B\",\n",
    "    df              = df_curve[[\"AXIS1\",\"VALUES\"]]\n",
    ")\n",
    "data_objs.append(d1)\n",
    "\n",
    "dc = DataCollection(data_objs)\n",
    "\n",
    "for idx_name, sub in sabr_data.groupby(\"INDEX\"):\n",
    "    for param in [\"NORMALVOL\",\"BETA\",\"NU\",\"RHO\"]:\n",
    "        pivot = (\n",
    "            sub\n",
    "            .pivot(index=\"AXIS1\", columns=\"AXIS2\", values=param)\n",
    "            .sort_index(axis=0).sort_index(axis=1)\n",
    "        )\n",
    "        d2 = Data2D.createDataObject(\n",
    "            data_type       = param.lower(),\n",
    "            data_convention = idx_name,\n",
    "            df              = pivot\n",
    "        )\n",
    "        data_objs.append(d2)\n",
    "\n",
    "dc = DataCollection(data_objs)"
   ]
  },
  {
   "cell_type": "code",
   "execution_count": 4,
   "id": "326a8e21",
   "metadata": {},
   "outputs": [],
   "source": [
    "value_date = \"2025-09-12\"\n",
    "\n",
    "build_method_yc = [\n",
    "    {\n",
    "        \"TARGET\" : \"SOFR-1B\",\n",
    "        \"INTERPOLATION METHOD\" : \"PIECEWISE_CONSTANT\"\n",
    "    }\n",
    "]\n",
    "\n",
    "yc = YieldCurve(value_date, dc, build_method_yc)\n"
   ]
  },
  {
   "cell_type": "code",
   "execution_count": 5,
   "id": "e3c50e9a",
   "metadata": {},
   "outputs": [],
   "source": [
    "rfr_future = ProductRfrFuture(effectiveDate= \"2026-09-12\", termOrEnd=\"3M\", index= \"SOFR-1B\", compounding=\"AVERAGE\", strike=98.75, notional= 10000, longOrShort=\"SHORT\")"
   ]
  },
  {
   "cell_type": "code",
   "execution_count": 6,
   "id": "dc6e118b",
   "metadata": {},
   "outputs": [
    {
     "data": {
      "text/html": [
       "<div>\n",
       "<style scoped>\n",
       "    .dataframe tbody tr th:only-of-type {\n",
       "        vertical-align: middle;\n",
       "    }\n",
       "\n",
       "    .dataframe tbody tr th {\n",
       "        vertical-align: top;\n",
       "    }\n",
       "\n",
       "    .dataframe thead th {\n",
       "        text-align: right;\n",
       "    }\n",
       "</style>\n",
       "<table border=\"1\" class=\"dataframe\">\n",
       "  <thead>\n",
       "    <tr style=\"text-align: right;\">\n",
       "      <th></th>\n",
       "      <th>Attribute</th>\n",
       "      <th>Value</th>\n",
       "    </tr>\n",
       "  </thead>\n",
       "  <tbody>\n",
       "    <tr>\n",
       "      <th>0</th>\n",
       "      <td>MaturityDate</td>\n",
       "      <td>2026-12-14</td>\n",
       "    </tr>\n",
       "    <tr>\n",
       "      <th>1</th>\n",
       "      <td>EffectiveDate</td>\n",
       "      <td>2026-09-12</td>\n",
       "    </tr>\n",
       "    <tr>\n",
       "      <th>2</th>\n",
       "      <td>TerminationDate</td>\n",
       "      <td>2026-12-14</td>\n",
       "    </tr>\n",
       "    <tr>\n",
       "      <th>3</th>\n",
       "      <td>AccrualFactor</td>\n",
       "      <td>0.255556</td>\n",
       "    </tr>\n",
       "    <tr>\n",
       "      <th>4</th>\n",
       "      <td>Compounding</td>\n",
       "      <td>AVERAGE</td>\n",
       "    </tr>\n",
       "    <tr>\n",
       "      <th>5</th>\n",
       "      <td>Index</td>\n",
       "      <td>SOFR-1B</td>\n",
       "    </tr>\n",
       "    <tr>\n",
       "      <th>6</th>\n",
       "      <td>Strike</td>\n",
       "      <td>98.75</td>\n",
       "    </tr>\n",
       "    <tr>\n",
       "      <th>7</th>\n",
       "      <td>Notional</td>\n",
       "      <td>10000</td>\n",
       "    </tr>\n",
       "    <tr>\n",
       "      <th>8</th>\n",
       "      <td>Currency</td>\n",
       "      <td>USD</td>\n",
       "    </tr>\n",
       "    <tr>\n",
       "      <th>9</th>\n",
       "      <td>LongOrShort</td>\n",
       "      <td>SHORT</td>\n",
       "    </tr>\n",
       "  </tbody>\n",
       "</table>\n",
       "</div>"
      ],
      "text/plain": [
       "         Attribute       Value\n",
       "0     MaturityDate  2026-12-14\n",
       "1    EffectiveDate  2026-09-12\n",
       "2  TerminationDate  2026-12-14\n",
       "3    AccrualFactor    0.255556\n",
       "4      Compounding     AVERAGE\n",
       "5            Index     SOFR-1B\n",
       "6           Strike       98.75\n",
       "7         Notional       10000\n",
       "8         Currency         USD\n",
       "9      LongOrShort       SHORT"
      ]
     },
     "execution_count": 6,
     "metadata": {},
     "output_type": "execute_result"
    }
   ],
   "source": [
    "rfr_future.accept(RfrFutureVisitor())"
   ]
  },
  {
   "cell_type": "code",
   "execution_count": 7,
   "id": "54780063",
   "metadata": {},
   "outputs": [
    {
     "data": {
      "text/plain": [
       "['USD', np.float64(-8943.510052475289)]"
      ]
     },
     "execution_count": 7,
     "metadata": {},
     "output_type": "execute_result"
    }
   ],
   "source": [
    "ve = ValuationEngineRegistry().new_valuation_engine(yc, {}, rfr_future,)\n",
    "\n",
    "ve.calculateValue()\n",
    "ve.value"
   ]
  },
  {
   "cell_type": "code",
   "execution_count": 8,
   "id": "79fd6eae",
   "metadata": {},
   "outputs": [],
   "source": [
    "from product import ProductOvernightSwap\n",
    "\n",
    "ois_swap = ProductOvernightSwap(effectiveDate=\"2026-09-12\", maturityDate= \"2028-09-12\", frequency=\"3M\", overnightIndex=\"SOFR-1B\", spread= 0, fixedRate=0.03, notional=1000000, position=\"SHORT\")"
   ]
  },
  {
   "cell_type": "code",
   "execution_count": 9,
   "id": "d16eda91",
   "metadata": {},
   "outputs": [
    {
     "data": {
      "text/html": [
       "<div>\n",
       "<style scoped>\n",
       "    .dataframe tbody tr th:only-of-type {\n",
       "        vertical-align: middle;\n",
       "    }\n",
       "\n",
       "    .dataframe tbody tr th {\n",
       "        vertical-align: top;\n",
       "    }\n",
       "\n",
       "    .dataframe thead th {\n",
       "        text-align: right;\n",
       "    }\n",
       "</style>\n",
       "<table border=\"1\" class=\"dataframe\">\n",
       "  <thead>\n",
       "    <tr style=\"text-align: right;\">\n",
       "      <th></th>\n",
       "      <th>Attribute</th>\n",
       "      <th>Value</th>\n",
       "    </tr>\n",
       "  </thead>\n",
       "  <tbody>\n",
       "    <tr>\n",
       "      <th>0</th>\n",
       "      <td>EffectiveDate</td>\n",
       "      <td>2026-09-12</td>\n",
       "    </tr>\n",
       "    <tr>\n",
       "      <th>1</th>\n",
       "      <td>MaturityDate</td>\n",
       "      <td>2028-09-12</td>\n",
       "    </tr>\n",
       "    <tr>\n",
       "      <th>2</th>\n",
       "      <td>FixedRate</td>\n",
       "      <td>0.03</td>\n",
       "    </tr>\n",
       "    <tr>\n",
       "      <th>3</th>\n",
       "      <td>Index</td>\n",
       "      <td>SOFR-1B</td>\n",
       "    </tr>\n",
       "    <tr>\n",
       "      <th>4</th>\n",
       "      <td>PayFixed</td>\n",
       "      <td>True</td>\n",
       "    </tr>\n",
       "    <tr>\n",
       "      <th>5</th>\n",
       "      <td>Notional</td>\n",
       "      <td>1000000</td>\n",
       "    </tr>\n",
       "    <tr>\n",
       "      <th>6</th>\n",
       "      <td>Currency</td>\n",
       "      <td>USD</td>\n",
       "    </tr>\n",
       "    <tr>\n",
       "      <th>7</th>\n",
       "      <td>LongOrShort</td>\n",
       "      <td>SHORT</td>\n",
       "    </tr>\n",
       "  </tbody>\n",
       "</table>\n",
       "</div>"
      ],
      "text/plain": [
       "       Attribute       Value\n",
       "0  EffectiveDate  2026-09-12\n",
       "1   MaturityDate  2028-09-12\n",
       "2      FixedRate        0.03\n",
       "3          Index     SOFR-1B\n",
       "4       PayFixed        True\n",
       "5       Notional     1000000\n",
       "6       Currency         USD\n",
       "7    LongOrShort       SHORT"
      ]
     },
     "execution_count": 9,
     "metadata": {},
     "output_type": "execute_result"
    }
   ],
   "source": [
    "from product import OvernightSwapVisitor\n",
    "\n",
    "ois_swap.accept(OvernightSwapVisitor())"
   ]
  },
  {
   "cell_type": "code",
   "execution_count": 10,
   "id": "62d50897",
   "metadata": {},
   "outputs": [
    {
     "data": {
      "text/plain": [
       "['USD', np.float64(-7999665.53299931)]"
      ]
     },
     "execution_count": 10,
     "metadata": {},
     "output_type": "execute_result"
    }
   ],
   "source": [
    "ve1 = ValuationEngineRegistry().new_valuation_engine(yc,{\"FUNDING INDEX\": \"SOFR-1B\"},ois_swap)\n",
    "ve1.calculateValue()\n",
    "ve1.value"
   ]
  },
  {
   "cell_type": "code",
   "execution_count": null,
   "id": "c4152392",
   "metadata": {},
   "outputs": [
    {
     "data": {
      "text/plain": [
       "np.float64(185.65917040950015)"
      ]
     },
     "execution_count": 11,
     "metadata": {},
     "output_type": "execute_result"
    }
   ],
   "source": [
    "ve1.parRateOrSpread()\n"
   ]
  }
 ],
 "metadata": {
  "kernelspec": {
   "display_name": "Python 3",
   "language": "python",
   "name": "python3"
  },
  "language_info": {
   "codemirror_mode": {
    "name": "ipython",
    "version": 3
   },
   "file_extension": ".py",
   "mimetype": "text/x-python",
   "name": "python",
   "nbconvert_exporter": "python",
   "pygments_lexer": "ipython3",
   "version": "3.12.5"
  }
 },
 "nbformat": 4,
 "nbformat_minor": 5
}
